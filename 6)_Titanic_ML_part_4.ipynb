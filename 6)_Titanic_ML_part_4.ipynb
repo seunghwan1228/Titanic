{
  "nbformat": 4,
  "nbformat_minor": 0,
  "metadata": {
    "colab": {
      "name": "6) Titanic ML_part_4.ipynb",
      "version": "0.3.2",
      "provenance": [],
      "collapsed_sections": [
        "WRAuvB-bZ0FK",
        "7O1D-huyDpeW",
        "F6gL6jzsOZH8",
        "cN-hC_wAPIro",
        "A0R7ZO1vPGVP",
        "BjtieaX2zFDL"
      ],
      "include_colab_link": true
    },
    "kernelspec": {
      "name": "python3",
      "display_name": "Python 3"
    },
    "accelerator": "GPU"
  },
  "cells": [
    {
      "cell_type": "markdown",
      "metadata": {
        "id": "view-in-github",
        "colab_type": "text"
      },
      "source": [
        "<a href=\"https://colab.research.google.com/github/seunghwan1228/Titanic/blob/master/6)_Titanic_ML_part_4.ipynb\" target=\"_parent\"><img src=\"https://colab.research.google.com/assets/colab-badge.svg\" alt=\"Open In Colab\"/></a>"
      ]
    },
    {
      "cell_type": "markdown",
      "metadata": {
        "id": "VeBMhuE5C5OX",
        "colab_type": "text"
      },
      "source": [
        "# This document contains several ML models, \n",
        "the baseline of accuracy is \n",
        "\n",
        "Training : 0.8441011235955056  ≈  84.41%\n",
        "\n",
        "Validation : 0.7988826815642458  ≈  79.89%\n",
        "---\n",
        "## Object : \n",
        "\n",
        "Running many different models and choose more valueable model to use \n",
        "\n",
        "---\n",
        "\n",
        "\n",
        "Part 2\n",
        "*  KNN\n",
        "* Naive Bayes\n",
        "* Logistic Regression\n",
        "* SVM - linear / kernel\n",
        "\n",
        "\n",
        "---\n",
        "\n",
        "part 3\n",
        "*  Decision Tree - with visualization\n",
        "*  Boosting - Adaboost / gradient boost\n",
        "*  RandomForest\n",
        "*  Ensemble - Vote classifier with (Randomforest, KNN, Naive Bayes, Logit, SVM, AdaBoost, XGBoost)\n",
        "\n",
        "\n",
        "\n",
        "---\n",
        "\n",
        "\n",
        "part 4\n",
        "*  ## Neural network with Keras"
      ]
    },
    {
      "cell_type": "code",
      "metadata": {
        "id": "W7c3TYDNC1TQ",
        "colab_type": "code",
        "colab": {}
      },
      "source": [
        "import pandas as pd\n",
        "import numpy as np\n",
        "import matplotlib.pyplot as plt\n",
        "import seaborn as sns\n",
        "import warnings\n",
        "from sklearn.model_selection import train_test_split\n",
        "from sklearn.model_selection import GridSearchCV\n",
        "from sklearn.model_selection import cross_val_score\n",
        "from sklearn.ensemble import VotingClassifier\n",
        "from sklearn.tree import DecisionTreeClassifier\n",
        "from sklearn.ensemble import AdaBoostClassifier, GradientBoostingClassifier\n",
        "from sklearn.ensemble import RandomForestClassifier\n",
        "from sklearn.neighbors import KNeighborsClassifier\n",
        "from sklearn.naive_bayes import BernoulliNB, GaussianNB\n",
        "from sklearn.linear_model import LogisticRegression\n",
        "from sklearn.svm import SVC\n",
        "from sklearn.metrics import roc_auc_score\n",
        "from sklearn.metrics import roc_curve\n",
        "from sklearn.metrics import confusion_matrix\n",
        "from sklearn.metrics import classification_report\n",
        "from sklearn.metrics import accuracy_score\n",
        "from xgboost import XGBClassifier\n",
        "from sklearn.tree import export_graphviz\n",
        "import graphviz\n",
        "\n",
        "from keras import models, layers\n",
        "from keras.losses import binary_crossentropy\n",
        "from keras import callbacks\n",
        "from keras.wrappers.scikit_learn import KerasClassifier\n",
        "from sklearn.model_selection import KFold\n",
        "\n",
        "warnings.filterwarnings('ignore')\n",
        "plt.style.use('seaborn')"
      ],
      "execution_count": 0,
      "outputs": []
    },
    {
      "cell_type": "markdown",
      "metadata": {
        "id": "WRAuvB-bZ0FK",
        "colab_type": "text"
      },
      "source": [
        "# 0) pre_steps"
      ]
    },
    {
      "cell_type": "code",
      "metadata": {
        "id": "68AFqeodU1IR",
        "colab_type": "code",
        "colab": {}
      },
      "source": [
        "train = pd.read_csv('/content/drive/input/Titanic/working_dir/train_final.csv')"
      ],
      "execution_count": 0,
      "outputs": []
    },
    {
      "cell_type": "code",
      "metadata": {
        "id": "qxn3WWiHZ6c6",
        "colab_type": "code",
        "outputId": "e94f5c27-a97f-44a5-f108-8c942236af46",
        "colab": {
          "base_uri": "https://localhost:8080/",
          "height": 204
        }
      },
      "source": [
        "train.head()"
      ],
      "execution_count": 0,
      "outputs": [
        {
          "output_type": "execute_result",
          "data": {
            "text/html": [
              "<div>\n",
              "<style scoped>\n",
              "    .dataframe tbody tr th:only-of-type {\n",
              "        vertical-align: middle;\n",
              "    }\n",
              "\n",
              "    .dataframe tbody tr th {\n",
              "        vertical-align: top;\n",
              "    }\n",
              "\n",
              "    .dataframe thead th {\n",
              "        text-align: right;\n",
              "    }\n",
              "</style>\n",
              "<table border=\"1\" class=\"dataframe\">\n",
              "  <thead>\n",
              "    <tr style=\"text-align: right;\">\n",
              "      <th></th>\n",
              "      <th>0</th>\n",
              "      <th>1</th>\n",
              "      <th>2</th>\n",
              "      <th>3</th>\n",
              "      <th>4</th>\n",
              "      <th>5</th>\n",
              "      <th>6</th>\n",
              "      <th>7</th>\n",
              "      <th>8</th>\n",
              "      <th>9</th>\n",
              "      <th>10</th>\n",
              "      <th>11</th>\n",
              "      <th>12</th>\n",
              "      <th>13</th>\n",
              "      <th>14</th>\n",
              "      <th>15</th>\n",
              "      <th>16</th>\n",
              "      <th>17</th>\n",
              "      <th>18</th>\n",
              "      <th>19</th>\n",
              "      <th>20</th>\n",
              "      <th>21</th>\n",
              "      <th>22</th>\n",
              "      <th>23</th>\n",
              "      <th>24</th>\n",
              "      <th>25</th>\n",
              "      <th>26</th>\n",
              "      <th>27</th>\n",
              "      <th>28</th>\n",
              "      <th>Survived</th>\n",
              "    </tr>\n",
              "  </thead>\n",
              "  <tbody>\n",
              "    <tr>\n",
              "      <th>0</th>\n",
              "      <td>-0.502445</td>\n",
              "      <td>0.0</td>\n",
              "      <td>1.0</td>\n",
              "      <td>1.0</td>\n",
              "      <td>0.0</td>\n",
              "      <td>1.0</td>\n",
              "      <td>0.0</td>\n",
              "      <td>0.0</td>\n",
              "      <td>1.0</td>\n",
              "      <td>0.0</td>\n",
              "      <td>0.0</td>\n",
              "      <td>0.0</td>\n",
              "      <td>1.0</td>\n",
              "      <td>0.0</td>\n",
              "      <td>0.0</td>\n",
              "      <td>0.0</td>\n",
              "      <td>0.0</td>\n",
              "      <td>1.0</td>\n",
              "      <td>0.0</td>\n",
              "      <td>0.0</td>\n",
              "      <td>0.0</td>\n",
              "      <td>0.0</td>\n",
              "      <td>0.0</td>\n",
              "      <td>0.0</td>\n",
              "      <td>0.0</td>\n",
              "      <td>0.0</td>\n",
              "      <td>0.0</td>\n",
              "      <td>0.0</td>\n",
              "      <td>0.0</td>\n",
              "      <td>0</td>\n",
              "    </tr>\n",
              "    <tr>\n",
              "      <th>1</th>\n",
              "      <td>0.786845</td>\n",
              "      <td>0.0</td>\n",
              "      <td>0.0</td>\n",
              "      <td>0.0</td>\n",
              "      <td>0.0</td>\n",
              "      <td>0.0</td>\n",
              "      <td>0.0</td>\n",
              "      <td>0.0</td>\n",
              "      <td>0.0</td>\n",
              "      <td>1.0</td>\n",
              "      <td>0.0</td>\n",
              "      <td>0.0</td>\n",
              "      <td>0.0</td>\n",
              "      <td>1.0</td>\n",
              "      <td>0.0</td>\n",
              "      <td>0.0</td>\n",
              "      <td>1.0</td>\n",
              "      <td>1.0</td>\n",
              "      <td>0.0</td>\n",
              "      <td>0.0</td>\n",
              "      <td>0.0</td>\n",
              "      <td>0.0</td>\n",
              "      <td>0.0</td>\n",
              "      <td>0.0</td>\n",
              "      <td>0.0</td>\n",
              "      <td>0.0</td>\n",
              "      <td>0.0</td>\n",
              "      <td>0.0</td>\n",
              "      <td>0.0</td>\n",
              "      <td>1</td>\n",
              "    </tr>\n",
              "    <tr>\n",
              "      <th>2</th>\n",
              "      <td>-0.488854</td>\n",
              "      <td>0.0</td>\n",
              "      <td>1.0</td>\n",
              "      <td>0.0</td>\n",
              "      <td>0.0</td>\n",
              "      <td>1.0</td>\n",
              "      <td>0.0</td>\n",
              "      <td>0.0</td>\n",
              "      <td>1.0</td>\n",
              "      <td>0.0</td>\n",
              "      <td>0.0</td>\n",
              "      <td>1.0</td>\n",
              "      <td>0.0</td>\n",
              "      <td>0.0</td>\n",
              "      <td>0.0</td>\n",
              "      <td>0.0</td>\n",
              "      <td>0.0</td>\n",
              "      <td>0.0</td>\n",
              "      <td>0.0</td>\n",
              "      <td>0.0</td>\n",
              "      <td>0.0</td>\n",
              "      <td>0.0</td>\n",
              "      <td>0.0</td>\n",
              "      <td>0.0</td>\n",
              "      <td>0.0</td>\n",
              "      <td>0.0</td>\n",
              "      <td>0.0</td>\n",
              "      <td>0.0</td>\n",
              "      <td>0.0</td>\n",
              "      <td>1</td>\n",
              "    </tr>\n",
              "    <tr>\n",
              "      <th>3</th>\n",
              "      <td>0.420730</td>\n",
              "      <td>0.0</td>\n",
              "      <td>0.0</td>\n",
              "      <td>0.0</td>\n",
              "      <td>0.0</td>\n",
              "      <td>1.0</td>\n",
              "      <td>0.0</td>\n",
              "      <td>0.0</td>\n",
              "      <td>0.0</td>\n",
              "      <td>1.0</td>\n",
              "      <td>0.0</td>\n",
              "      <td>0.0</td>\n",
              "      <td>0.0</td>\n",
              "      <td>1.0</td>\n",
              "      <td>0.0</td>\n",
              "      <td>0.0</td>\n",
              "      <td>1.0</td>\n",
              "      <td>1.0</td>\n",
              "      <td>0.0</td>\n",
              "      <td>0.0</td>\n",
              "      <td>0.0</td>\n",
              "      <td>0.0</td>\n",
              "      <td>0.0</td>\n",
              "      <td>0.0</td>\n",
              "      <td>0.0</td>\n",
              "      <td>0.0</td>\n",
              "      <td>0.0</td>\n",
              "      <td>0.0</td>\n",
              "      <td>0.0</td>\n",
              "      <td>1</td>\n",
              "    </tr>\n",
              "    <tr>\n",
              "      <th>4</th>\n",
              "      <td>-0.486337</td>\n",
              "      <td>0.0</td>\n",
              "      <td>1.0</td>\n",
              "      <td>1.0</td>\n",
              "      <td>0.0</td>\n",
              "      <td>1.0</td>\n",
              "      <td>0.0</td>\n",
              "      <td>0.0</td>\n",
              "      <td>0.0</td>\n",
              "      <td>1.0</td>\n",
              "      <td>0.0</td>\n",
              "      <td>0.0</td>\n",
              "      <td>1.0</td>\n",
              "      <td>0.0</td>\n",
              "      <td>0.0</td>\n",
              "      <td>0.0</td>\n",
              "      <td>0.0</td>\n",
              "      <td>0.0</td>\n",
              "      <td>0.0</td>\n",
              "      <td>0.0</td>\n",
              "      <td>0.0</td>\n",
              "      <td>0.0</td>\n",
              "      <td>0.0</td>\n",
              "      <td>0.0</td>\n",
              "      <td>0.0</td>\n",
              "      <td>0.0</td>\n",
              "      <td>0.0</td>\n",
              "      <td>0.0</td>\n",
              "      <td>0.0</td>\n",
              "      <td>0</td>\n",
              "    </tr>\n",
              "  </tbody>\n",
              "</table>\n",
              "</div>"
            ],
            "text/plain": [
              "          0    1    2    3    4    5  ...   24   25   26   27   28  Survived\n",
              "0 -0.502445  0.0  1.0  1.0  0.0  1.0  ...  0.0  0.0  0.0  0.0  0.0         0\n",
              "1  0.786845  0.0  0.0  0.0  0.0  0.0  ...  0.0  0.0  0.0  0.0  0.0         1\n",
              "2 -0.488854  0.0  1.0  0.0  0.0  1.0  ...  0.0  0.0  0.0  0.0  0.0         1\n",
              "3  0.420730  0.0  0.0  0.0  0.0  1.0  ...  0.0  0.0  0.0  0.0  0.0         1\n",
              "4 -0.486337  0.0  1.0  1.0  0.0  1.0  ...  0.0  0.0  0.0  0.0  0.0         0\n",
              "\n",
              "[5 rows x 30 columns]"
            ]
          },
          "metadata": {
            "tags": []
          },
          "execution_count": 3
        }
      ]
    },
    {
      "cell_type": "code",
      "metadata": {
        "id": "PECKR_4LaJd7",
        "colab_type": "code",
        "colab": {}
      },
      "source": [
        "y = train.Survived\n",
        "X = train.drop('Survived', axis=1)"
      ],
      "execution_count": 0,
      "outputs": []
    },
    {
      "cell_type": "code",
      "metadata": {
        "id": "4vCzbAF9aJzD",
        "colab_type": "code",
        "outputId": "1150bd4e-8ad6-41a2-a61d-6c24f74674a4",
        "colab": {
          "base_uri": "https://localhost:8080/",
          "height": 53
        }
      },
      "source": [
        "print(X.shape)\n",
        "print(y.shape)"
      ],
      "execution_count": 0,
      "outputs": [
        {
          "output_type": "stream",
          "text": [
            "(891, 29)\n",
            "(891,)\n"
          ],
          "name": "stdout"
        }
      ]
    },
    {
      "cell_type": "code",
      "metadata": {
        "id": "h6PsFS0_aJua",
        "colab_type": "code",
        "colab": {}
      },
      "source": [
        "X_train, X_test, y_train, y_test = train_test_split(X, y, test_size= 0.2, random_state=42)"
      ],
      "execution_count": 0,
      "outputs": []
    },
    {
      "cell_type": "code",
      "metadata": {
        "id": "5TKd_miBaJkC",
        "colab_type": "code",
        "outputId": "d54c6b59-26d8-40e3-efa2-fba6914745d0",
        "colab": {
          "base_uri": "https://localhost:8080/",
          "height": 53
        }
      },
      "source": [
        "print(X_train.shape, y_train.shape)\n",
        "print(X_test.shape, y_test.shape)"
      ],
      "execution_count": 0,
      "outputs": [
        {
          "output_type": "stream",
          "text": [
            "(712, 29) (712,)\n",
            "(179, 29) (179,)\n"
          ],
          "name": "stdout"
        }
      ]
    },
    {
      "cell_type": "markdown",
      "metadata": {
        "id": "7O1D-huyDpeW",
        "colab_type": "text"
      },
      "source": [
        "# 1) Neural Network "
      ]
    },
    {
      "cell_type": "code",
      "metadata": {
        "id": "hHP6wM1aS87w",
        "colab_type": "code",
        "colab": {}
      },
      "source": [
        "np.random.seed(42)"
      ],
      "execution_count": 0,
      "outputs": []
    },
    {
      "cell_type": "markdown",
      "metadata": {
        "id": "F6gL6jzsOZH8",
        "colab_type": "text"
      },
      "source": [
        "## 1-1) "
      ]
    },
    {
      "cell_type": "code",
      "metadata": {
        "id": "dyq2YZteLUHX",
        "colab_type": "code",
        "outputId": "15978035-d1a5-4093-f853-0e393c10fb7c",
        "colab": {
          "base_uri": "https://localhost:8080/",
          "height": 251
        }
      },
      "source": [
        "network = models.Sequential()\n",
        "network.add(layers.Dense(10, activation = 'relu', input_shape=(29,)))\n",
        "network.add(layers.Dense(15, activation = 'relu'))\n",
        "network.add(layers.Dense(1, activation = 'sigmoid'))\n",
        "network.summary()\n",
        "\n",
        "network.compile(loss = binary_crossentropy, optimizer='adam', metrics=['accuracy'])"
      ],
      "execution_count": 0,
      "outputs": [
        {
          "output_type": "stream",
          "text": [
            "_________________________________________________________________\n",
            "Layer (type)                 Output Shape              Param #   \n",
            "=================================================================\n",
            "dense_204 (Dense)            (None, 10)                300       \n",
            "_________________________________________________________________\n",
            "dense_205 (Dense)            (None, 15)                165       \n",
            "_________________________________________________________________\n",
            "dense_206 (Dense)            (None, 1)                 16        \n",
            "=================================================================\n",
            "Total params: 481\n",
            "Trainable params: 481\n",
            "Non-trainable params: 0\n",
            "_________________________________________________________________\n"
          ],
          "name": "stdout"
        }
      ]
    },
    {
      "cell_type": "code",
      "metadata": {
        "id": "FbZ0-D-xLUFX",
        "colab_type": "code",
        "colab": {}
      },
      "source": [
        "network_history = network.fit(X_train, y_train, epochs=200, batch_size=64, validation_data=(X_test, y_test))"
      ],
      "execution_count": 0,
      "outputs": []
    },
    {
      "cell_type": "code",
      "metadata": {
        "id": "myPDxJkTMdBg",
        "colab_type": "code",
        "colab": {}
      },
      "source": [
        "model_history = network_history.history"
      ],
      "execution_count": 0,
      "outputs": []
    },
    {
      "cell_type": "code",
      "metadata": {
        "id": "ovmP8wTuMejS",
        "colab_type": "code",
        "outputId": "e45d9d18-3ad7-4868-993b-3d4d72016193",
        "colab": {
          "base_uri": "https://localhost:8080/",
          "height": 411
        }
      },
      "source": [
        "epochs = np.arange(1, 201)\n",
        "\n",
        "plt.figure(figsize=(14,6))\n",
        "plt.subplot(1,2,1)\n",
        "sns.set()\n",
        "plt.plot(epochs, model_history['val_loss'], 'b-', label = 'val_loss')\n",
        "plt.plot(epochs, model_history['loss'], 'r-', label = 'loss')\n",
        "plt.title('Loss')\n",
        "\n",
        "plt.subplot(1,2,2)\n",
        "sns.set()\n",
        "plt.plot(epochs, model_history['val_acc'], 'b-', label = 'val_loss')\n",
        "plt.plot(epochs, model_history['acc'], 'r-', label = 'loss')\n",
        "plt.title('Accuracy')"
      ],
      "execution_count": 0,
      "outputs": [
        {
          "output_type": "execute_result",
          "data": {
            "text/plain": [
              "Text(0.5, 1.0, 'Accuracy')"
            ]
          },
          "metadata": {
            "tags": []
          },
          "execution_count": 215
        },
        {
          "output_type": "display_data",
          "data": {
            "image/png": "[encoded data removed]",
            "text/plain": [
              "<Figure size 1008x432 with 2 Axes>"
            ]
          },
          "metadata": {
            "tags": []
          }
        }
      ]
    },
    {
      "cell_type": "markdown",
      "metadata": {
        "id": "rEOLXEC3ObhX",
        "colab_type": "text"
      },
      "source": [
        "### 1-1 ) Mark -  seems bottle-neck occurd"
      ]
    },
    {
      "cell_type": "markdown",
      "metadata": {
        "id": "cN-hC_wAPIro",
        "colab_type": "text"
      },
      "source": [
        "## 1-2)"
      ]
    },
    {
      "cell_type": "code",
      "metadata": {
        "id": "lqsFPAniDoze",
        "colab_type": "code",
        "outputId": "44960a26-2b51-4420-debe-2fa0fadbb4b2",
        "colab": {
          "base_uri": "https://localhost:8080/",
          "height": 251
        }
      },
      "source": [
        "network = models.Sequential()\n",
        "network.add(layers.Dense(30, activation = 'relu', input_shape=(29,)))\n",
        "network.add(layers.Dense(30, activation = 'relu'))\n",
        "network.add(layers.Dense(1, activation = 'sigmoid'))\n",
        "network.summary()\n",
        "\n",
        "network.compile(loss = binary_crossentropy, optimizer='adam', metrics=['accuracy'])"
      ],
      "execution_count": 0,
      "outputs": [
        {
          "output_type": "stream",
          "text": [
            "_________________________________________________________________\n",
            "Layer (type)                 Output Shape              Param #   \n",
            "=================================================================\n",
            "dense_207 (Dense)            (None, 30)                900       \n",
            "_________________________________________________________________\n",
            "dense_208 (Dense)            (None, 30)                930       \n",
            "_________________________________________________________________\n",
            "dense_209 (Dense)            (None, 1)                 31        \n",
            "=================================================================\n",
            "Total params: 1,861\n",
            "Trainable params: 1,861\n",
            "Non-trainable params: 0\n",
            "_________________________________________________________________\n"
          ],
          "name": "stdout"
        }
      ]
    },
    {
      "cell_type": "code",
      "metadata": {
        "id": "nDlB1cHCEay2",
        "colab_type": "code",
        "outputId": "1a9114b6-d637-4d21-f191-c302f5d441e0",
        "colab": {
          "base_uri": "https://localhost:8080/",
          "height": 3635
        }
      },
      "source": [
        "network_history = network.fit(X_train, y_train, epochs=100, batch_size=64, validation_data=(X_test, y_test))"
      ],
      "execution_count": 0,
      "outputs": [
        {
          "output_type": "stream",
          "text": [
            "Train on 712 samples, validate on 179 samples\n",
            "Epoch 1/100\n",
            "712/712 [==============================] - 4s 6ms/step - loss: 0.6585 - acc: 0.6292 - val_loss: 0.6450 - val_acc: 0.6034\n",
            "Epoch 2/100\n",
            "712/712 [==============================] - 0s 85us/step - loss: 0.6152 - acc: 0.6292 - val_loss: 0.6069 - val_acc: 0.6313\n",
            "Epoch 3/100\n",
            "712/712 [==============================] - 0s 74us/step - loss: 0.5781 - acc: 0.6685 - val_loss: 0.5710 - val_acc: 0.6816\n",
            "Epoch 4/100\n",
            "712/712 [==============================] - 0s 75us/step - loss: 0.5445 - acc: 0.7374 - val_loss: 0.5394 - val_acc: 0.7263\n",
            "Epoch 5/100\n",
            "712/712 [==============================] - 0s 76us/step - loss: 0.5148 - acc: 0.7851 - val_loss: 0.5124 - val_acc: 0.8045\n",
            "Epoch 6/100\n",
            "712/712 [==============================] - 0s 77us/step - loss: 0.4913 - acc: 0.7963 - val_loss: 0.4883 - val_acc: 0.8101\n",
            "Epoch 7/100\n",
            "712/712 [==============================] - 0s 73us/step - loss: 0.4708 - acc: 0.8118 - val_loss: 0.4735 - val_acc: 0.8045\n",
            "Epoch 8/100\n",
            "712/712 [==============================] - 0s 80us/step - loss: 0.4566 - acc: 0.8118 - val_loss: 0.4640 - val_acc: 0.8045\n",
            "Epoch 9/100\n",
            "712/712 [==============================] - 0s 73us/step - loss: 0.4468 - acc: 0.8146 - val_loss: 0.4586 - val_acc: 0.7989\n",
            "Epoch 10/100\n",
            "712/712 [==============================] - 0s 78us/step - loss: 0.4377 - acc: 0.8132 - val_loss: 0.4545 - val_acc: 0.7989\n",
            "Epoch 11/100\n",
            "712/712 [==============================] - 0s 77us/step - loss: 0.4313 - acc: 0.8146 - val_loss: 0.4533 - val_acc: 0.8045\n",
            "Epoch 12/100\n",
            "712/712 [==============================] - 0s 76us/step - loss: 0.4276 - acc: 0.8188 - val_loss: 0.4524 - val_acc: 0.8156\n",
            "Epoch 13/100\n",
            "712/712 [==============================] - 0s 78us/step - loss: 0.4223 - acc: 0.8230 - val_loss: 0.4517 - val_acc: 0.8045\n",
            "Epoch 14/100\n",
            "712/712 [==============================] - 0s 91us/step - loss: 0.4187 - acc: 0.8230 - val_loss: 0.4496 - val_acc: 0.8045\n",
            "Epoch 15/100\n",
            "712/712 [==============================] - 0s 75us/step - loss: 0.4159 - acc: 0.8329 - val_loss: 0.4521 - val_acc: 0.8045\n",
            "Epoch 16/100\n",
            "712/712 [==============================] - 0s 78us/step - loss: 0.4124 - acc: 0.8385 - val_loss: 0.4494 - val_acc: 0.7989\n",
            "Epoch 17/100\n",
            "712/712 [==============================] - 0s 75us/step - loss: 0.4080 - acc: 0.8329 - val_loss: 0.4481 - val_acc: 0.8101\n",
            "Epoch 18/100\n",
            "712/712 [==============================] - 0s 75us/step - loss: 0.4052 - acc: 0.8301 - val_loss: 0.4479 - val_acc: 0.8101\n",
            "Epoch 19/100\n",
            "712/712 [==============================] - 0s 75us/step - loss: 0.4024 - acc: 0.8357 - val_loss: 0.4482 - val_acc: 0.8101\n",
            "Epoch 20/100\n",
            "712/712 [==============================] - 0s 75us/step - loss: 0.4007 - acc: 0.8385 - val_loss: 0.4479 - val_acc: 0.7989\n",
            "Epoch 21/100\n",
            "712/712 [==============================] - 0s 76us/step - loss: 0.3981 - acc: 0.8399 - val_loss: 0.4470 - val_acc: 0.8045\n",
            "Epoch 22/100\n",
            "712/712 [==============================] - 0s 87us/step - loss: 0.3951 - acc: 0.8385 - val_loss: 0.4481 - val_acc: 0.8045\n",
            "Epoch 23/100\n",
            "712/712 [==============================] - 0s 78us/step - loss: 0.3927 - acc: 0.8385 - val_loss: 0.4478 - val_acc: 0.8045\n",
            "Epoch 24/100\n",
            "712/712 [==============================] - 0s 76us/step - loss: 0.3907 - acc: 0.8441 - val_loss: 0.4461 - val_acc: 0.8156\n",
            "Epoch 25/100\n",
            "712/712 [==============================] - 0s 76us/step - loss: 0.3896 - acc: 0.8413 - val_loss: 0.4455 - val_acc: 0.7989\n",
            "Epoch 26/100\n",
            "712/712 [==============================] - 0s 79us/step - loss: 0.3874 - acc: 0.8427 - val_loss: 0.4455 - val_acc: 0.7989\n",
            "Epoch 27/100\n",
            "712/712 [==============================] - 0s 77us/step - loss: 0.3852 - acc: 0.8427 - val_loss: 0.4465 - val_acc: 0.8101\n",
            "Epoch 28/100\n",
            "712/712 [==============================] - 0s 77us/step - loss: 0.3839 - acc: 0.8441 - val_loss: 0.4441 - val_acc: 0.8101\n",
            "Epoch 29/100\n",
            "712/712 [==============================] - 0s 74us/step - loss: 0.3812 - acc: 0.8441 - val_loss: 0.4427 - val_acc: 0.8101\n",
            "Epoch 30/100\n",
            "712/712 [==============================] - 0s 74us/step - loss: 0.3796 - acc: 0.8427 - val_loss: 0.4443 - val_acc: 0.8101\n",
            "Epoch 31/100\n",
            "712/712 [==============================] - 0s 81us/step - loss: 0.3774 - acc: 0.8413 - val_loss: 0.4459 - val_acc: 0.8101\n",
            "Epoch 32/100\n",
            "712/712 [==============================] - 0s 93us/step - loss: 0.3761 - acc: 0.8399 - val_loss: 0.4479 - val_acc: 0.7989\n",
            "Epoch 33/100\n",
            "712/712 [==============================] - 0s 78us/step - loss: 0.3751 - acc: 0.8427 - val_loss: 0.4494 - val_acc: 0.7989\n",
            "Epoch 34/100\n",
            "712/712 [==============================] - 0s 105us/step - loss: 0.3728 - acc: 0.8399 - val_loss: 0.4458 - val_acc: 0.8101\n",
            "Epoch 35/100\n",
            "712/712 [==============================] - 0s 82us/step - loss: 0.3725 - acc: 0.8427 - val_loss: 0.4462 - val_acc: 0.7989\n",
            "Epoch 36/100\n",
            "712/712 [==============================] - 0s 81us/step - loss: 0.3723 - acc: 0.8441 - val_loss: 0.4503 - val_acc: 0.8045\n",
            "Epoch 37/100\n",
            "712/712 [==============================] - 0s 84us/step - loss: 0.3708 - acc: 0.8413 - val_loss: 0.4482 - val_acc: 0.7989\n",
            "Epoch 38/100\n",
            "712/712 [==============================] - 0s 74us/step - loss: 0.3681 - acc: 0.8469 - val_loss: 0.4489 - val_acc: 0.7989\n",
            "Epoch 39/100\n",
            "712/712 [==============================] - 0s 74us/step - loss: 0.3662 - acc: 0.8455 - val_loss: 0.4470 - val_acc: 0.7989\n",
            "Epoch 40/100\n",
            "712/712 [==============================] - 0s 79us/step - loss: 0.3654 - acc: 0.8455 - val_loss: 0.4479 - val_acc: 0.7989\n",
            "Epoch 41/100\n",
            "712/712 [==============================] - 0s 77us/step - loss: 0.3648 - acc: 0.8469 - val_loss: 0.4517 - val_acc: 0.7933\n",
            "Epoch 42/100\n",
            "712/712 [==============================] - 0s 77us/step - loss: 0.3636 - acc: 0.8483 - val_loss: 0.4508 - val_acc: 0.7933\n",
            "Epoch 43/100\n",
            "712/712 [==============================] - 0s 75us/step - loss: 0.3625 - acc: 0.8455 - val_loss: 0.4524 - val_acc: 0.7933\n",
            "Epoch 44/100\n",
            "712/712 [==============================] - 0s 72us/step - loss: 0.3604 - acc: 0.8483 - val_loss: 0.4515 - val_acc: 0.7933\n",
            "Epoch 45/100\n",
            "712/712 [==============================] - 0s 74us/step - loss: 0.3597 - acc: 0.8483 - val_loss: 0.4514 - val_acc: 0.7933\n",
            "Epoch 46/100\n",
            "712/712 [==============================] - 0s 79us/step - loss: 0.3586 - acc: 0.8511 - val_loss: 0.4537 - val_acc: 0.7877\n",
            "Epoch 47/100\n",
            "712/712 [==============================] - 0s 77us/step - loss: 0.3578 - acc: 0.8483 - val_loss: 0.4557 - val_acc: 0.7877\n",
            "Epoch 48/100\n",
            "712/712 [==============================] - 0s 77us/step - loss: 0.3575 - acc: 0.8497 - val_loss: 0.4569 - val_acc: 0.7933\n",
            "Epoch 49/100\n",
            "712/712 [==============================] - 0s 75us/step - loss: 0.3559 - acc: 0.8511 - val_loss: 0.4546 - val_acc: 0.7877\n",
            "Epoch 50/100\n",
            "712/712 [==============================] - 0s 110us/step - loss: 0.3543 - acc: 0.8511 - val_loss: 0.4551 - val_acc: 0.7877\n",
            "Epoch 51/100\n",
            "712/712 [==============================] - 0s 75us/step - loss: 0.3531 - acc: 0.8497 - val_loss: 0.4580 - val_acc: 0.7877\n",
            "Epoch 52/100\n",
            "712/712 [==============================] - 0s 77us/step - loss: 0.3529 - acc: 0.8525 - val_loss: 0.4612 - val_acc: 0.7877\n",
            "Epoch 53/100\n",
            "712/712 [==============================] - 0s 73us/step - loss: 0.3537 - acc: 0.8511 - val_loss: 0.4638 - val_acc: 0.7877\n",
            "Epoch 54/100\n",
            "712/712 [==============================] - 0s 76us/step - loss: 0.3511 - acc: 0.8525 - val_loss: 0.4619 - val_acc: 0.7877\n",
            "Epoch 55/100\n",
            "712/712 [==============================] - 0s 78us/step - loss: 0.3493 - acc: 0.8567 - val_loss: 0.4615 - val_acc: 0.7877\n",
            "Epoch 56/100\n",
            "712/712 [==============================] - 0s 77us/step - loss: 0.3489 - acc: 0.8539 - val_loss: 0.4622 - val_acc: 0.7821\n",
            "Epoch 57/100\n",
            "712/712 [==============================] - 0s 75us/step - loss: 0.3485 - acc: 0.8581 - val_loss: 0.4564 - val_acc: 0.7989\n",
            "Epoch 58/100\n",
            "712/712 [==============================] - 0s 80us/step - loss: 0.3483 - acc: 0.8596 - val_loss: 0.4586 - val_acc: 0.7877\n",
            "Epoch 59/100\n",
            "712/712 [==============================] - 0s 77us/step - loss: 0.3484 - acc: 0.8511 - val_loss: 0.4654 - val_acc: 0.7989\n",
            "Epoch 60/100\n",
            "712/712 [==============================] - 0s 78us/step - loss: 0.3471 - acc: 0.8610 - val_loss: 0.4588 - val_acc: 0.7933\n",
            "Epoch 61/100\n",
            "712/712 [==============================] - 0s 79us/step - loss: 0.3444 - acc: 0.8567 - val_loss: 0.4674 - val_acc: 0.7821\n",
            "Epoch 62/100\n",
            "712/712 [==============================] - 0s 73us/step - loss: 0.3438 - acc: 0.8511 - val_loss: 0.4654 - val_acc: 0.7877\n",
            "Epoch 63/100\n",
            "712/712 [==============================] - 0s 77us/step - loss: 0.3424 - acc: 0.8539 - val_loss: 0.4695 - val_acc: 0.7989\n",
            "Epoch 64/100\n",
            "712/712 [==============================] - 0s 79us/step - loss: 0.3412 - acc: 0.8553 - val_loss: 0.4753 - val_acc: 0.8045\n",
            "Epoch 65/100\n",
            "712/712 [==============================] - 0s 76us/step - loss: 0.3427 - acc: 0.8553 - val_loss: 0.4730 - val_acc: 0.7989\n",
            "Epoch 66/100\n",
            "712/712 [==============================] - 0s 75us/step - loss: 0.3397 - acc: 0.8624 - val_loss: 0.4690 - val_acc: 0.7933\n",
            "Epoch 67/100\n",
            "712/712 [==============================] - 0s 72us/step - loss: 0.3420 - acc: 0.8610 - val_loss: 0.4680 - val_acc: 0.7933\n",
            "Epoch 68/100\n",
            "712/712 [==============================] - 0s 101us/step - loss: 0.3377 - acc: 0.8596 - val_loss: 0.4756 - val_acc: 0.7877\n",
            "Epoch 69/100\n",
            "712/712 [==============================] - 0s 81us/step - loss: 0.3373 - acc: 0.8652 - val_loss: 0.4682 - val_acc: 0.7989\n",
            "Epoch 70/100\n",
            "712/712 [==============================] - 0s 75us/step - loss: 0.3381 - acc: 0.8553 - val_loss: 0.4707 - val_acc: 0.7933\n",
            "Epoch 71/100\n",
            "712/712 [==============================] - 0s 74us/step - loss: 0.3366 - acc: 0.8624 - val_loss: 0.4757 - val_acc: 0.8101\n",
            "Epoch 72/100\n",
            "712/712 [==============================] - 0s 79us/step - loss: 0.3350 - acc: 0.8638 - val_loss: 0.4769 - val_acc: 0.8045\n",
            "Epoch 73/100\n",
            "712/712 [==============================] - 0s 80us/step - loss: 0.3344 - acc: 0.8638 - val_loss: 0.4788 - val_acc: 0.7933\n",
            "Epoch 74/100\n",
            "712/712 [==============================] - 0s 76us/step - loss: 0.3345 - acc: 0.8624 - val_loss: 0.4789 - val_acc: 0.7933\n",
            "Epoch 75/100\n",
            "712/712 [==============================] - 0s 71us/step - loss: 0.3337 - acc: 0.8624 - val_loss: 0.4773 - val_acc: 0.8045\n",
            "Epoch 76/100\n",
            "712/712 [==============================] - 0s 78us/step - loss: 0.3313 - acc: 0.8652 - val_loss: 0.4802 - val_acc: 0.7989\n",
            "Epoch 77/100\n",
            "712/712 [==============================] - 0s 76us/step - loss: 0.3310 - acc: 0.8652 - val_loss: 0.4820 - val_acc: 0.7989\n",
            "Epoch 78/100\n",
            "712/712 [==============================] - 0s 76us/step - loss: 0.3308 - acc: 0.8624 - val_loss: 0.4812 - val_acc: 0.8045\n",
            "Epoch 79/100\n",
            "712/712 [==============================] - 0s 78us/step - loss: 0.3291 - acc: 0.8638 - val_loss: 0.4864 - val_acc: 0.7933\n",
            "Epoch 80/100\n",
            "712/712 [==============================] - 0s 76us/step - loss: 0.3295 - acc: 0.8652 - val_loss: 0.4926 - val_acc: 0.7933\n",
            "Epoch 81/100\n",
            "712/712 [==============================] - 0s 75us/step - loss: 0.3283 - acc: 0.8652 - val_loss: 0.4923 - val_acc: 0.7933\n",
            "Epoch 82/100\n",
            "712/712 [==============================] - 0s 82us/step - loss: 0.3291 - acc: 0.8610 - val_loss: 0.4941 - val_acc: 0.7989\n",
            "Epoch 83/100\n",
            "712/712 [==============================] - 0s 75us/step - loss: 0.3278 - acc: 0.8624 - val_loss: 0.5055 - val_acc: 0.7933\n",
            "Epoch 84/100\n",
            "712/712 [==============================] - 0s 73us/step - loss: 0.3265 - acc: 0.8610 - val_loss: 0.4964 - val_acc: 0.7933\n",
            "Epoch 85/100\n",
            "712/712 [==============================] - 0s 75us/step - loss: 0.3269 - acc: 0.8610 - val_loss: 0.4982 - val_acc: 0.8045\n",
            "Epoch 86/100\n",
            "712/712 [==============================] - 0s 98us/step - loss: 0.3253 - acc: 0.8680 - val_loss: 0.5036 - val_acc: 0.7933\n",
            "Epoch 87/100\n",
            "712/712 [==============================] - 0s 81us/step - loss: 0.3236 - acc: 0.8694 - val_loss: 0.5025 - val_acc: 0.8045\n",
            "Epoch 88/100\n",
            "712/712 [==============================] - 0s 79us/step - loss: 0.3239 - acc: 0.8610 - val_loss: 0.5048 - val_acc: 0.7989\n",
            "Epoch 89/100\n",
            "712/712 [==============================] - 0s 75us/step - loss: 0.3230 - acc: 0.8666 - val_loss: 0.5075 - val_acc: 0.7933\n",
            "Epoch 90/100\n",
            "712/712 [==============================] - 0s 77us/step - loss: 0.3224 - acc: 0.8666 - val_loss: 0.5091 - val_acc: 0.7933\n",
            "Epoch 91/100\n",
            "712/712 [==============================] - 0s 77us/step - loss: 0.3248 - acc: 0.8638 - val_loss: 0.5103 - val_acc: 0.7877\n",
            "Epoch 92/100\n",
            "712/712 [==============================] - 0s 78us/step - loss: 0.3209 - acc: 0.8694 - val_loss: 0.5147 - val_acc: 0.7933\n",
            "Epoch 93/100\n",
            "712/712 [==============================] - 0s 78us/step - loss: 0.3205 - acc: 0.8680 - val_loss: 0.5152 - val_acc: 0.7933\n",
            "Epoch 94/100\n",
            "712/712 [==============================] - 0s 79us/step - loss: 0.3209 - acc: 0.8638 - val_loss: 0.5118 - val_acc: 0.7989\n",
            "Epoch 95/100\n",
            "712/712 [==============================] - 0s 80us/step - loss: 0.3195 - acc: 0.8666 - val_loss: 0.5089 - val_acc: 0.8045\n",
            "Epoch 96/100\n",
            "712/712 [==============================] - 0s 75us/step - loss: 0.3181 - acc: 0.8680 - val_loss: 0.5122 - val_acc: 0.8045\n",
            "Epoch 97/100\n",
            "712/712 [==============================] - 0s 77us/step - loss: 0.3185 - acc: 0.8666 - val_loss: 0.5144 - val_acc: 0.8045\n",
            "Epoch 98/100\n",
            "712/712 [==============================] - 0s 76us/step - loss: 0.3189 - acc: 0.8652 - val_loss: 0.5101 - val_acc: 0.7877\n",
            "Epoch 99/100\n",
            "712/712 [==============================] - 0s 77us/step - loss: 0.3161 - acc: 0.8680 - val_loss: 0.5168 - val_acc: 0.8045\n",
            "Epoch 100/100\n",
            "712/712 [==============================] - 0s 78us/step - loss: 0.3184 - acc: 0.8694 - val_loss: 0.5179 - val_acc: 0.7989\n"
          ],
          "name": "stdout"
        }
      ]
    },
    {
      "cell_type": "code",
      "metadata": {
        "id": "ztzjn8UDbXgr",
        "colab_type": "code",
        "outputId": "ef9e6cbe-9ff5-4402-be16-88539747c548",
        "colab": {
          "base_uri": "https://localhost:8080/",
          "height": 411
        }
      },
      "source": [
        "model_history = network_history.history\n",
        "epochs = np.arange(1, 101)\n",
        "\n",
        "plt.figure(figsize=(14,6))\n",
        "plt.subplot(1,2,1)\n",
        "sns.set()\n",
        "plt.plot(epochs, model_history['val_loss'], 'b-', label = 'val_loss')\n",
        "plt.plot(epochs, model_history['loss'], 'r-', label = 'loss')\n",
        "plt.title('Loss')\n",
        "\n",
        "plt.subplot(1,2,2)\n",
        "sns.set()\n",
        "plt.plot(epochs, model_history['val_acc'], 'b-', label = 'val_loss')\n",
        "plt.plot(epochs, model_history['acc'], 'r-', label = 'loss')\n",
        "plt.title('Accuracy')"
      ],
      "execution_count": 0,
      "outputs": [
        {
          "output_type": "execute_result",
          "data": {
            "text/plain": [
              "Text(0.5, 1.0, 'Accuracy')"
            ]
          },
          "metadata": {
            "tags": []
          },
          "execution_count": 219
        },
        {
          "output_type": "display_data",
          "data": {
            "image/png": "[encoded data removed]",
            "text/plain": [
              "<Figure size 1008x432 with 2 Axes>"
            ]
          },
          "metadata": {
            "tags": []
          }
        }
      ]
    },
    {
      "cell_type": "code",
      "metadata": {
        "id": "mvAAcReEGB23",
        "colab_type": "code",
        "outputId": "ba38e252-4773-4565-a9ea-286a9dedbccc",
        "colab": {
          "base_uri": "https://localhost:8080/",
          "height": 53
        }
      },
      "source": [
        "network.evaluate(X_train, y_train)"
      ],
      "execution_count": 0,
      "outputs": [
        {
          "output_type": "stream",
          "text": [
            "712/712 [==============================] - 0s 54us/step\n"
          ],
          "name": "stdout"
        },
        {
          "output_type": "execute_result",
          "data": {
            "text/plain": [
              "[0.26948929569694435, 0.8904494382022472]"
            ]
          },
          "metadata": {
            "tags": []
          },
          "execution_count": 43
        }
      ]
    },
    {
      "cell_type": "code",
      "metadata": {
        "id": "hByc0LkCLM94",
        "colab_type": "code",
        "colab": {}
      },
      "source": [
        "model_history = network_history.history"
      ],
      "execution_count": 0,
      "outputs": []
    },
    {
      "cell_type": "code",
      "metadata": {
        "id": "ioGU0YWNLUJo",
        "colab_type": "code",
        "outputId": "5c9ed40f-8457-47f0-dc63-25d7c87b7272",
        "colab": {
          "base_uri": "https://localhost:8080/",
          "height": 411
        }
      },
      "source": [
        "epochs = np.arange(1, 201)\n",
        "\n",
        "plt.figure(figsize=(14,6))\n",
        "plt.subplot(1,2,1)\n",
        "sns.set()\n",
        "plt.plot(epochs, model_history['val_loss'], 'b-', label = 'val_loss')\n",
        "plt.plot(epochs, model_history['loss'], 'r-', label = 'loss')\n",
        "plt.title('Loss')\n",
        "\n",
        "plt.subplot(1,2,2)\n",
        "sns.set()\n",
        "plt.plot(epochs, model_history['val_acc'], 'b-', label = 'val_loss')\n",
        "plt.plot(epochs, model_history['acc'], 'r-', label = 'loss')\n",
        "plt.title('Accuracy')"
      ],
      "execution_count": 0,
      "outputs": [
        {
          "output_type": "execute_result",
          "data": {
            "text/plain": [
              "Text(0.5, 1.0, 'Accuracy')"
            ]
          },
          "metadata": {
            "tags": []
          },
          "execution_count": 47
        },
        {
          "output_type": "display_data",
          "data": {
            "image/png": "[encoded data removed]",
            "text/plain": [
              "<Figure size 1008x432 with 2 Axes>"
            ]
          },
          "metadata": {
            "tags": []
          }
        }
      ]
    },
    {
      "cell_type": "markdown",
      "metadata": {
        "id": "A0R7ZO1vPGVP",
        "colab_type": "text"
      },
      "source": [
        "## 1-3)"
      ]
    },
    {
      "cell_type": "code",
      "metadata": {
        "id": "OvOe5v0gc31h",
        "colab_type": "code",
        "outputId": "74a1b723-9910-4618-bbf4-76137438f467",
        "colab": {
          "base_uri": "https://localhost:8080/",
          "height": 361
        }
      },
      "source": [
        "network = models.Sequential()\n",
        "network.add(layers.Dense(29, activation = 'relu', input_shape=(29,)))\n",
        "network.add(layers.Dropout(0.25))\n",
        "network.add(layers.Dense(20, activation = 'relu'))\n",
        "network.add(layers.Dense(1, activation = 'sigmoid'))\n",
        "network.summary()\n",
        "\n",
        "network.compile(loss = binary_crossentropy, optimizer='adam', metrics=['accuracy'])"
      ],
      "execution_count": 0,
      "outputs": [
        {
          "output_type": "stream",
          "text": [
            "W0617 08:06:27.979560 139980242290560 deprecation.py:506] From /usr/local/lib/python3.6/dist-packages/keras/backend/tensorflow_backend.py:3445: calling dropout (from tensorflow.python.ops.nn_ops) with keep_prob is deprecated and will be removed in a future version.\n",
            "Instructions for updating:\n",
            "Please use `rate` instead of `keep_prob`. Rate should be set to `rate = 1 - keep_prob`.\n"
          ],
          "name": "stderr"
        },
        {
          "output_type": "stream",
          "text": [
            "_________________________________________________________________\n",
            "Layer (type)                 Output Shape              Param #   \n",
            "=================================================================\n",
            "dense_13 (Dense)             (None, 29)                870       \n",
            "_________________________________________________________________\n",
            "dropout_1 (Dropout)          (None, 29)                0         \n",
            "_________________________________________________________________\n",
            "dense_14 (Dense)             (None, 20)                600       \n",
            "_________________________________________________________________\n",
            "dense_15 (Dense)             (None, 1)                 21        \n",
            "=================================================================\n",
            "Total params: 1,491\n",
            "Trainable params: 1,491\n",
            "Non-trainable params: 0\n",
            "_________________________________________________________________\n"
          ],
          "name": "stdout"
        }
      ]
    },
    {
      "cell_type": "code",
      "metadata": {
        "id": "phklZ7oac6j1",
        "colab_type": "code",
        "outputId": "8b1a760c-41dc-40ca-dc53-91e6739fb1ec",
        "colab": {
          "base_uri": "https://localhost:8080/",
          "height": 3635
        }
      },
      "source": [
        "network_history = network.fit(X_train, y_train, epochs=100, batch_size=64, validation_data=(X_test, y_test))"
      ],
      "execution_count": 0,
      "outputs": [
        {
          "output_type": "stream",
          "text": [
            "Train on 712 samples, validate on 179 samples\n",
            "Epoch 1/100\n",
            "712/712 [==============================] - 1s 877us/step - loss: 0.6676 - acc: 0.5857 - val_loss: 0.6286 - val_acc: 0.6927\n",
            "Epoch 2/100\n",
            "712/712 [==============================] - 0s 83us/step - loss: 0.6225 - acc: 0.6826 - val_loss: 0.5977 - val_acc: 0.7263\n",
            "Epoch 3/100\n",
            "712/712 [==============================] - 0s 63us/step - loss: 0.5882 - acc: 0.6896 - val_loss: 0.5730 - val_acc: 0.7374\n",
            "Epoch 4/100\n",
            "712/712 [==============================] - 0s 70us/step - loss: 0.5704 - acc: 0.7121 - val_loss: 0.5514 - val_acc: 0.7318\n",
            "Epoch 5/100\n",
            "712/712 [==============================] - 0s 66us/step - loss: 0.5498 - acc: 0.7374 - val_loss: 0.5318 - val_acc: 0.7542\n",
            "Epoch 6/100\n",
            "712/712 [==============================] - 0s 69us/step - loss: 0.5360 - acc: 0.7598 - val_loss: 0.5144 - val_acc: 0.7598\n",
            "Epoch 7/100\n",
            "712/712 [==============================] - 0s 69us/step - loss: 0.5146 - acc: 0.7851 - val_loss: 0.5009 - val_acc: 0.7709\n",
            "Epoch 8/100\n",
            "712/712 [==============================] - 0s 70us/step - loss: 0.5091 - acc: 0.7907 - val_loss: 0.4895 - val_acc: 0.7709\n",
            "Epoch 9/100\n",
            "712/712 [==============================] - 0s 78us/step - loss: 0.5009 - acc: 0.7935 - val_loss: 0.4818 - val_acc: 0.7821\n",
            "Epoch 10/100\n",
            "712/712 [==============================] - 0s 68us/step - loss: 0.4953 - acc: 0.8020 - val_loss: 0.4741 - val_acc: 0.7821\n",
            "Epoch 11/100\n",
            "712/712 [==============================] - 0s 68us/step - loss: 0.4861 - acc: 0.7992 - val_loss: 0.4676 - val_acc: 0.7765\n",
            "Epoch 12/100\n",
            "712/712 [==============================] - 0s 69us/step - loss: 0.4709 - acc: 0.8062 - val_loss: 0.4634 - val_acc: 0.7989\n",
            "Epoch 13/100\n",
            "712/712 [==============================] - 0s 66us/step - loss: 0.4806 - acc: 0.7992 - val_loss: 0.4603 - val_acc: 0.7989\n",
            "Epoch 14/100\n",
            "712/712 [==============================] - 0s 71us/step - loss: 0.4594 - acc: 0.8160 - val_loss: 0.4576 - val_acc: 0.7989\n",
            "Epoch 15/100\n",
            "712/712 [==============================] - 0s 69us/step - loss: 0.4565 - acc: 0.8272 - val_loss: 0.4556 - val_acc: 0.8045\n",
            "Epoch 16/100\n",
            "712/712 [==============================] - 0s 68us/step - loss: 0.4557 - acc: 0.8188 - val_loss: 0.4539 - val_acc: 0.8045\n",
            "Epoch 17/100\n",
            "712/712 [==============================] - 0s 66us/step - loss: 0.4488 - acc: 0.8132 - val_loss: 0.4525 - val_acc: 0.8045\n",
            "Epoch 18/100\n",
            "712/712 [==============================] - 0s 67us/step - loss: 0.4551 - acc: 0.8090 - val_loss: 0.4523 - val_acc: 0.7989\n",
            "Epoch 19/100\n",
            "712/712 [==============================] - 0s 75us/step - loss: 0.4539 - acc: 0.8048 - val_loss: 0.4530 - val_acc: 0.8045\n",
            "Epoch 20/100\n",
            "712/712 [==============================] - 0s 66us/step - loss: 0.4433 - acc: 0.8132 - val_loss: 0.4514 - val_acc: 0.8045\n",
            "Epoch 21/100\n",
            "712/712 [==============================] - 0s 74us/step - loss: 0.4453 - acc: 0.8188 - val_loss: 0.4498 - val_acc: 0.7989\n",
            "Epoch 22/100\n",
            "712/712 [==============================] - 0s 88us/step - loss: 0.4352 - acc: 0.8174 - val_loss: 0.4483 - val_acc: 0.8045\n",
            "Epoch 23/100\n",
            "712/712 [==============================] - 0s 66us/step - loss: 0.4335 - acc: 0.8230 - val_loss: 0.4477 - val_acc: 0.7989\n",
            "Epoch 24/100\n",
            "712/712 [==============================] - 0s 68us/step - loss: 0.4338 - acc: 0.8301 - val_loss: 0.4472 - val_acc: 0.7989\n",
            "Epoch 25/100\n",
            "712/712 [==============================] - 0s 68us/step - loss: 0.4267 - acc: 0.8258 - val_loss: 0.4485 - val_acc: 0.8101\n",
            "Epoch 26/100\n",
            "712/712 [==============================] - 0s 62us/step - loss: 0.4205 - acc: 0.8230 - val_loss: 0.4494 - val_acc: 0.7989\n",
            "Epoch 27/100\n",
            "712/712 [==============================] - 0s 62us/step - loss: 0.4229 - acc: 0.8258 - val_loss: 0.4478 - val_acc: 0.8045\n",
            "Epoch 28/100\n",
            "712/712 [==============================] - 0s 62us/step - loss: 0.4189 - acc: 0.8188 - val_loss: 0.4477 - val_acc: 0.8101\n",
            "Epoch 29/100\n",
            "712/712 [==============================] - 0s 61us/step - loss: 0.4236 - acc: 0.8287 - val_loss: 0.4483 - val_acc: 0.8045\n",
            "Epoch 30/100\n",
            "712/712 [==============================] - 0s 64us/step - loss: 0.4145 - acc: 0.8287 - val_loss: 0.4484 - val_acc: 0.8045\n",
            "Epoch 31/100\n",
            "712/712 [==============================] - 0s 64us/step - loss: 0.4074 - acc: 0.8399 - val_loss: 0.4498 - val_acc: 0.8045\n",
            "Epoch 32/100\n",
            "712/712 [==============================] - 0s 63us/step - loss: 0.4191 - acc: 0.8244 - val_loss: 0.4506 - val_acc: 0.8101\n",
            "Epoch 33/100\n",
            "712/712 [==============================] - 0s 60us/step - loss: 0.4016 - acc: 0.8343 - val_loss: 0.4506 - val_acc: 0.8101\n",
            "Epoch 34/100\n",
            "712/712 [==============================] - 0s 60us/step - loss: 0.4103 - acc: 0.8329 - val_loss: 0.4496 - val_acc: 0.8101\n",
            "Epoch 35/100\n",
            "712/712 [==============================] - 0s 66us/step - loss: 0.4123 - acc: 0.8258 - val_loss: 0.4494 - val_acc: 0.8101\n",
            "Epoch 36/100\n",
            "712/712 [==============================] - 0s 61us/step - loss: 0.4089 - acc: 0.8315 - val_loss: 0.4490 - val_acc: 0.8101\n",
            "Epoch 37/100\n",
            "712/712 [==============================] - 0s 61us/step - loss: 0.4070 - acc: 0.8343 - val_loss: 0.4495 - val_acc: 0.8101\n",
            "Epoch 38/100\n",
            "712/712 [==============================] - 0s 59us/step - loss: 0.4102 - acc: 0.8357 - val_loss: 0.4499 - val_acc: 0.8101\n",
            "Epoch 39/100\n",
            "712/712 [==============================] - 0s 58us/step - loss: 0.4055 - acc: 0.8343 - val_loss: 0.4504 - val_acc: 0.8101\n",
            "Epoch 40/100\n",
            "712/712 [==============================] - 0s 61us/step - loss: 0.4029 - acc: 0.8441 - val_loss: 0.4506 - val_acc: 0.8101\n",
            "Epoch 41/100\n",
            "712/712 [==============================] - 0s 61us/step - loss: 0.4163 - acc: 0.8329 - val_loss: 0.4534 - val_acc: 0.8045\n",
            "Epoch 42/100\n",
            "712/712 [==============================] - 0s 63us/step - loss: 0.4052 - acc: 0.8357 - val_loss: 0.4541 - val_acc: 0.8101\n",
            "Epoch 43/100\n",
            "712/712 [==============================] - 0s 61us/step - loss: 0.4108 - acc: 0.8329 - val_loss: 0.4524 - val_acc: 0.8101\n",
            "Epoch 44/100\n",
            "712/712 [==============================] - 0s 74us/step - loss: 0.4009 - acc: 0.8399 - val_loss: 0.4517 - val_acc: 0.8101\n",
            "Epoch 45/100\n",
            "712/712 [==============================] - 0s 72us/step - loss: 0.4057 - acc: 0.8258 - val_loss: 0.4531 - val_acc: 0.8045\n",
            "Epoch 46/100\n",
            "712/712 [==============================] - 0s 63us/step - loss: 0.4021 - acc: 0.8258 - val_loss: 0.4514 - val_acc: 0.8045\n",
            "Epoch 47/100\n",
            "712/712 [==============================] - 0s 65us/step - loss: 0.3974 - acc: 0.8272 - val_loss: 0.4514 - val_acc: 0.8045\n",
            "Epoch 48/100\n",
            "712/712 [==============================] - 0s 65us/step - loss: 0.4008 - acc: 0.8399 - val_loss: 0.4518 - val_acc: 0.8045\n",
            "Epoch 49/100\n",
            "712/712 [==============================] - 0s 68us/step - loss: 0.3919 - acc: 0.8371 - val_loss: 0.4523 - val_acc: 0.8045\n",
            "Epoch 50/100\n",
            "712/712 [==============================] - 0s 59us/step - loss: 0.4056 - acc: 0.8315 - val_loss: 0.4566 - val_acc: 0.8045\n",
            "Epoch 51/100\n",
            "712/712 [==============================] - 0s 62us/step - loss: 0.3881 - acc: 0.8483 - val_loss: 0.4574 - val_acc: 0.8045\n",
            "Epoch 52/100\n",
            "712/712 [==============================] - 0s 61us/step - loss: 0.4026 - acc: 0.8216 - val_loss: 0.4566 - val_acc: 0.7989\n",
            "Epoch 53/100\n",
            "712/712 [==============================] - 0s 60us/step - loss: 0.3919 - acc: 0.8357 - val_loss: 0.4545 - val_acc: 0.8101\n",
            "Epoch 54/100\n",
            "712/712 [==============================] - 0s 63us/step - loss: 0.3896 - acc: 0.8399 - val_loss: 0.4550 - val_acc: 0.8101\n",
            "Epoch 55/100\n",
            "712/712 [==============================] - 0s 68us/step - loss: 0.3962 - acc: 0.8287 - val_loss: 0.4587 - val_acc: 0.8045\n",
            "Epoch 56/100\n",
            "712/712 [==============================] - 0s 63us/step - loss: 0.3967 - acc: 0.8329 - val_loss: 0.4595 - val_acc: 0.8045\n",
            "Epoch 57/100\n",
            "712/712 [==============================] - 0s 61us/step - loss: 0.3977 - acc: 0.8399 - val_loss: 0.4561 - val_acc: 0.8212\n",
            "Epoch 58/100\n",
            "712/712 [==============================] - 0s 62us/step - loss: 0.4001 - acc: 0.8385 - val_loss: 0.4543 - val_acc: 0.8212\n",
            "Epoch 59/100\n",
            "712/712 [==============================] - 0s 61us/step - loss: 0.3946 - acc: 0.8329 - val_loss: 0.4513 - val_acc: 0.8156\n",
            "Epoch 60/100\n",
            "712/712 [==============================] - 0s 61us/step - loss: 0.3960 - acc: 0.8371 - val_loss: 0.4545 - val_acc: 0.7989\n",
            "Epoch 61/100\n",
            "712/712 [==============================] - 0s 64us/step - loss: 0.3722 - acc: 0.8427 - val_loss: 0.4575 - val_acc: 0.7877\n",
            "Epoch 62/100\n",
            "712/712 [==============================] - 0s 62us/step - loss: 0.3818 - acc: 0.8441 - val_loss: 0.4597 - val_acc: 0.7933\n",
            "Epoch 63/100\n",
            "712/712 [==============================] - 0s 62us/step - loss: 0.3775 - acc: 0.8441 - val_loss: 0.4598 - val_acc: 0.7933\n",
            "Epoch 64/100\n",
            "712/712 [==============================] - 0s 60us/step - loss: 0.3908 - acc: 0.8329 - val_loss: 0.4589 - val_acc: 0.7989\n",
            "Epoch 65/100\n",
            "712/712 [==============================] - 0s 62us/step - loss: 0.3716 - acc: 0.8441 - val_loss: 0.4573 - val_acc: 0.7989\n",
            "Epoch 66/100\n",
            "712/712 [==============================] - 0s 66us/step - loss: 0.3846 - acc: 0.8413 - val_loss: 0.4587 - val_acc: 0.7989\n",
            "Epoch 67/100\n",
            "712/712 [==============================] - 0s 81us/step - loss: 0.3836 - acc: 0.8455 - val_loss: 0.4596 - val_acc: 0.8045\n",
            "Epoch 68/100\n",
            "712/712 [==============================] - 0s 68us/step - loss: 0.3798 - acc: 0.8385 - val_loss: 0.4608 - val_acc: 0.8045\n",
            "Epoch 69/100\n",
            "712/712 [==============================] - 0s 66us/step - loss: 0.3874 - acc: 0.8413 - val_loss: 0.4586 - val_acc: 0.7989\n",
            "Epoch 70/100\n",
            "712/712 [==============================] - 0s 64us/step - loss: 0.3859 - acc: 0.8469 - val_loss: 0.4598 - val_acc: 0.8045\n",
            "Epoch 71/100\n",
            "712/712 [==============================] - 0s 65us/step - loss: 0.3772 - acc: 0.8469 - val_loss: 0.4655 - val_acc: 0.7933\n",
            "Epoch 72/100\n",
            "712/712 [==============================] - 0s 65us/step - loss: 0.3817 - acc: 0.8567 - val_loss: 0.4669 - val_acc: 0.7877\n",
            "Epoch 73/100\n",
            "712/712 [==============================] - 0s 61us/step - loss: 0.3836 - acc: 0.8413 - val_loss: 0.4641 - val_acc: 0.7989\n",
            "Epoch 74/100\n",
            "712/712 [==============================] - 0s 61us/step - loss: 0.3780 - acc: 0.8511 - val_loss: 0.4675 - val_acc: 0.7933\n",
            "Epoch 75/100\n",
            "712/712 [==============================] - 0s 62us/step - loss: 0.3721 - acc: 0.8455 - val_loss: 0.4681 - val_acc: 0.8045\n",
            "Epoch 76/100\n",
            "712/712 [==============================] - 0s 61us/step - loss: 0.3750 - acc: 0.8469 - val_loss: 0.4666 - val_acc: 0.8101\n",
            "Epoch 77/100\n",
            "712/712 [==============================] - 0s 68us/step - loss: 0.3800 - acc: 0.8413 - val_loss: 0.4659 - val_acc: 0.8156\n",
            "Epoch 78/100\n",
            "712/712 [==============================] - 0s 60us/step - loss: 0.3759 - acc: 0.8553 - val_loss: 0.4655 - val_acc: 0.8101\n",
            "Epoch 79/100\n",
            "712/712 [==============================] - 0s 62us/step - loss: 0.3736 - acc: 0.8483 - val_loss: 0.4660 - val_acc: 0.8045\n",
            "Epoch 80/100\n",
            "712/712 [==============================] - 0s 60us/step - loss: 0.3650 - acc: 0.8581 - val_loss: 0.4689 - val_acc: 0.8156\n",
            "Epoch 81/100\n",
            "712/712 [==============================] - 0s 58us/step - loss: 0.3887 - acc: 0.8413 - val_loss: 0.4699 - val_acc: 0.8045\n",
            "Epoch 82/100\n",
            "712/712 [==============================] - 0s 62us/step - loss: 0.3706 - acc: 0.8483 - val_loss: 0.4638 - val_acc: 0.7989\n",
            "Epoch 83/100\n",
            "712/712 [==============================] - 0s 63us/step - loss: 0.3707 - acc: 0.8483 - val_loss: 0.4617 - val_acc: 0.7933\n",
            "Epoch 84/100\n",
            "712/712 [==============================] - 0s 62us/step - loss: 0.3671 - acc: 0.8511 - val_loss: 0.4672 - val_acc: 0.8101\n",
            "Epoch 85/100\n",
            "712/712 [==============================] - 0s 63us/step - loss: 0.3628 - acc: 0.8581 - val_loss: 0.4696 - val_acc: 0.8045\n",
            "Epoch 86/100\n",
            "712/712 [==============================] - 0s 62us/step - loss: 0.3669 - acc: 0.8357 - val_loss: 0.4686 - val_acc: 0.8101\n",
            "Epoch 87/100\n",
            "712/712 [==============================] - 0s 60us/step - loss: 0.3529 - acc: 0.8553 - val_loss: 0.4698 - val_acc: 0.8101\n",
            "Epoch 88/100\n",
            "712/712 [==============================] - 0s 60us/step - loss: 0.3626 - acc: 0.8610 - val_loss: 0.4693 - val_acc: 0.8101\n",
            "Epoch 89/100\n",
            "712/712 [==============================] - 0s 77us/step - loss: 0.3669 - acc: 0.8469 - val_loss: 0.4702 - val_acc: 0.8045\n",
            "Epoch 90/100\n",
            "712/712 [==============================] - 0s 69us/step - loss: 0.3662 - acc: 0.8638 - val_loss: 0.4729 - val_acc: 0.8045\n",
            "Epoch 91/100\n",
            "712/712 [==============================] - 0s 67us/step - loss: 0.3682 - acc: 0.8525 - val_loss: 0.4820 - val_acc: 0.7989\n",
            "Epoch 92/100\n",
            "712/712 [==============================] - 0s 65us/step - loss: 0.3670 - acc: 0.8525 - val_loss: 0.4766 - val_acc: 0.8045\n",
            "Epoch 93/100\n",
            "712/712 [==============================] - 0s 63us/step - loss: 0.3625 - acc: 0.8441 - val_loss: 0.4735 - val_acc: 0.8045\n",
            "Epoch 94/100\n",
            "712/712 [==============================] - 0s 60us/step - loss: 0.3645 - acc: 0.8539 - val_loss: 0.4787 - val_acc: 0.8045\n",
            "Epoch 95/100\n",
            "712/712 [==============================] - 0s 61us/step - loss: 0.3603 - acc: 0.8581 - val_loss: 0.4815 - val_acc: 0.8045\n",
            "Epoch 96/100\n",
            "712/712 [==============================] - 0s 69us/step - loss: 0.3608 - acc: 0.8539 - val_loss: 0.4812 - val_acc: 0.8101\n",
            "Epoch 97/100\n",
            "712/712 [==============================] - 0s 67us/step - loss: 0.3646 - acc: 0.8567 - val_loss: 0.4776 - val_acc: 0.8045\n",
            "Epoch 98/100\n",
            "712/712 [==============================] - 0s 62us/step - loss: 0.3638 - acc: 0.8539 - val_loss: 0.4779 - val_acc: 0.8045\n",
            "Epoch 99/100\n",
            "712/712 [==============================] - 0s 61us/step - loss: 0.3622 - acc: 0.8525 - val_loss: 0.4779 - val_acc: 0.8045\n",
            "Epoch 100/100\n",
            "712/712 [==============================] - 0s 61us/step - loss: 0.3720 - acc: 0.8427 - val_loss: 0.4800 - val_acc: 0.8045\n"
          ],
          "name": "stdout"
        }
      ]
    },
    {
      "cell_type": "code",
      "metadata": {
        "id": "fYP8j9skc9Sy",
        "colab_type": "code",
        "outputId": "8f861a62-a46b-466e-9934-a10a0efe4458",
        "colab": {
          "base_uri": "https://localhost:8080/",
          "height": 414
        }
      },
      "source": [
        "model_history = network_history.history\n",
        "epochs = np.arange(1, 101)\n",
        "\n",
        "plt.figure(figsize=(14,6))\n",
        "plt.subplot(1,2,1)\n",
        "sns.set()\n",
        "plt.plot(epochs, model_history['val_loss'], 'b-', label = 'val_loss')\n",
        "plt.plot(epochs, model_history['loss'], 'r-', label = 'loss')\n",
        "plt.title('Loss')\n",
        "\n",
        "plt.subplot(1,2,2)\n",
        "sns.set()\n",
        "plt.plot(epochs, model_history['val_acc'], 'b-', label = 'val_loss')\n",
        "plt.plot(epochs, model_history['acc'], 'r-', label = 'loss')\n",
        "plt.title('Accuracy')"
      ],
      "execution_count": 0,
      "outputs": [
        {
          "output_type": "execute_result",
          "data": {
            "text/plain": [
              "Text(0.5, 1.0, 'Accuracy')"
            ]
          },
          "metadata": {
            "tags": []
          },
          "execution_count": 22
        },
        {
          "output_type": "display_data",
          "data": {
            "image/png": "[encoded data removed]",
            "text/plain": [
              "<Figure size 1008x432 with 2 Axes>"
            ]
          },
          "metadata": {
            "tags": []
          }
        }
      ]
    },
    {
      "cell_type": "markdown",
      "metadata": {
        "id": "b5NuGvJpehLa",
        "colab_type": "text"
      },
      "source": [
        "## Final Model\n",
        "\n",
        "to generalize, add droptout layer"
      ]
    },
    {
      "cell_type": "code",
      "metadata": {
        "id": "7tOr4FP2eioH",
        "colab_type": "code",
        "outputId": "6b2fafc1-b568-493d-8147-228d4c3cd215",
        "colab": {
          "base_uri": "https://localhost:8080/",
          "height": 287
        }
      },
      "source": [
        "network = models.Sequential()\n",
        "network.add(layers.Dense(29, activation = 'relu', input_shape=(29,)))\n",
        "network.add(layers.Dropout(0.25))\n",
        "network.add(layers.Dense(20, activation = 'relu'))\n",
        "network.add(layers.Dense(1, activation = 'sigmoid'))\n",
        "network.summary()\n",
        "\n",
        "network.compile(loss = binary_crossentropy, optimizer='adam', metrics=['accuracy'])"
      ],
      "execution_count": 0,
      "outputs": [
        {
          "output_type": "stream",
          "text": [
            "_________________________________________________________________\n",
            "Layer (type)                 Output Shape              Param #   \n",
            "=================================================================\n",
            "dense_25 (Dense)             (None, 29)                870       \n",
            "_________________________________________________________________\n",
            "dropout_5 (Dropout)          (None, 29)                0         \n",
            "_________________________________________________________________\n",
            "dense_26 (Dense)             (None, 20)                600       \n",
            "_________________________________________________________________\n",
            "dense_27 (Dense)             (None, 1)                 21        \n",
            "=================================================================\n",
            "Total params: 1,491\n",
            "Trainable params: 1,491\n",
            "Non-trainable params: 0\n",
            "_________________________________________________________________\n"
          ],
          "name": "stdout"
        }
      ]
    },
    {
      "cell_type": "code",
      "metadata": {
        "id": "PERVEPD1ekax",
        "colab_type": "code",
        "outputId": "fbaefe2a-98eb-45dc-8cad-7daed1ba9fdd",
        "colab": {
          "base_uri": "https://localhost:8080/",
          "height": 1043
        }
      },
      "source": [
        "network_history = network.fit(X_train, y_train, epochs=28, batch_size=64, validation_data=(X_test, y_test))"
      ],
      "execution_count": 0,
      "outputs": [
        {
          "output_type": "stream",
          "text": [
            "Train on 712 samples, validate on 179 samples\n",
            "Epoch 1/28\n",
            "712/712 [==============================] - 1s 1ms/step - loss: 0.6817 - acc: 0.6236 - val_loss: 0.6680 - val_acc: 0.5978\n",
            "Epoch 2/28\n",
            "712/712 [==============================] - 0s 73us/step - loss: 0.6497 - acc: 0.6362 - val_loss: 0.6392 - val_acc: 0.6089\n",
            "Epoch 3/28\n",
            "712/712 [==============================] - 0s 68us/step - loss: 0.6252 - acc: 0.6615 - val_loss: 0.6151 - val_acc: 0.6425\n",
            "Epoch 4/28\n",
            "712/712 [==============================] - 0s 69us/step - loss: 0.5997 - acc: 0.6784 - val_loss: 0.5914 - val_acc: 0.6704\n",
            "Epoch 5/28\n",
            "712/712 [==============================] - 0s 64us/step - loss: 0.5853 - acc: 0.6980 - val_loss: 0.5709 - val_acc: 0.6816\n",
            "Epoch 6/28\n",
            "712/712 [==============================] - 0s 64us/step - loss: 0.5580 - acc: 0.7486 - val_loss: 0.5529 - val_acc: 0.7151\n",
            "Epoch 7/28\n",
            "712/712 [==============================] - 0s 78us/step - loss: 0.5407 - acc: 0.7542 - val_loss: 0.5359 - val_acc: 0.7374\n",
            "Epoch 8/28\n",
            "712/712 [==============================] - 0s 69us/step - loss: 0.5295 - acc: 0.7669 - val_loss: 0.5206 - val_acc: 0.7374\n",
            "Epoch 9/28\n",
            "712/712 [==============================] - 0s 77us/step - loss: 0.5186 - acc: 0.7851 - val_loss: 0.5110 - val_acc: 0.7486\n",
            "Epoch 10/28\n",
            "712/712 [==============================] - 0s 69us/step - loss: 0.5094 - acc: 0.7921 - val_loss: 0.5005 - val_acc: 0.7486\n",
            "Epoch 11/28\n",
            "712/712 [==============================] - 0s 68us/step - loss: 0.4906 - acc: 0.7963 - val_loss: 0.4923 - val_acc: 0.7374\n",
            "Epoch 12/28\n",
            "712/712 [==============================] - 0s 76us/step - loss: 0.4842 - acc: 0.7893 - val_loss: 0.4844 - val_acc: 0.7318\n",
            "Epoch 13/28\n",
            "712/712 [==============================] - 0s 72us/step - loss: 0.4685 - acc: 0.8034 - val_loss: 0.4785 - val_acc: 0.7542\n",
            "Epoch 14/28\n",
            "712/712 [==============================] - 0s 68us/step - loss: 0.4782 - acc: 0.7851 - val_loss: 0.4730 - val_acc: 0.7486\n",
            "Epoch 15/28\n",
            "712/712 [==============================] - 0s 63us/step - loss: 0.4531 - acc: 0.7963 - val_loss: 0.4699 - val_acc: 0.7486\n",
            "Epoch 16/28\n",
            "712/712 [==============================] - 0s 70us/step - loss: 0.4390 - acc: 0.8216 - val_loss: 0.4667 - val_acc: 0.7598\n",
            "Epoch 17/28\n",
            "712/712 [==============================] - 0s 69us/step - loss: 0.4517 - acc: 0.7949 - val_loss: 0.4637 - val_acc: 0.7877\n",
            "Epoch 18/28\n",
            "712/712 [==============================] - 0s 70us/step - loss: 0.4404 - acc: 0.8202 - val_loss: 0.4606 - val_acc: 0.7933\n",
            "Epoch 19/28\n",
            "712/712 [==============================] - 0s 74us/step - loss: 0.4374 - acc: 0.8048 - val_loss: 0.4580 - val_acc: 0.7709\n",
            "Epoch 20/28\n",
            "712/712 [==============================] - 0s 65us/step - loss: 0.4392 - acc: 0.8076 - val_loss: 0.4544 - val_acc: 0.7933\n",
            "Epoch 21/28\n",
            "712/712 [==============================] - 0s 68us/step - loss: 0.4304 - acc: 0.8258 - val_loss: 0.4505 - val_acc: 0.7989\n",
            "Epoch 22/28\n",
            "712/712 [==============================] - 0s 70us/step - loss: 0.4456 - acc: 0.8160 - val_loss: 0.4491 - val_acc: 0.7989\n",
            "Epoch 23/28\n",
            "712/712 [==============================] - 0s 71us/step - loss: 0.4291 - acc: 0.8371 - val_loss: 0.4471 - val_acc: 0.7989\n",
            "Epoch 24/28\n",
            "712/712 [==============================] - 0s 75us/step - loss: 0.4087 - acc: 0.8385 - val_loss: 0.4442 - val_acc: 0.8101\n",
            "Epoch 25/28\n",
            "712/712 [==============================] - 0s 69us/step - loss: 0.4172 - acc: 0.8329 - val_loss: 0.4420 - val_acc: 0.8101\n",
            "Epoch 26/28\n",
            "712/712 [==============================] - 0s 66us/step - loss: 0.4167 - acc: 0.8301 - val_loss: 0.4412 - val_acc: 0.7989\n",
            "Epoch 27/28\n",
            "712/712 [==============================] - 0s 78us/step - loss: 0.4180 - acc: 0.8329 - val_loss: 0.4405 - val_acc: 0.8045\n",
            "Epoch 28/28\n",
            "712/712 [==============================] - 0s 69us/step - loss: 0.4159 - acc: 0.8315 - val_loss: 0.4387 - val_acc: 0.8101\n"
          ],
          "name": "stdout"
        }
      ]
    },
    {
      "cell_type": "code",
      "metadata": {
        "id": "YFjEsFaNfEr5",
        "colab_type": "code",
        "outputId": "13d88038-f220-4b18-fc04-6102ae2a4e20",
        "colab": {
          "base_uri": "https://localhost:8080/",
          "height": 53
        }
      },
      "source": [
        "network.evaluate(X_train, y_train)"
      ],
      "execution_count": 0,
      "outputs": [
        {
          "output_type": "stream",
          "text": [
            "712/712 [==============================] - 0s 54us/step\n"
          ],
          "name": "stdout"
        },
        {
          "output_type": "execute_result",
          "data": {
            "text/plain": [
              "[0.3949717603037866, 0.8426966292134831]"
            ]
          },
          "metadata": {
            "tags": []
          },
          "execution_count": 36
        }
      ]
    },
    {
      "cell_type": "code",
      "metadata": {
        "id": "mF8d2IU1fHPK",
        "colab_type": "code",
        "outputId": "d771a5bc-31a7-44b6-a53e-35ad545e2f40",
        "colab": {
          "base_uri": "https://localhost:8080/",
          "height": 53
        }
      },
      "source": [
        "network.evaluate(X_test, y_test)"
      ],
      "execution_count": 0,
      "outputs": [
        {
          "output_type": "stream",
          "text": [
            "179/179 [==============================] - 0s 102us/step\n"
          ],
          "name": "stdout"
        },
        {
          "output_type": "execute_result",
          "data": {
            "text/plain": [
              "[0.4386999398969405, 0.8100558689186693]"
            ]
          },
          "metadata": {
            "tags": []
          },
          "execution_count": 37
        }
      ]
    },
    {
      "cell_type": "markdown",
      "metadata": {
        "id": "aBeJI0P4f1ah",
        "colab_type": "text"
      },
      "source": [
        "## Save the model"
      ]
    },
    {
      "cell_type": "code",
      "metadata": {
        "id": "VpPub08UfSx1",
        "colab_type": "code",
        "colab": {}
      },
      "source": [
        "# network.save('/content/drive/Colab Notebooks/Python Practice/Titanic Disaster/Working Directory/Titanic_model.h5')"
      ],
      "execution_count": 0,
      "outputs": []
    },
    {
      "cell_type": "markdown",
      "metadata": {
        "id": "d_IeuYiRhMIS",
        "colab_type": "text"
      },
      "source": [
        "# 2) Keras with sklearn"
      ]
    },
    {
      "cell_type": "code",
      "metadata": {
        "id": "JAOCNVtQhQEx",
        "colab_type": "code",
        "colab": {}
      },
      "source": [
        "def create_model():\n",
        "  network = models.Sequential()\n",
        "  network.add(layers.Dense(29, activation = 'relu', input_shape=(29,)))\n",
        "  network.add(layers.Dropout(0.25))\n",
        "  network.add(layers.Dense(20, activation = 'relu'))\n",
        "  network.add(layers.Dense(1, activation = 'sigmoid'))\n",
        "  \n",
        "\n",
        "  network.compile(loss = binary_crossentropy, optimizer='adam', metrics=['accuracy'])\n",
        "  return network"
      ],
      "execution_count": 0,
      "outputs": []
    },
    {
      "cell_type": "code",
      "metadata": {
        "id": "JgF196UAf7aB",
        "colab_type": "code",
        "colab": {}
      },
      "source": [
        "keras_model = KerasClassifier(create_model, epochs=28, batch_size=64)"
      ],
      "execution_count": 0,
      "outputs": []
    },
    {
      "cell_type": "code",
      "metadata": {
        "id": "WKvccpz9ivaa",
        "colab_type": "code",
        "outputId": "5a00dcc1-b77a-42c6-e2ad-a3207cd182fb",
        "colab": {
          "base_uri": "https://localhost:8080/",
          "height": 1405
        }
      },
      "source": [
        "keras_model.fit(X_train, y_train)"
      ],
      "execution_count": 0,
      "outputs": [
        {
          "output_type": "stream",
          "text": [
            "WARNING: Logging before flag parsing goes to stderr.\n",
            "W0617 11:24:17.113283 140634132301696 deprecation_wrapper.py:119] From /usr/local/lib/python3.6/dist-packages/keras/backend/tensorflow_backend.py:74: The name tf.get_default_graph is deprecated. Please use tf.compat.v1.get_default_graph instead.\n",
            "\n",
            "W0617 11:24:17.149371 140634132301696 deprecation_wrapper.py:119] From /usr/local/lib/python3.6/dist-packages/keras/backend/tensorflow_backend.py:517: The name tf.placeholder is deprecated. Please use tf.compat.v1.placeholder instead.\n",
            "\n",
            "W0617 11:24:17.159127 140634132301696 deprecation_wrapper.py:119] From /usr/local/lib/python3.6/dist-packages/keras/backend/tensorflow_backend.py:4138: The name tf.random_uniform is deprecated. Please use tf.random.uniform instead.\n",
            "\n",
            "W0617 11:24:17.176769 140634132301696 deprecation_wrapper.py:119] From /usr/local/lib/python3.6/dist-packages/keras/backend/tensorflow_backend.py:133: The name tf.placeholder_with_default is deprecated. Please use tf.compat.v1.placeholder_with_default instead.\n",
            "\n",
            "W0617 11:24:17.185493 140634132301696 deprecation.py:506] From /usr/local/lib/python3.6/dist-packages/keras/backend/tensorflow_backend.py:3445: calling dropout (from tensorflow.python.ops.nn_ops) with keep_prob is deprecated and will be removed in a future version.\n",
            "Instructions for updating:\n",
            "Please use `rate` instead of `keep_prob`. Rate should be set to `rate = 1 - keep_prob`.\n",
            "W0617 11:24:17.221646 140634132301696 deprecation_wrapper.py:119] From /usr/local/lib/python3.6/dist-packages/keras/optimizers.py:790: The name tf.train.Optimizer is deprecated. Please use tf.compat.v1.train.Optimizer instead.\n",
            "\n",
            "W0617 11:24:17.239683 140634132301696 deprecation_wrapper.py:119] From /usr/local/lib/python3.6/dist-packages/keras/backend/tensorflow_backend.py:3376: The name tf.log is deprecated. Please use tf.math.log instead.\n",
            "\n",
            "W0617 11:24:17.244817 140634132301696 deprecation.py:323] From /usr/local/lib/python3.6/dist-packages/tensorflow/python/ops/nn_impl.py:180: add_dispatch_support.<locals>.wrapper (from tensorflow.python.ops.array_ops) is deprecated and will be removed in a future version.\n",
            "Instructions for updating:\n",
            "Use tf.where in 2.0, which has the same broadcast rule as np.where\n"
          ],
          "name": "stderr"
        },
        {
          "output_type": "stream",
          "text": [
            "Epoch 1/28\n",
            "712/712 [==============================] - 4s 6ms/step - loss: 0.7135 - acc: 0.4508\n",
            "Epoch 2/28\n",
            "712/712 [==============================] - 0s 65us/step - loss: 0.6699 - acc: 0.6306\n",
            "Epoch 3/28\n",
            "712/712 [==============================] - 0s 61us/step - loss: 0.6316 - acc: 0.6503\n",
            "Epoch 4/28\n",
            "712/712 [==============================] - 0s 59us/step - loss: 0.6008 - acc: 0.6559\n",
            "Epoch 5/28\n",
            "712/712 [==============================] - 0s 66us/step - loss: 0.5867 - acc: 0.6573\n",
            "Epoch 6/28\n",
            "712/712 [==============================] - 0s 60us/step - loss: 0.5593 - acc: 0.6994\n",
            "Epoch 7/28\n",
            "712/712 [==============================] - 0s 60us/step - loss: 0.5481 - acc: 0.7303\n",
            "Epoch 8/28\n",
            "712/712 [==============================] - 0s 58us/step - loss: 0.5220 - acc: 0.7640\n",
            "Epoch 9/28\n",
            "712/712 [==============================] - 0s 64us/step - loss: 0.5014 - acc: 0.7921\n",
            "Epoch 10/28\n",
            "712/712 [==============================] - 0s 65us/step - loss: 0.5040 - acc: 0.7823\n",
            "Epoch 11/28\n",
            "712/712 [==============================] - 0s 59us/step - loss: 0.4940 - acc: 0.7907\n",
            "Epoch 12/28\n",
            "712/712 [==============================] - 0s 61us/step - loss: 0.4726 - acc: 0.8104\n",
            "Epoch 13/28\n",
            "712/712 [==============================] - 0s 68us/step - loss: 0.4755 - acc: 0.8076\n",
            "Epoch 14/28\n",
            "712/712 [==============================] - 0s 66us/step - loss: 0.4656 - acc: 0.8076\n",
            "Epoch 15/28\n",
            "712/712 [==============================] - 0s 60us/step - loss: 0.4675 - acc: 0.8006\n",
            "Epoch 16/28\n",
            "712/712 [==============================] - 0s 66us/step - loss: 0.4590 - acc: 0.8104\n",
            "Epoch 17/28\n",
            "712/712 [==============================] - 0s 64us/step - loss: 0.4495 - acc: 0.8160\n",
            "Epoch 18/28\n",
            "712/712 [==============================] - 0s 62us/step - loss: 0.4389 - acc: 0.8188\n",
            "Epoch 19/28\n",
            "712/712 [==============================] - 0s 58us/step - loss: 0.4460 - acc: 0.8118\n",
            "Epoch 20/28\n",
            "712/712 [==============================] - 0s 64us/step - loss: 0.4438 - acc: 0.8216\n",
            "Epoch 21/28\n",
            "712/712 [==============================] - 0s 61us/step - loss: 0.4350 - acc: 0.8146\n",
            "Epoch 22/28\n",
            "712/712 [==============================] - 0s 66us/step - loss: 0.4340 - acc: 0.8244\n",
            "Epoch 23/28\n",
            "712/712 [==============================] - 0s 58us/step - loss: 0.4384 - acc: 0.8104\n",
            "Epoch 24/28\n",
            "712/712 [==============================] - 0s 57us/step - loss: 0.4231 - acc: 0.8160\n",
            "Epoch 25/28\n",
            "712/712 [==============================] - 0s 61us/step - loss: 0.4274 - acc: 0.8104\n",
            "Epoch 26/28\n",
            "712/712 [==============================] - 0s 65us/step - loss: 0.4160 - acc: 0.8315\n",
            "Epoch 27/28\n",
            "712/712 [==============================] - 0s 61us/step - loss: 0.4285 - acc: 0.8104\n",
            "Epoch 28/28\n",
            "712/712 [==============================] - 0s 60us/step - loss: 0.4240 - acc: 0.8188\n"
          ],
          "name": "stdout"
        },
        {
          "output_type": "execute_result",
          "data": {
            "text/plain": [
              "<keras.callbacks.History at 0x7fe79635f630>"
            ]
          },
          "metadata": {
            "tags": []
          },
          "execution_count": 10
        }
      ]
    },
    {
      "cell_type": "code",
      "metadata": {
        "id": "V3zAzKrXf7Xx",
        "colab_type": "code",
        "outputId": "5d0fc191-3e25-4b94-866d-f71f6a3f27cc",
        "colab": {
          "base_uri": "https://localhost:8080/",
          "height": 5183
        }
      },
      "source": [
        "result = cross_val_score(keras_model, X_train, y_train, cv=5, verbose=1)"
      ],
      "execution_count": 0,
      "outputs": [
        {
          "output_type": "stream",
          "text": [
            "[Parallel(n_jobs=1)]: Using backend SequentialBackend with 1 concurrent workers.\n"
          ],
          "name": "stderr"
        },
        {
          "output_type": "stream",
          "text": [
            "Epoch 1/28\n",
            "569/569 [==============================] - 0s 536us/step - loss: 0.6824 - acc: 0.5817\n",
            "Epoch 2/28\n",
            "569/569 [==============================] - 0s 59us/step - loss: 0.6449 - acc: 0.6819\n",
            "Epoch 3/28\n",
            "569/569 [==============================] - 0s 56us/step - loss: 0.6157 - acc: 0.7030\n",
            "Epoch 4/28\n",
            "569/569 [==============================] - 0s 64us/step - loss: 0.5941 - acc: 0.7135\n",
            "Epoch 5/28\n",
            "569/569 [==============================] - 0s 58us/step - loss: 0.5719 - acc: 0.7258\n",
            "Epoch 6/28\n",
            "569/569 [==============================] - 0s 56us/step - loss: 0.5494 - acc: 0.7364\n",
            "Epoch 7/28\n",
            "569/569 [==============================] - 0s 57us/step - loss: 0.5335 - acc: 0.7469\n",
            "Epoch 8/28\n",
            "569/569 [==============================] - 0s 56us/step - loss: 0.5208 - acc: 0.7592\n",
            "Epoch 9/28\n",
            "569/569 [==============================] - 0s 61us/step - loss: 0.5019 - acc: 0.7733\n",
            "Epoch 10/28\n",
            "569/569 [==============================] - 0s 75us/step - loss: 0.4866 - acc: 0.7645\n",
            "Epoch 11/28\n",
            "569/569 [==============================] - 0s 55us/step - loss: 0.4907 - acc: 0.7838\n",
            "Epoch 12/28\n",
            "569/569 [==============================] - 0s 63us/step - loss: 0.4701 - acc: 0.8032\n",
            "Epoch 13/28\n",
            "569/569 [==============================] - 0s 63us/step - loss: 0.4610 - acc: 0.8190\n",
            "Epoch 14/28\n",
            "569/569 [==============================] - 0s 61us/step - loss: 0.4498 - acc: 0.8137\n",
            "Epoch 15/28\n",
            "569/569 [==============================] - 0s 66us/step - loss: 0.4422 - acc: 0.8225\n",
            "Epoch 16/28\n",
            "569/569 [==============================] - 0s 62us/step - loss: 0.4462 - acc: 0.8032\n",
            "Epoch 17/28\n",
            "569/569 [==============================] - 0s 59us/step - loss: 0.4486 - acc: 0.8084\n",
            "Epoch 18/28\n",
            "569/569 [==============================] - 0s 58us/step - loss: 0.4361 - acc: 0.8172\n",
            "Epoch 19/28\n",
            "569/569 [==============================] - 0s 59us/step - loss: 0.4277 - acc: 0.8225\n",
            "Epoch 20/28\n",
            "569/569 [==============================] - 0s 60us/step - loss: 0.4386 - acc: 0.8032\n",
            "Epoch 21/28\n",
            "569/569 [==============================] - 0s 61us/step - loss: 0.4280 - acc: 0.8067\n",
            "Epoch 22/28\n",
            "569/569 [==============================] - 0s 59us/step - loss: 0.4141 - acc: 0.8313\n",
            "Epoch 23/28\n",
            "569/569 [==============================] - 0s 60us/step - loss: 0.4209 - acc: 0.8243\n",
            "Epoch 24/28\n",
            "569/569 [==============================] - 0s 58us/step - loss: 0.4071 - acc: 0.8260\n",
            "Epoch 25/28\n",
            "569/569 [==============================] - 0s 57us/step - loss: 0.4177 - acc: 0.8295\n",
            "Epoch 26/28\n",
            "569/569 [==============================] - 0s 65us/step - loss: 0.4167 - acc: 0.8295\n",
            "Epoch 27/28\n",
            "569/569 [==============================] - 0s 60us/step - loss: 0.4177 - acc: 0.8401\n",
            "Epoch 28/28\n",
            "569/569 [==============================] - 0s 60us/step - loss: 0.4092 - acc: 0.8313\n",
            "143/143 [==============================] - 0s 456us/step\n",
            "Epoch 1/28\n",
            "569/569 [==============================] - 0s 630us/step - loss: 0.6722 - acc: 0.6063\n",
            "Epoch 2/28\n",
            "569/569 [==============================] - 0s 64us/step - loss: 0.6468 - acc: 0.6239\n",
            "Epoch 3/28\n",
            "569/569 [==============================] - 0s 59us/step - loss: 0.6158 - acc: 0.6467\n",
            "Epoch 4/28\n",
            "569/569 [==============================] - 0s 59us/step - loss: 0.5942 - acc: 0.6714\n",
            "Epoch 5/28\n",
            "569/569 [==============================] - 0s 60us/step - loss: 0.5777 - acc: 0.6960\n",
            "Epoch 6/28\n",
            "569/569 [==============================] - 0s 56us/step - loss: 0.5608 - acc: 0.7258\n",
            "Epoch 7/28\n",
            "569/569 [==============================] - 0s 55us/step - loss: 0.5359 - acc: 0.7452\n",
            "Epoch 8/28\n",
            "569/569 [==============================] - 0s 70us/step - loss: 0.5332 - acc: 0.7557\n",
            "Epoch 9/28\n",
            "569/569 [==============================] - 0s 60us/step - loss: 0.5286 - acc: 0.7610\n",
            "Epoch 10/28\n",
            "569/569 [==============================] - 0s 57us/step - loss: 0.5032 - acc: 0.7909\n",
            "Epoch 11/28\n",
            "569/569 [==============================] - 0s 56us/step - loss: 0.5070 - acc: 0.7873\n",
            "Epoch 12/28\n",
            "569/569 [==============================] - 0s 62us/step - loss: 0.4860 - acc: 0.7873\n",
            "Epoch 13/28\n",
            "569/569 [==============================] - 0s 80us/step - loss: 0.4808 - acc: 0.8014\n",
            "Epoch 14/28\n",
            "569/569 [==============================] - 0s 60us/step - loss: 0.4863 - acc: 0.7786\n",
            "Epoch 15/28\n",
            "569/569 [==============================] - 0s 61us/step - loss: 0.4778 - acc: 0.7961\n",
            "Epoch 16/28\n",
            "569/569 [==============================] - 0s 59us/step - loss: 0.4681 - acc: 0.7856\n",
            "Epoch 17/28\n",
            "569/569 [==============================] - 0s 57us/step - loss: 0.4630 - acc: 0.7944\n",
            "Epoch 18/28\n",
            "569/569 [==============================] - 0s 67us/step - loss: 0.4492 - acc: 0.8137\n",
            "Epoch 19/28\n",
            "569/569 [==============================] - 0s 58us/step - loss: 0.4484 - acc: 0.8102\n",
            "Epoch 20/28\n",
            "569/569 [==============================] - 0s 61us/step - loss: 0.4490 - acc: 0.7996\n",
            "Epoch 21/28\n",
            "569/569 [==============================] - 0s 62us/step - loss: 0.4605 - acc: 0.7979\n",
            "Epoch 22/28\n",
            "569/569 [==============================] - 0s 62us/step - loss: 0.4447 - acc: 0.7979\n",
            "Epoch 23/28\n",
            "569/569 [==============================] - 0s 65us/step - loss: 0.4335 - acc: 0.8067\n",
            "Epoch 24/28\n",
            "569/569 [==============================] - 0s 60us/step - loss: 0.4397 - acc: 0.8225\n",
            "Epoch 25/28\n",
            "569/569 [==============================] - 0s 59us/step - loss: 0.4318 - acc: 0.8084\n",
            "Epoch 26/28\n",
            "569/569 [==============================] - 0s 61us/step - loss: 0.4361 - acc: 0.8137\n",
            "Epoch 27/28\n",
            "569/569 [==============================] - 0s 58us/step - loss: 0.4157 - acc: 0.8348\n",
            "Epoch 28/28\n",
            "569/569 [==============================] - 0s 60us/step - loss: 0.4295 - acc: 0.8120\n",
            "143/143 [==============================] - 0s 618us/step\n",
            "Epoch 1/28\n",
            "570/570 [==============================] - 0s 719us/step - loss: 0.6976 - acc: 0.5018\n",
            "Epoch 2/28\n",
            "570/570 [==============================] - 0s 62us/step - loss: 0.6486 - acc: 0.6474\n",
            "Epoch 3/28\n",
            "570/570 [==============================] - 0s 65us/step - loss: 0.6141 - acc: 0.6807\n",
            "Epoch 4/28\n",
            "570/570 [==============================] - 0s 62us/step - loss: 0.5920 - acc: 0.7035\n",
            "Epoch 5/28\n",
            "570/570 [==============================] - 0s 56us/step - loss: 0.5732 - acc: 0.7105\n",
            "Epoch 6/28\n",
            "570/570 [==============================] - 0s 68us/step - loss: 0.5398 - acc: 0.7211\n",
            "Epoch 7/28\n",
            "570/570 [==============================] - 0s 58us/step - loss: 0.5261 - acc: 0.7456\n",
            "Epoch 8/28\n",
            "570/570 [==============================] - 0s 57us/step - loss: 0.5154 - acc: 0.7772\n",
            "Epoch 9/28\n",
            "570/570 [==============================] - 0s 64us/step - loss: 0.4966 - acc: 0.7877\n",
            "Epoch 10/28\n",
            "570/570 [==============================] - 0s 60us/step - loss: 0.4802 - acc: 0.7912\n",
            "Epoch 11/28\n",
            "570/570 [==============================] - 0s 56us/step - loss: 0.4732 - acc: 0.8211\n",
            "Epoch 12/28\n",
            "570/570 [==============================] - 0s 63us/step - loss: 0.4649 - acc: 0.7982\n",
            "Epoch 13/28\n",
            "570/570 [==============================] - 0s 62us/step - loss: 0.4647 - acc: 0.8018\n",
            "Epoch 14/28\n",
            "570/570 [==============================] - 0s 58us/step - loss: 0.4547 - acc: 0.8140\n",
            "Epoch 15/28\n",
            "570/570 [==============================] - 0s 59us/step - loss: 0.4529 - acc: 0.8053\n",
            "Epoch 16/28\n",
            "570/570 [==============================] - 0s 61us/step - loss: 0.4423 - acc: 0.8193\n",
            "Epoch 17/28\n",
            "570/570 [==============================] - 0s 77us/step - loss: 0.4408 - acc: 0.8263\n",
            "Epoch 18/28\n",
            "570/570 [==============================] - 0s 66us/step - loss: 0.4350 - acc: 0.8070\n",
            "Epoch 19/28\n",
            "570/570 [==============================] - 0s 57us/step - loss: 0.4331 - acc: 0.8281\n",
            "Epoch 20/28\n",
            "570/570 [==============================] - 0s 56us/step - loss: 0.4396 - acc: 0.8140\n",
            "Epoch 21/28\n",
            "570/570 [==============================] - 0s 59us/step - loss: 0.4312 - acc: 0.8281\n",
            "Epoch 22/28\n",
            "570/570 [==============================] - 0s 61us/step - loss: 0.4203 - acc: 0.8246\n",
            "Epoch 23/28\n",
            "570/570 [==============================] - 0s 73us/step - loss: 0.4380 - acc: 0.8193\n",
            "Epoch 24/28\n",
            "570/570 [==============================] - 0s 63us/step - loss: 0.4313 - acc: 0.8140\n",
            "Epoch 25/28\n",
            "570/570 [==============================] - 0s 64us/step - loss: 0.4343 - acc: 0.8123\n",
            "Epoch 26/28\n",
            "570/570 [==============================] - 0s 65us/step - loss: 0.4308 - acc: 0.8263\n",
            "Epoch 27/28\n",
            "570/570 [==============================] - 0s 65us/step - loss: 0.4201 - acc: 0.8158\n",
            "Epoch 28/28\n",
            "570/570 [==============================] - 0s 79us/step - loss: 0.4132 - acc: 0.8263\n",
            "142/142 [==============================] - 0s 728us/step\n",
            "Epoch 1/28\n",
            "570/570 [==============================] - 0s 779us/step - loss: 0.6475 - acc: 0.6298\n",
            "Epoch 2/28\n",
            "570/570 [==============================] - 0s 62us/step - loss: 0.6306 - acc: 0.6368\n",
            "Epoch 3/28\n",
            "570/570 [==============================] - 0s 59us/step - loss: 0.6020 - acc: 0.6351\n",
            "Epoch 4/28\n",
            "570/570 [==============================] - 0s 59us/step - loss: 0.5831 - acc: 0.6579\n",
            "Epoch 5/28\n",
            "570/570 [==============================] - 0s 59us/step - loss: 0.5552 - acc: 0.6754\n",
            "Epoch 6/28\n",
            "570/570 [==============================] - 0s 71us/step - loss: 0.5415 - acc: 0.6912\n",
            "Epoch 7/28\n",
            "570/570 [==============================] - 0s 60us/step - loss: 0.5366 - acc: 0.7596\n",
            "Epoch 8/28\n",
            "570/570 [==============================] - 0s 60us/step - loss: 0.5096 - acc: 0.7772\n",
            "Epoch 9/28\n",
            "570/570 [==============================] - 0s 55us/step - loss: 0.5009 - acc: 0.7807\n",
            "Epoch 10/28\n",
            "570/570 [==============================] - 0s 60us/step - loss: 0.4900 - acc: 0.7982\n",
            "Epoch 11/28\n",
            "570/570 [==============================] - 0s 56us/step - loss: 0.4796 - acc: 0.8193\n",
            "Epoch 12/28\n",
            "570/570 [==============================] - 0s 60us/step - loss: 0.4755 - acc: 0.8281\n",
            "Epoch 13/28\n",
            "570/570 [==============================] - 0s 59us/step - loss: 0.4811 - acc: 0.8105\n",
            "Epoch 14/28\n",
            "570/570 [==============================] - 0s 58us/step - loss: 0.4613 - acc: 0.8158\n",
            "Epoch 15/28\n",
            "570/570 [==============================] - 0s 65us/step - loss: 0.4427 - acc: 0.8246\n",
            "Epoch 16/28\n",
            "570/570 [==============================] - 0s 74us/step - loss: 0.4402 - acc: 0.8246\n",
            "Epoch 17/28\n",
            "570/570 [==============================] - 0s 60us/step - loss: 0.4485 - acc: 0.8211\n",
            "Epoch 18/28\n",
            "570/570 [==============================] - 0s 60us/step - loss: 0.4617 - acc: 0.8175\n",
            "Epoch 19/28\n",
            "570/570 [==============================] - 0s 56us/step - loss: 0.4472 - acc: 0.8263\n",
            "Epoch 20/28\n",
            "570/570 [==============================] - 0s 56us/step - loss: 0.4375 - acc: 0.8140\n",
            "Epoch 21/28\n",
            "570/570 [==============================] - 0s 69us/step - loss: 0.4394 - acc: 0.8246\n",
            "Epoch 22/28\n",
            "570/570 [==============================] - 0s 60us/step - loss: 0.4429 - acc: 0.8211\n",
            "Epoch 23/28\n",
            "570/570 [==============================] - 0s 65us/step - loss: 0.4284 - acc: 0.8246\n",
            "Epoch 24/28\n",
            "570/570 [==============================] - 0s 59us/step - loss: 0.4260 - acc: 0.8298\n",
            "Epoch 25/28\n",
            "570/570 [==============================] - 0s 57us/step - loss: 0.4183 - acc: 0.8404\n",
            "Epoch 26/28\n",
            "570/570 [==============================] - 0s 57us/step - loss: 0.4085 - acc: 0.8351\n",
            "Epoch 27/28\n",
            "570/570 [==============================] - 0s 66us/step - loss: 0.4296 - acc: 0.8404\n",
            "Epoch 28/28\n",
            "570/570 [==============================] - 0s 59us/step - loss: 0.4211 - acc: 0.8263\n",
            "142/142 [==============================] - 0s 865us/step\n",
            "Epoch 1/28\n",
            "570/570 [==============================] - 1s 907us/step - loss: 0.7254 - acc: 0.4684\n",
            "Epoch 2/28\n",
            "570/570 [==============================] - 0s 71us/step - loss: 0.6782 - acc: 0.6088\n",
            "Epoch 3/28\n",
            "570/570 [==============================] - 0s 62us/step - loss: 0.6480 - acc: 0.6754\n",
            "Epoch 4/28\n",
            "570/570 [==============================] - 0s 58us/step - loss: 0.6266 - acc: 0.6667\n",
            "Epoch 5/28\n",
            "570/570 [==============================] - 0s 56us/step - loss: 0.5994 - acc: 0.6772\n",
            "Epoch 6/28\n",
            "570/570 [==============================] - 0s 62us/step - loss: 0.5855 - acc: 0.6754\n",
            "Epoch 7/28\n",
            "570/570 [==============================] - 0s 64us/step - loss: 0.5653 - acc: 0.7035\n",
            "Epoch 8/28\n",
            "570/570 [==============================] - 0s 67us/step - loss: 0.5607 - acc: 0.7000\n",
            "Epoch 9/28\n",
            "570/570 [==============================] - 0s 59us/step - loss: 0.5456 - acc: 0.7368\n",
            "Epoch 10/28\n",
            "570/570 [==============================] - 0s 61us/step - loss: 0.5278 - acc: 0.7596\n",
            "Epoch 11/28\n",
            "570/570 [==============================] - 0s 72us/step - loss: 0.5230 - acc: 0.7614\n",
            "Epoch 12/28\n",
            "570/570 [==============================] - 0s 68us/step - loss: 0.5086 - acc: 0.7754\n",
            "Epoch 13/28\n",
            "570/570 [==============================] - 0s 62us/step - loss: 0.5007 - acc: 0.7842\n",
            "Epoch 14/28\n",
            "570/570 [==============================] - 0s 73us/step - loss: 0.4981 - acc: 0.7947\n",
            "Epoch 15/28\n",
            "570/570 [==============================] - 0s 77us/step - loss: 0.4900 - acc: 0.8053\n",
            "Epoch 16/28\n",
            "570/570 [==============================] - 0s 64us/step - loss: 0.4743 - acc: 0.8123\n",
            "Epoch 17/28\n",
            "570/570 [==============================] - 0s 61us/step - loss: 0.4778 - acc: 0.8158\n",
            "Epoch 18/28\n",
            "570/570 [==============================] - 0s 67us/step - loss: 0.4632 - acc: 0.8053\n",
            "Epoch 19/28\n",
            "570/570 [==============================] - 0s 57us/step - loss: 0.4717 - acc: 0.8070\n",
            "Epoch 20/28\n",
            "570/570 [==============================] - 0s 65us/step - loss: 0.4601 - acc: 0.8123\n",
            "Epoch 21/28\n",
            "570/570 [==============================] - 0s 62us/step - loss: 0.4570 - acc: 0.8175\n",
            "Epoch 22/28\n",
            "570/570 [==============================] - 0s 65us/step - loss: 0.4642 - acc: 0.8140\n",
            "Epoch 23/28\n",
            "570/570 [==============================] - 0s 60us/step - loss: 0.4439 - acc: 0.8088\n",
            "Epoch 24/28\n",
            "570/570 [==============================] - 0s 57us/step - loss: 0.4402 - acc: 0.8351\n",
            "Epoch 25/28\n",
            "570/570 [==============================] - 0s 61us/step - loss: 0.4543 - acc: 0.8070\n",
            "Epoch 26/28\n",
            "570/570 [==============================] - 0s 58us/step - loss: 0.4319 - acc: 0.8298\n",
            "Epoch 27/28\n",
            "570/570 [==============================] - 0s 58us/step - loss: 0.4496 - acc: 0.8123\n",
            "Epoch 28/28\n",
            "570/570 [==============================] - 0s 63us/step - loss: 0.4391 - acc: 0.8175\n",
            "142/142 [==============================] - 0s 1ms/step\n"
          ],
          "name": "stdout"
        },
        {
          "output_type": "stream",
          "text": [
            "[Parallel(n_jobs=1)]: Done   5 out of   5 | elapsed:    9.8s finished\n"
          ],
          "name": "stderr"
        }
      ]
    },
    {
      "cell_type": "code",
      "metadata": {
        "id": "Zn0ymXp_inGj",
        "colab_type": "code",
        "outputId": "e5feb7ab-b97b-4b5f-af42-15099d5044e6",
        "colab": {
          "base_uri": "https://localhost:8080/",
          "height": 35
        }
      },
      "source": [
        "np.mean(result)"
      ],
      "execution_count": 0,
      "outputs": [
        {
          "output_type": "execute_result",
          "data": {
            "text/plain": [
              "0.8076135133271569"
            ]
          },
          "metadata": {
            "tags": []
          },
          "execution_count": 12
        }
      ]
    },
    {
      "cell_type": "code",
      "metadata": {
        "id": "c89z3LxIi5S6",
        "colab_type": "code",
        "outputId": "085b336d-0a79-45bb-ff19-dea1a7ee94d8",
        "colab": {
          "base_uri": "https://localhost:8080/",
          "height": 5183
        }
      },
      "source": [
        "result_test = cross_val_score(keras_model, X_test, y_test, cv=5, verbose=1)"
      ],
      "execution_count": 0,
      "outputs": [
        {
          "output_type": "stream",
          "text": [
            "[Parallel(n_jobs=1)]: Using backend SequentialBackend with 1 concurrent workers.\n"
          ],
          "name": "stderr"
        },
        {
          "output_type": "stream",
          "text": [
            "Epoch 1/28\n",
            "143/143 [==============================] - 1s 6ms/step - loss: 0.7319 - acc: 0.3566\n",
            "Epoch 2/28\n",
            "143/143 [==============================] - 0s 118us/step - loss: 0.7205 - acc: 0.3846\n",
            "Epoch 3/28\n",
            "143/143 [==============================] - 0s 119us/step - loss: 0.7054 - acc: 0.3916\n",
            "Epoch 4/28\n",
            "143/143 [==============================] - 0s 95us/step - loss: 0.6964 - acc: 0.5455\n",
            "Epoch 5/28\n",
            "143/143 [==============================] - 0s 101us/step - loss: 0.6755 - acc: 0.6014\n",
            "Epoch 6/28\n",
            "143/143 [==============================] - 0s 107us/step - loss: 0.6665 - acc: 0.6993\n",
            "Epoch 7/28\n",
            "143/143 [==============================] - 0s 103us/step - loss: 0.6590 - acc: 0.6643\n",
            "Epoch 8/28\n",
            "143/143 [==============================] - 0s 87us/step - loss: 0.6620 - acc: 0.6993\n",
            "Epoch 9/28\n",
            "143/143 [==============================] - 0s 87us/step - loss: 0.6569 - acc: 0.6923\n",
            "Epoch 10/28\n",
            "143/143 [==============================] - 0s 90us/step - loss: 0.6484 - acc: 0.7063\n",
            "Epoch 11/28\n",
            "143/143 [==============================] - 0s 101us/step - loss: 0.6389 - acc: 0.7133\n",
            "Epoch 12/28\n",
            "143/143 [==============================] - 0s 90us/step - loss: 0.6295 - acc: 0.7343\n",
            "Epoch 13/28\n",
            "143/143 [==============================] - 0s 95us/step - loss: 0.6284 - acc: 0.7133\n",
            "Epoch 14/28\n",
            "143/143 [==============================] - 0s 97us/step - loss: 0.6280 - acc: 0.6993\n",
            "Epoch 15/28\n",
            "143/143 [==============================] - 0s 115us/step - loss: 0.6106 - acc: 0.7133\n",
            "Epoch 16/28\n",
            "143/143 [==============================] - 0s 128us/step - loss: 0.6062 - acc: 0.7483\n",
            "Epoch 17/28\n",
            "143/143 [==============================] - 0s 119us/step - loss: 0.5845 - acc: 0.7413\n",
            "Epoch 18/28\n",
            "143/143 [==============================] - 0s 104us/step - loss: 0.5814 - acc: 0.7203\n",
            "Epoch 19/28\n",
            "143/143 [==============================] - 0s 117us/step - loss: 0.5800 - acc: 0.7552\n",
            "Epoch 20/28\n",
            "143/143 [==============================] - 0s 101us/step - loss: 0.5693 - acc: 0.7413\n",
            "Epoch 21/28\n",
            "143/143 [==============================] - 0s 100us/step - loss: 0.5600 - acc: 0.7483\n",
            "Epoch 22/28\n",
            "143/143 [==============================] - 0s 93us/step - loss: 0.5557 - acc: 0.7203\n",
            "Epoch 23/28\n",
            "143/143 [==============================] - 0s 95us/step - loss: 0.5589 - acc: 0.7273\n",
            "Epoch 24/28\n",
            "143/143 [==============================] - 0s 102us/step - loss: 0.5423 - acc: 0.7483\n",
            "Epoch 25/28\n",
            "143/143 [==============================] - 0s 87us/step - loss: 0.5516 - acc: 0.7762\n",
            "Epoch 26/28\n",
            "143/143 [==============================] - 0s 151us/step - loss: 0.5356 - acc: 0.7413\n",
            "Epoch 27/28\n",
            "143/143 [==============================] - 0s 97us/step - loss: 0.5213 - acc: 0.7972\n",
            "Epoch 28/28\n",
            "143/143 [==============================] - 0s 125us/step - loss: 0.5222 - acc: 0.7622\n",
            "36/36 [==============================] - 0s 8ms/step\n",
            "Epoch 1/28\n",
            "143/143 [==============================] - 1s 6ms/step - loss: 0.7290 - acc: 0.3846\n",
            "Epoch 2/28\n",
            "143/143 [==============================] - 0s 110us/step - loss: 0.7089 - acc: 0.3916\n",
            "Epoch 3/28\n",
            "143/143 [==============================] - 0s 104us/step - loss: 0.7060 - acc: 0.4615\n",
            "Epoch 4/28\n",
            "143/143 [==============================] - 0s 101us/step - loss: 0.6877 - acc: 0.5385\n",
            "Epoch 5/28\n",
            "143/143 [==============================] - 0s 127us/step - loss: 0.6806 - acc: 0.5944\n",
            "Epoch 6/28\n",
            "143/143 [==============================] - 0s 102us/step - loss: 0.6686 - acc: 0.6713\n",
            "Epoch 7/28\n",
            "143/143 [==============================] - 0s 89us/step - loss: 0.6616 - acc: 0.7063\n",
            "Epoch 8/28\n",
            "143/143 [==============================] - 0s 113us/step - loss: 0.6599 - acc: 0.6364\n",
            "Epoch 9/28\n",
            "143/143 [==============================] - 0s 90us/step - loss: 0.6534 - acc: 0.6434\n",
            "Epoch 10/28\n",
            "143/143 [==============================] - 0s 109us/step - loss: 0.6436 - acc: 0.6993\n",
            "Epoch 11/28\n",
            "143/143 [==============================] - 0s 100us/step - loss: 0.6396 - acc: 0.7133\n",
            "Epoch 12/28\n",
            "143/143 [==============================] - 0s 109us/step - loss: 0.6294 - acc: 0.7413\n",
            "Epoch 13/28\n",
            "143/143 [==============================] - 0s 128us/step - loss: 0.6242 - acc: 0.7273\n",
            "Epoch 14/28\n",
            "143/143 [==============================] - 0s 138us/step - loss: 0.6222 - acc: 0.7133\n",
            "Epoch 15/28\n",
            "143/143 [==============================] - 0s 120us/step - loss: 0.6125 - acc: 0.7063\n",
            "Epoch 16/28\n",
            "143/143 [==============================] - 0s 98us/step - loss: 0.6096 - acc: 0.7063\n",
            "Epoch 17/28\n",
            "143/143 [==============================] - 0s 106us/step - loss: 0.5982 - acc: 0.7483\n",
            "Epoch 18/28\n",
            "143/143 [==============================] - 0s 134us/step - loss: 0.5917 - acc: 0.7273\n",
            "Epoch 19/28\n",
            "143/143 [==============================] - 0s 99us/step - loss: 0.5770 - acc: 0.7413\n",
            "Epoch 20/28\n",
            "143/143 [==============================] - 0s 113us/step - loss: 0.5748 - acc: 0.7622\n",
            "Epoch 21/28\n",
            "143/143 [==============================] - 0s 107us/step - loss: 0.5659 - acc: 0.7413\n",
            "Epoch 22/28\n",
            "143/143 [==============================] - 0s 100us/step - loss: 0.5705 - acc: 0.7552\n",
            "Epoch 23/28\n",
            "143/143 [==============================] - 0s 109us/step - loss: 0.5747 - acc: 0.7552\n",
            "Epoch 24/28\n",
            "143/143 [==============================] - 0s 99us/step - loss: 0.5574 - acc: 0.7762\n",
            "Epoch 25/28\n",
            "143/143 [==============================] - 0s 107us/step - loss: 0.5441 - acc: 0.7552\n",
            "Epoch 26/28\n",
            "143/143 [==============================] - 0s 180us/step - loss: 0.5419 - acc: 0.7483\n",
            "Epoch 27/28\n",
            "143/143 [==============================] - 0s 97us/step - loss: 0.5323 - acc: 0.7832\n",
            "Epoch 28/28\n",
            "143/143 [==============================] - 0s 106us/step - loss: 0.5286 - acc: 0.7622\n",
            "36/36 [==============================] - 0s 8ms/step\n",
            "Epoch 1/28\n",
            "143/143 [==============================] - 1s 6ms/step - loss: 0.6625 - acc: 0.6084\n",
            "Epoch 2/28\n",
            "143/143 [==============================] - 0s 95us/step - loss: 0.6517 - acc: 0.5944\n",
            "Epoch 3/28\n",
            "143/143 [==============================] - 0s 98us/step - loss: 0.6521 - acc: 0.6154\n",
            "Epoch 4/28\n",
            "143/143 [==============================] - 0s 106us/step - loss: 0.6378 - acc: 0.5944\n",
            "Epoch 5/28\n",
            "143/143 [==============================] - 0s 101us/step - loss: 0.6339 - acc: 0.6224\n",
            "Epoch 6/28\n",
            "143/143 [==============================] - 0s 102us/step - loss: 0.6144 - acc: 0.6294\n",
            "Epoch 7/28\n",
            "143/143 [==============================] - 0s 107us/step - loss: 0.6139 - acc: 0.6224\n",
            "Epoch 8/28\n",
            "143/143 [==============================] - 0s 95us/step - loss: 0.6025 - acc: 0.6364\n",
            "Epoch 9/28\n",
            "143/143 [==============================] - 0s 108us/step - loss: 0.5958 - acc: 0.6993\n",
            "Epoch 10/28\n",
            "143/143 [==============================] - 0s 104us/step - loss: 0.5923 - acc: 0.6364\n",
            "Epoch 11/28\n",
            "143/143 [==============================] - 0s 100us/step - loss: 0.5884 - acc: 0.6503\n",
            "Epoch 12/28\n",
            "143/143 [==============================] - 0s 108us/step - loss: 0.5826 - acc: 0.6573\n",
            "Epoch 13/28\n",
            "143/143 [==============================] - 0s 122us/step - loss: 0.5848 - acc: 0.6853\n",
            "Epoch 14/28\n",
            "143/143 [==============================] - 0s 114us/step - loss: 0.5729 - acc: 0.6783\n",
            "Epoch 15/28\n",
            "143/143 [==============================] - 0s 116us/step - loss: 0.5543 - acc: 0.7273\n",
            "Epoch 16/28\n",
            "143/143 [==============================] - 0s 128us/step - loss: 0.5577 - acc: 0.7063\n",
            "Epoch 17/28\n",
            "143/143 [==============================] - 0s 120us/step - loss: 0.5610 - acc: 0.7483\n",
            "Epoch 18/28\n",
            "143/143 [==============================] - 0s 106us/step - loss: 0.5502 - acc: 0.7552\n",
            "Epoch 19/28\n",
            "143/143 [==============================] - 0s 103us/step - loss: 0.5306 - acc: 0.7622\n",
            "Epoch 20/28\n",
            "143/143 [==============================] - 0s 101us/step - loss: 0.5404 - acc: 0.7692\n",
            "Epoch 21/28\n",
            "143/143 [==============================] - 0s 95us/step - loss: 0.5241 - acc: 0.7483\n",
            "Epoch 22/28\n",
            "143/143 [==============================] - 0s 103us/step - loss: 0.5233 - acc: 0.7832\n",
            "Epoch 23/28\n",
            "143/143 [==============================] - 0s 108us/step - loss: 0.5314 - acc: 0.7902\n",
            "Epoch 24/28\n",
            "143/143 [==============================] - 0s 112us/step - loss: 0.5134 - acc: 0.7832\n",
            "Epoch 25/28\n",
            "143/143 [==============================] - 0s 134us/step - loss: 0.5294 - acc: 0.7902\n",
            "Epoch 26/28\n",
            "143/143 [==============================] - 0s 117us/step - loss: 0.5132 - acc: 0.7972\n",
            "Epoch 27/28\n",
            "143/143 [==============================] - 0s 122us/step - loss: 0.5038 - acc: 0.8252\n",
            "Epoch 28/28\n",
            "143/143 [==============================] - 0s 124us/step - loss: 0.5154 - acc: 0.8042\n",
            "36/36 [==============================] - 0s 9ms/step\n",
            "Epoch 1/28\n",
            "143/143 [==============================] - 1s 7ms/step - loss: 0.6786 - acc: 0.5524\n",
            "Epoch 2/28\n",
            "143/143 [==============================] - 0s 102us/step - loss: 0.6722 - acc: 0.5874\n",
            "Epoch 3/28\n",
            "143/143 [==============================] - 0s 102us/step - loss: 0.6602 - acc: 0.6364\n",
            "Epoch 4/28\n",
            "143/143 [==============================] - 0s 107us/step - loss: 0.6388 - acc: 0.6923\n",
            "Epoch 5/28\n",
            "143/143 [==============================] - 0s 106us/step - loss: 0.6539 - acc: 0.6434\n",
            "Epoch 6/28\n",
            "143/143 [==============================] - 0s 101us/step - loss: 0.6326 - acc: 0.6713\n",
            "Epoch 7/28\n",
            "143/143 [==============================] - 0s 108us/step - loss: 0.6358 - acc: 0.6573\n",
            "Epoch 8/28\n",
            "143/143 [==============================] - 0s 106us/step - loss: 0.6147 - acc: 0.6853\n",
            "Epoch 9/28\n",
            "143/143 [==============================] - 0s 102us/step - loss: 0.6015 - acc: 0.7273\n",
            "Epoch 10/28\n",
            "143/143 [==============================] - 0s 94us/step - loss: 0.5932 - acc: 0.7063\n",
            "Epoch 11/28\n",
            "143/143 [==============================] - 0s 103us/step - loss: 0.5766 - acc: 0.7273\n",
            "Epoch 12/28\n",
            "143/143 [==============================] - 0s 103us/step - loss: 0.5801 - acc: 0.6853\n",
            "Epoch 13/28\n",
            "143/143 [==============================] - 0s 119us/step - loss: 0.5687 - acc: 0.7063\n",
            "Epoch 14/28\n",
            "143/143 [==============================] - 0s 110us/step - loss: 0.5518 - acc: 0.7273\n",
            "Epoch 15/28\n",
            "143/143 [==============================] - 0s 127us/step - loss: 0.5455 - acc: 0.7622\n",
            "Epoch 16/28\n",
            "143/143 [==============================] - 0s 123us/step - loss: 0.5441 - acc: 0.7413\n",
            "Epoch 17/28\n",
            "143/143 [==============================] - 0s 130us/step - loss: 0.5362 - acc: 0.7622\n",
            "Epoch 18/28\n",
            "143/143 [==============================] - 0s 132us/step - loss: 0.5285 - acc: 0.7762\n",
            "Epoch 19/28\n",
            "143/143 [==============================] - 0s 113us/step - loss: 0.5257 - acc: 0.7483\n",
            "Epoch 20/28\n",
            "143/143 [==============================] - 0s 107us/step - loss: 0.5150 - acc: 0.7692\n",
            "Epoch 21/28\n",
            "143/143 [==============================] - 0s 98us/step - loss: 0.5093 - acc: 0.7622\n",
            "Epoch 22/28\n",
            "143/143 [==============================] - 0s 99us/step - loss: 0.4954 - acc: 0.7552\n",
            "Epoch 23/28\n",
            "143/143 [==============================] - 0s 99us/step - loss: 0.4880 - acc: 0.7762\n",
            "Epoch 24/28\n",
            "143/143 [==============================] - 0s 120us/step - loss: 0.4873 - acc: 0.7902\n",
            "Epoch 25/28\n",
            "143/143 [==============================] - 0s 97us/step - loss: 0.4723 - acc: 0.8042\n",
            "Epoch 26/28\n",
            "143/143 [==============================] - 0s 108us/step - loss: 0.4675 - acc: 0.8182\n",
            "Epoch 27/28\n",
            "143/143 [==============================] - 0s 104us/step - loss: 0.4746 - acc: 0.8042\n",
            "Epoch 28/28\n",
            "143/143 [==============================] - 0s 134us/step - loss: 0.4531 - acc: 0.8462\n",
            "36/36 [==============================] - 0s 10ms/step\n",
            "Epoch 1/28\n",
            "144/144 [==============================] - 1s 7ms/step - loss: 0.6994 - acc: 0.5000\n",
            "Epoch 2/28\n",
            "144/144 [==============================] - 0s 100us/step - loss: 0.6920 - acc: 0.5486\n",
            "Epoch 3/28\n",
            "144/144 [==============================] - 0s 107us/step - loss: 0.6721 - acc: 0.5486\n",
            "Epoch 4/28\n",
            "144/144 [==============================] - 0s 99us/step - loss: 0.6679 - acc: 0.6042\n",
            "Epoch 5/28\n",
            "144/144 [==============================] - 0s 103us/step - loss: 0.6664 - acc: 0.6597\n",
            "Epoch 6/28\n",
            "144/144 [==============================] - 0s 103us/step - loss: 0.6614 - acc: 0.6667\n",
            "Epoch 7/28\n",
            "144/144 [==============================] - 0s 103us/step - loss: 0.6381 - acc: 0.7292\n",
            "Epoch 8/28\n",
            "144/144 [==============================] - 0s 101us/step - loss: 0.6326 - acc: 0.7361\n",
            "Epoch 9/28\n",
            "144/144 [==============================] - 0s 103us/step - loss: 0.6221 - acc: 0.7708\n",
            "Epoch 10/28\n",
            "144/144 [==============================] - 0s 102us/step - loss: 0.6185 - acc: 0.7569\n",
            "Epoch 11/28\n",
            "144/144 [==============================] - 0s 107us/step - loss: 0.6063 - acc: 0.7708\n",
            "Epoch 12/28\n",
            "144/144 [==============================] - 0s 99us/step - loss: 0.5946 - acc: 0.8056\n",
            "Epoch 13/28\n",
            "144/144 [==============================] - 0s 105us/step - loss: 0.6103 - acc: 0.7708\n",
            "Epoch 14/28\n",
            "144/144 [==============================] - 0s 102us/step - loss: 0.6031 - acc: 0.7431\n",
            "Epoch 15/28\n",
            "144/144 [==============================] - 0s 131us/step - loss: 0.5748 - acc: 0.7778\n",
            "Epoch 16/28\n",
            "144/144 [==============================] - 0s 120us/step - loss: 0.5784 - acc: 0.8056\n",
            "Epoch 17/28\n",
            "144/144 [==============================] - 0s 116us/step - loss: 0.5735 - acc: 0.8125\n",
            "Epoch 18/28\n",
            "144/144 [==============================] - 0s 133us/step - loss: 0.5593 - acc: 0.7778\n",
            "Epoch 19/28\n",
            "144/144 [==============================] - 0s 110us/step - loss: 0.5417 - acc: 0.7986\n",
            "Epoch 20/28\n",
            "144/144 [==============================] - 0s 117us/step - loss: 0.5360 - acc: 0.8194\n",
            "Epoch 21/28\n",
            "144/144 [==============================] - 0s 118us/step - loss: 0.5444 - acc: 0.8194\n",
            "Epoch 22/28\n",
            "144/144 [==============================] - 0s 137us/step - loss: 0.5332 - acc: 0.7847\n",
            "Epoch 23/28\n",
            "144/144 [==============================] - 0s 121us/step - loss: 0.5247 - acc: 0.8056\n",
            "Epoch 24/28\n",
            "144/144 [==============================] - 0s 229us/step - loss: 0.5198 - acc: 0.8125\n",
            "Epoch 25/28\n",
            "144/144 [==============================] - 0s 116us/step - loss: 0.5166 - acc: 0.8125\n",
            "Epoch 26/28\n",
            "144/144 [==============================] - 0s 100us/step - loss: 0.4943 - acc: 0.7986\n",
            "Epoch 27/28\n",
            "144/144 [==============================] - 0s 102us/step - loss: 0.4846 - acc: 0.8333\n",
            "Epoch 28/28\n",
            "144/144 [==============================] - 0s 112us/step - loss: 0.4814 - acc: 0.8056\n",
            "35/35 [==============================] - 0s 10ms/step\n"
          ],
          "name": "stdout"
        },
        {
          "output_type": "stream",
          "text": [
            "[Parallel(n_jobs=1)]: Done   5 out of   5 | elapsed:   10.7s finished\n"
          ],
          "name": "stderr"
        }
      ]
    },
    {
      "cell_type": "code",
      "metadata": {
        "id": "6N4xfy8OjB2J",
        "colab_type": "code",
        "outputId": "8f09fe78-35a6-4a3f-ac3f-ff6a0973ba1f",
        "colab": {
          "base_uri": "https://localhost:8080/",
          "height": 35
        }
      },
      "source": [
        "np.mean(result_test)"
      ],
      "execution_count": 0,
      "outputs": [
        {
          "output_type": "execute_result",
          "data": {
            "text/plain": [
              "0.75984126329422"
            ]
          },
          "metadata": {
            "tags": []
          },
          "execution_count": 14
        }
      ]
    },
    {
      "cell_type": "code",
      "metadata": {
        "id": "GF_gQpm4L85C",
        "colab_type": "code",
        "colab": {}
      },
      "source": [
        "kfold_cv = KFold(n_splits=5, random_state=42, shuffle=True)"
      ],
      "execution_count": 0,
      "outputs": []
    },
    {
      "cell_type": "code",
      "metadata": {
        "id": "wsqQn_OYMRF0",
        "colab_type": "code",
        "outputId": "d983faf6-6e42-4eea-d75b-79707d729f31",
        "colab": {
          "base_uri": "https://localhost:8080/",
          "height": 5147
        }
      },
      "source": [
        "kfold_train_result = cross_val_score(keras_model, X_train, y_train, cv=kfold_cv)"
      ],
      "execution_count": 0,
      "outputs": [
        {
          "output_type": "stream",
          "text": [
            "Epoch 1/28\n",
            "569/569 [==============================] - 1s 2ms/step - loss: 0.7793 - acc: 0.3093\n",
            "Epoch 2/28\n",
            "569/569 [==============================] - 0s 63us/step - loss: 0.7332 - acc: 0.3568\n",
            "Epoch 3/28\n",
            "569/569 [==============================] - 0s 68us/step - loss: 0.6970 - acc: 0.4780\n",
            "Epoch 4/28\n",
            "569/569 [==============================] - 0s 68us/step - loss: 0.6735 - acc: 0.6397\n",
            "Epoch 5/28\n",
            "569/569 [==============================] - 0s 62us/step - loss: 0.6487 - acc: 0.6995\n",
            "Epoch 6/28\n",
            "569/569 [==============================] - 0s 64us/step - loss: 0.6162 - acc: 0.7153\n",
            "Epoch 7/28\n",
            "569/569 [==============================] - 0s 68us/step - loss: 0.5930 - acc: 0.7381\n",
            "Epoch 8/28\n",
            "569/569 [==============================] - 0s 62us/step - loss: 0.5701 - acc: 0.7293\n",
            "Epoch 9/28\n",
            "569/569 [==============================] - 0s 60us/step - loss: 0.5412 - acc: 0.7645\n",
            "Epoch 10/28\n",
            "569/569 [==============================] - 0s 63us/step - loss: 0.5242 - acc: 0.7698\n",
            "Epoch 11/28\n",
            "569/569 [==============================] - 0s 61us/step - loss: 0.5081 - acc: 0.7768\n",
            "Epoch 12/28\n",
            "569/569 [==============================] - 0s 68us/step - loss: 0.5002 - acc: 0.7733\n",
            "Epoch 13/28\n",
            "569/569 [==============================] - 0s 66us/step - loss: 0.4719 - acc: 0.7873\n",
            "Epoch 14/28\n",
            "569/569 [==============================] - 0s 63us/step - loss: 0.4668 - acc: 0.7856\n",
            "Epoch 15/28\n",
            "569/569 [==============================] - 0s 58us/step - loss: 0.4627 - acc: 0.7979\n",
            "Epoch 16/28\n",
            "569/569 [==============================] - 0s 64us/step - loss: 0.4583 - acc: 0.7961\n",
            "Epoch 17/28\n",
            "569/569 [==============================] - 0s 64us/step - loss: 0.4501 - acc: 0.7996\n",
            "Epoch 18/28\n",
            "569/569 [==============================] - 0s 74us/step - loss: 0.4467 - acc: 0.8049\n",
            "Epoch 19/28\n",
            "569/569 [==============================] - 0s 61us/step - loss: 0.4426 - acc: 0.8014\n",
            "Epoch 20/28\n",
            "569/569 [==============================] - 0s 60us/step - loss: 0.4379 - acc: 0.8084\n",
            "Epoch 21/28\n",
            "569/569 [==============================] - 0s 72us/step - loss: 0.4342 - acc: 0.8155\n",
            "Epoch 22/28\n",
            "569/569 [==============================] - 0s 60us/step - loss: 0.4340 - acc: 0.8155\n",
            "Epoch 23/28\n",
            "569/569 [==============================] - 0s 63us/step - loss: 0.4328 - acc: 0.8207\n",
            "Epoch 24/28\n",
            "569/569 [==============================] - 0s 61us/step - loss: 0.4243 - acc: 0.8278\n",
            "Epoch 25/28\n",
            "569/569 [==============================] - 0s 65us/step - loss: 0.4396 - acc: 0.8155\n",
            "Epoch 26/28\n",
            "569/569 [==============================] - 0s 59us/step - loss: 0.4233 - acc: 0.8207\n",
            "Epoch 27/28\n",
            "569/569 [==============================] - 0s 61us/step - loss: 0.4198 - acc: 0.8172\n",
            "Epoch 28/28\n",
            "569/569 [==============================] - 0s 62us/step - loss: 0.4200 - acc: 0.8172\n",
            "143/143 [==============================] - 0s 3ms/step\n",
            "Epoch 1/28\n",
            "569/569 [==============================] - 1s 2ms/step - loss: 0.8455 - acc: 0.3761\n",
            "Epoch 2/28\n",
            "569/569 [==============================] - 0s 61us/step - loss: 0.7730 - acc: 0.3761\n",
            "Epoch 3/28\n",
            "569/569 [==============================] - 0s 63us/step - loss: 0.7280 - acc: 0.3814\n",
            "Epoch 4/28\n",
            "569/569 [==============================] - 0s 57us/step - loss: 0.6956 - acc: 0.4587\n",
            "Epoch 5/28\n",
            "569/569 [==============================] - 0s 59us/step - loss: 0.6765 - acc: 0.5589\n",
            "Epoch 6/28\n",
            "569/569 [==============================] - 0s 61us/step - loss: 0.6562 - acc: 0.6977\n",
            "Epoch 7/28\n",
            "569/569 [==============================] - 0s 60us/step - loss: 0.6426 - acc: 0.7223\n",
            "Epoch 8/28\n",
            "569/569 [==============================] - 0s 60us/step - loss: 0.6226 - acc: 0.7909\n",
            "Epoch 9/28\n",
            "569/569 [==============================] - 0s 62us/step - loss: 0.6090 - acc: 0.8067\n",
            "Epoch 10/28\n",
            "569/569 [==============================] - 0s 60us/step - loss: 0.5942 - acc: 0.7856\n",
            "Epoch 11/28\n",
            "569/569 [==============================] - 0s 65us/step - loss: 0.5786 - acc: 0.8102\n",
            "Epoch 12/28\n",
            "569/569 [==============================] - 0s 71us/step - loss: 0.5556 - acc: 0.8137\n",
            "Epoch 13/28\n",
            "569/569 [==============================] - 0s 62us/step - loss: 0.5464 - acc: 0.8084\n",
            "Epoch 14/28\n",
            "569/569 [==============================] - 0s 62us/step - loss: 0.5146 - acc: 0.8172\n",
            "Epoch 15/28\n",
            "569/569 [==============================] - 0s 61us/step - loss: 0.5011 - acc: 0.8190\n",
            "Epoch 16/28\n",
            "569/569 [==============================] - 0s 66us/step - loss: 0.4916 - acc: 0.8120\n",
            "Epoch 17/28\n",
            "569/569 [==============================] - 0s 64us/step - loss: 0.4784 - acc: 0.8225\n",
            "Epoch 18/28\n",
            "569/569 [==============================] - 0s 62us/step - loss: 0.4516 - acc: 0.8260\n",
            "Epoch 19/28\n",
            "569/569 [==============================] - 0s 61us/step - loss: 0.4493 - acc: 0.8225\n",
            "Epoch 20/28\n",
            "569/569 [==============================] - 0s 59us/step - loss: 0.4378 - acc: 0.8295\n",
            "Epoch 21/28\n",
            "569/569 [==============================] - 0s 61us/step - loss: 0.4344 - acc: 0.8243\n",
            "Epoch 22/28\n",
            "569/569 [==============================] - 0s 61us/step - loss: 0.4219 - acc: 0.8260\n",
            "Epoch 23/28\n",
            "569/569 [==============================] - 0s 78us/step - loss: 0.4266 - acc: 0.8172\n",
            "Epoch 24/28\n",
            "569/569 [==============================] - 0s 58us/step - loss: 0.4191 - acc: 0.8366\n",
            "Epoch 25/28\n",
            "569/569 [==============================] - 0s 65us/step - loss: 0.4178 - acc: 0.8348\n",
            "Epoch 26/28\n",
            "569/569 [==============================] - 0s 62us/step - loss: 0.4089 - acc: 0.8243\n",
            "Epoch 27/28\n",
            "569/569 [==============================] - 0s 64us/step - loss: 0.4183 - acc: 0.8295\n",
            "Epoch 28/28\n",
            "569/569 [==============================] - 0s 69us/step - loss: 0.4101 - acc: 0.8155\n",
            "143/143 [==============================] - 0s 3ms/step\n",
            "Epoch 1/28\n",
            "570/570 [==============================] - 1s 2ms/step - loss: 0.7319 - acc: 0.4404\n",
            "Epoch 2/28\n",
            "570/570 [==============================] - 0s 65us/step - loss: 0.6794 - acc: 0.5579\n",
            "Epoch 3/28\n",
            "570/570 [==============================] - 0s 59us/step - loss: 0.6373 - acc: 0.6772\n",
            "Epoch 4/28\n",
            "570/570 [==============================] - 0s 66us/step - loss: 0.6091 - acc: 0.7053\n",
            "Epoch 5/28\n",
            "570/570 [==============================] - 0s 67us/step - loss: 0.5730 - acc: 0.7351\n",
            "Epoch 6/28\n",
            "570/570 [==============================] - 0s 60us/step - loss: 0.5610 - acc: 0.7211\n",
            "Epoch 7/28\n",
            "570/570 [==============================] - 0s 61us/step - loss: 0.5363 - acc: 0.7579\n",
            "Epoch 8/28\n",
            "570/570 [==============================] - 0s 61us/step - loss: 0.5161 - acc: 0.7754\n",
            "Epoch 9/28\n",
            "570/570 [==============================] - 0s 59us/step - loss: 0.4900 - acc: 0.7877\n",
            "Epoch 10/28\n",
            "570/570 [==============================] - 0s 62us/step - loss: 0.4945 - acc: 0.8000\n",
            "Epoch 11/28\n",
            "570/570 [==============================] - 0s 60us/step - loss: 0.4752 - acc: 0.8053\n",
            "Epoch 12/28\n",
            "570/570 [==============================] - 0s 57us/step - loss: 0.4661 - acc: 0.8070\n",
            "Epoch 13/28\n",
            "570/570 [==============================] - 0s 61us/step - loss: 0.4722 - acc: 0.7877\n",
            "Epoch 14/28\n",
            "570/570 [==============================] - 0s 62us/step - loss: 0.4530 - acc: 0.8193\n",
            "Epoch 15/28\n",
            "570/570 [==============================] - 0s 68us/step - loss: 0.4604 - acc: 0.8228\n",
            "Epoch 16/28\n",
            "570/570 [==============================] - 0s 64us/step - loss: 0.4420 - acc: 0.8228\n",
            "Epoch 17/28\n",
            "570/570 [==============================] - 0s 62us/step - loss: 0.4584 - acc: 0.8123\n",
            "Epoch 18/28\n",
            "570/570 [==============================] - 0s 62us/step - loss: 0.4308 - acc: 0.8281\n",
            "Epoch 19/28\n",
            "570/570 [==============================] - 0s 61us/step - loss: 0.4290 - acc: 0.8228\n",
            "Epoch 20/28\n",
            "570/570 [==============================] - 0s 66us/step - loss: 0.4338 - acc: 0.8105\n",
            "Epoch 21/28\n",
            "570/570 [==============================] - 0s 67us/step - loss: 0.4220 - acc: 0.8281\n",
            "Epoch 22/28\n",
            "570/570 [==============================] - 0s 65us/step - loss: 0.4392 - acc: 0.8281\n",
            "Epoch 23/28\n",
            "570/570 [==============================] - 0s 77us/step - loss: 0.4307 - acc: 0.8281\n",
            "Epoch 24/28\n",
            "570/570 [==============================] - 0s 63us/step - loss: 0.4237 - acc: 0.8246\n",
            "Epoch 25/28\n",
            "570/570 [==============================] - 0s 68us/step - loss: 0.4128 - acc: 0.8421\n",
            "Epoch 26/28\n",
            "570/570 [==============================] - 0s 66us/step - loss: 0.4208 - acc: 0.8316\n",
            "Epoch 27/28\n",
            "570/570 [==============================] - 0s 67us/step - loss: 0.4132 - acc: 0.8316\n",
            "Epoch 28/28\n",
            "570/570 [==============================] - 0s 66us/step - loss: 0.4090 - acc: 0.8368\n",
            "142/142 [==============================] - 0s 3ms/step\n",
            "Epoch 1/28\n",
            "570/570 [==============================] - 1s 2ms/step - loss: 0.7044 - acc: 0.4737\n",
            "Epoch 2/28\n",
            "570/570 [==============================] - 0s 65us/step - loss: 0.6550 - acc: 0.5982\n",
            "Epoch 3/28\n",
            "570/570 [==============================] - 0s 64us/step - loss: 0.6151 - acc: 0.6491\n",
            "Epoch 4/28\n",
            "570/570 [==============================] - 0s 67us/step - loss: 0.5962 - acc: 0.6719\n",
            "Epoch 5/28\n",
            "570/570 [==============================] - 0s 71us/step - loss: 0.5645 - acc: 0.7088\n",
            "Epoch 6/28\n",
            "570/570 [==============================] - 0s 66us/step - loss: 0.5654 - acc: 0.7228\n",
            "Epoch 7/28\n",
            "570/570 [==============================] - 0s 72us/step - loss: 0.5359 - acc: 0.7333\n",
            "Epoch 8/28\n",
            "570/570 [==============================] - 0s 70us/step - loss: 0.5282 - acc: 0.7737\n",
            "Epoch 9/28\n",
            "570/570 [==============================] - 0s 67us/step - loss: 0.5125 - acc: 0.7789\n",
            "Epoch 10/28\n",
            "570/570 [==============================] - 0s 67us/step - loss: 0.4927 - acc: 0.7825\n",
            "Epoch 11/28\n",
            "570/570 [==============================] - 0s 79us/step - loss: 0.4964 - acc: 0.7737\n",
            "Epoch 12/28\n",
            "570/570 [==============================] - 0s 75us/step - loss: 0.4915 - acc: 0.7877\n",
            "Epoch 13/28\n",
            "570/570 [==============================] - 0s 67us/step - loss: 0.4797 - acc: 0.8018\n",
            "Epoch 14/28\n",
            "570/570 [==============================] - 0s 76us/step - loss: 0.4713 - acc: 0.7965\n",
            "Epoch 15/28\n",
            "570/570 [==============================] - 0s 65us/step - loss: 0.4786 - acc: 0.7947\n",
            "Epoch 16/28\n",
            "570/570 [==============================] - 0s 71us/step - loss: 0.4583 - acc: 0.8088\n",
            "Epoch 17/28\n",
            "570/570 [==============================] - 0s 64us/step - loss: 0.4509 - acc: 0.8053\n",
            "Epoch 18/28\n",
            "570/570 [==============================] - 0s 65us/step - loss: 0.4696 - acc: 0.8140\n",
            "Epoch 19/28\n",
            "570/570 [==============================] - 0s 71us/step - loss: 0.4682 - acc: 0.7947\n",
            "Epoch 20/28\n",
            "570/570 [==============================] - 0s 69us/step - loss: 0.4554 - acc: 0.8070\n",
            "Epoch 21/28\n",
            "570/570 [==============================] - 0s 83us/step - loss: 0.4376 - acc: 0.8088\n",
            "Epoch 22/28\n",
            "570/570 [==============================] - 0s 62us/step - loss: 0.4605 - acc: 0.8088\n",
            "Epoch 23/28\n",
            "570/570 [==============================] - 0s 69us/step - loss: 0.4386 - acc: 0.8246\n",
            "Epoch 24/28\n",
            "570/570 [==============================] - 0s 65us/step - loss: 0.4403 - acc: 0.8228\n",
            "Epoch 25/28\n",
            "570/570 [==============================] - 0s 71us/step - loss: 0.4351 - acc: 0.8316\n",
            "Epoch 26/28\n",
            "570/570 [==============================] - 0s 69us/step - loss: 0.4463 - acc: 0.8158\n",
            "Epoch 27/28\n",
            "570/570 [==============================] - 0s 70us/step - loss: 0.4411 - acc: 0.8193\n",
            "Epoch 28/28\n",
            "570/570 [==============================] - 0s 64us/step - loss: 0.4225 - acc: 0.8386\n",
            "142/142 [==============================] - 0s 4ms/step\n",
            "Epoch 1/28\n",
            "570/570 [==============================] - 1s 2ms/step - loss: 0.7169 - acc: 0.4070\n",
            "Epoch 2/28\n",
            "570/570 [==============================] - 0s 69us/step - loss: 0.6906 - acc: 0.5526\n",
            "Epoch 3/28\n",
            "570/570 [==============================] - 0s 67us/step - loss: 0.6554 - acc: 0.6298\n",
            "Epoch 4/28\n",
            "570/570 [==============================] - 0s 64us/step - loss: 0.6388 - acc: 0.6684\n",
            "Epoch 5/28\n",
            "570/570 [==============================] - 0s 77us/step - loss: 0.6181 - acc: 0.6877\n",
            "Epoch 6/28\n",
            "570/570 [==============================] - 0s 74us/step - loss: 0.6001 - acc: 0.7158\n",
            "Epoch 7/28\n",
            "570/570 [==============================] - 0s 66us/step - loss: 0.5800 - acc: 0.7175\n",
            "Epoch 8/28\n",
            "570/570 [==============================] - 0s 67us/step - loss: 0.5605 - acc: 0.7386\n",
            "Epoch 9/28\n",
            "570/570 [==============================] - 0s 67us/step - loss: 0.5417 - acc: 0.7649\n",
            "Epoch 10/28\n",
            "570/570 [==============================] - 0s 75us/step - loss: 0.5378 - acc: 0.7439\n",
            "Epoch 11/28\n",
            "570/570 [==============================] - 0s 74us/step - loss: 0.5136 - acc: 0.7579\n",
            "Epoch 12/28\n",
            "570/570 [==============================] - 0s 68us/step - loss: 0.5018 - acc: 0.7544\n",
            "Epoch 13/28\n",
            "570/570 [==============================] - 0s 64us/step - loss: 0.4947 - acc: 0.7772\n",
            "Epoch 14/28\n",
            "570/570 [==============================] - 0s 63us/step - loss: 0.4863 - acc: 0.7789\n",
            "Epoch 15/28\n",
            "570/570 [==============================] - 0s 70us/step - loss: 0.4864 - acc: 0.7965\n",
            "Epoch 16/28\n",
            "570/570 [==============================] - 0s 73us/step - loss: 0.4804 - acc: 0.7912\n",
            "Epoch 17/28\n",
            "570/570 [==============================] - 0s 76us/step - loss: 0.4782 - acc: 0.7895\n",
            "Epoch 18/28\n",
            "570/570 [==============================] - 0s 62us/step - loss: 0.4724 - acc: 0.7860\n",
            "Epoch 19/28\n",
            "570/570 [==============================] - 0s 65us/step - loss: 0.4604 - acc: 0.8035\n",
            "Epoch 20/28\n",
            "570/570 [==============================] - 0s 67us/step - loss: 0.4660 - acc: 0.7912\n",
            "Epoch 21/28\n",
            "570/570 [==============================] - 0s 66us/step - loss: 0.4717 - acc: 0.7965\n",
            "Epoch 22/28\n",
            "570/570 [==============================] - 0s 70us/step - loss: 0.4607 - acc: 0.8070\n",
            "Epoch 23/28\n",
            "570/570 [==============================] - 0s 65us/step - loss: 0.4645 - acc: 0.7860\n",
            "Epoch 24/28\n",
            "570/570 [==============================] - 0s 72us/step - loss: 0.4508 - acc: 0.8000\n",
            "Epoch 25/28\n",
            "570/570 [==============================] - 0s 67us/step - loss: 0.4477 - acc: 0.8105\n",
            "Epoch 26/28\n",
            "570/570 [==============================] - 0s 70us/step - loss: 0.4399 - acc: 0.8035\n",
            "Epoch 27/28\n",
            "570/570 [==============================] - 0s 76us/step - loss: 0.4500 - acc: 0.8035\n",
            "Epoch 28/28\n",
            "570/570 [==============================] - 0s 79us/step - loss: 0.4510 - acc: 0.7947\n",
            "142/142 [==============================] - 1s 4ms/step\n"
          ],
          "name": "stdout"
        }
      ]
    },
    {
      "cell_type": "code",
      "metadata": {
        "id": "X7xk9oJdMRD1",
        "colab_type": "code",
        "outputId": "d090ec29-e531-48f5-b518-e4c251dfd2b2",
        "colab": {
          "base_uri": "https://localhost:8080/",
          "height": 35
        }
      },
      "source": [
        "np.mean(kfold_train_result)"
      ],
      "execution_count": 0,
      "outputs": [
        {
          "output_type": "execute_result",
          "data": {
            "text/plain": [
              "0.8118093175241352"
            ]
          },
          "metadata": {
            "tags": []
          },
          "execution_count": 21
        }
      ]
    },
    {
      "cell_type": "code",
      "metadata": {
        "id": "A0X0YIO0Mm-4",
        "colab_type": "code",
        "outputId": "daef462d-4ec7-4665-8ccf-e57111b216de",
        "colab": {
          "base_uri": "https://localhost:8080/",
          "height": 5147
        }
      },
      "source": [
        "kfold_test_result = cross_val_score(keras_model, X_test, y_test, cv=kfold_cv)"
      ],
      "execution_count": 0,
      "outputs": [
        {
          "output_type": "stream",
          "text": [
            "Epoch 1/28\n",
            "143/143 [==============================] - 1s 10ms/step - loss: 0.7058 - acc: 0.5385\n",
            "Epoch 2/28\n",
            "143/143 [==============================] - 0s 111us/step - loss: 0.6903 - acc: 0.5524\n",
            "Epoch 3/28\n",
            "143/143 [==============================] - 0s 110us/step - loss: 0.6750 - acc: 0.5664\n",
            "Epoch 4/28\n",
            "143/143 [==============================] - 0s 113us/step - loss: 0.6742 - acc: 0.5524\n",
            "Epoch 5/28\n",
            "143/143 [==============================] - 0s 102us/step - loss: 0.6562 - acc: 0.5664\n",
            "Epoch 6/28\n",
            "143/143 [==============================] - 0s 113us/step - loss: 0.6433 - acc: 0.5804\n",
            "Epoch 7/28\n",
            "143/143 [==============================] - 0s 99us/step - loss: 0.6434 - acc: 0.5874\n",
            "Epoch 8/28\n",
            "143/143 [==============================] - 0s 108us/step - loss: 0.6352 - acc: 0.6224\n",
            "Epoch 9/28\n",
            "143/143 [==============================] - 0s 99us/step - loss: 0.6171 - acc: 0.5804\n",
            "Epoch 10/28\n",
            "143/143 [==============================] - 0s 105us/step - loss: 0.6307 - acc: 0.6014\n",
            "Epoch 11/28\n",
            "143/143 [==============================] - 0s 98us/step - loss: 0.6132 - acc: 0.6643\n",
            "Epoch 12/28\n",
            "143/143 [==============================] - 0s 117us/step - loss: 0.6193 - acc: 0.6294\n",
            "Epoch 13/28\n",
            "143/143 [==============================] - 0s 122us/step - loss: 0.6039 - acc: 0.6993\n",
            "Epoch 14/28\n",
            "143/143 [==============================] - 0s 123us/step - loss: 0.5818 - acc: 0.6993\n",
            "Epoch 15/28\n",
            "143/143 [==============================] - 0s 115us/step - loss: 0.5835 - acc: 0.6783\n",
            "Epoch 16/28\n",
            "143/143 [==============================] - 0s 105us/step - loss: 0.5875 - acc: 0.6923\n",
            "Epoch 17/28\n",
            "143/143 [==============================] - 0s 137us/step - loss: 0.5789 - acc: 0.7063\n",
            "Epoch 18/28\n",
            "143/143 [==============================] - 0s 107us/step - loss: 0.5866 - acc: 0.6993\n",
            "Epoch 19/28\n",
            "143/143 [==============================] - 0s 115us/step - loss: 0.5790 - acc: 0.7063\n",
            "Epoch 20/28\n",
            "143/143 [==============================] - 0s 110us/step - loss: 0.5762 - acc: 0.6993\n",
            "Epoch 21/28\n",
            "143/143 [==============================] - 0s 107us/step - loss: 0.5510 - acc: 0.7273\n",
            "Epoch 22/28\n",
            "143/143 [==============================] - 0s 98us/step - loss: 0.5511 - acc: 0.7343\n",
            "Epoch 23/28\n",
            "143/143 [==============================] - 0s 113us/step - loss: 0.5458 - acc: 0.7692\n",
            "Epoch 24/28\n",
            "143/143 [==============================] - 0s 107us/step - loss: 0.5477 - acc: 0.7692\n",
            "Epoch 25/28\n",
            "143/143 [==============================] - 0s 135us/step - loss: 0.5402 - acc: 0.7483\n",
            "Epoch 26/28\n",
            "143/143 [==============================] - 0s 113us/step - loss: 0.5533 - acc: 0.7413\n",
            "Epoch 27/28\n",
            "143/143 [==============================] - 0s 117us/step - loss: 0.5263 - acc: 0.7622\n",
            "Epoch 28/28\n",
            "143/143 [==============================] - 0s 103us/step - loss: 0.5173 - acc: 0.7762\n",
            "36/36 [==============================] - 1s 15ms/step\n",
            "Epoch 1/28\n",
            "143/143 [==============================] - 1s 10ms/step - loss: 0.6855 - acc: 0.4755\n",
            "Epoch 2/28\n",
            "143/143 [==============================] - 0s 115us/step - loss: 0.6636 - acc: 0.6084\n",
            "Epoch 3/28\n",
            "143/143 [==============================] - 0s 101us/step - loss: 0.6337 - acc: 0.6364\n",
            "Epoch 4/28\n",
            "143/143 [==============================] - 0s 101us/step - loss: 0.6386 - acc: 0.6294\n",
            "Epoch 5/28\n",
            "143/143 [==============================] - 0s 113us/step - loss: 0.6164 - acc: 0.6434\n",
            "Epoch 6/28\n",
            "143/143 [==============================] - 0s 104us/step - loss: 0.6097 - acc: 0.6503\n",
            "Epoch 7/28\n",
            "143/143 [==============================] - 0s 110us/step - loss: 0.6031 - acc: 0.6294\n",
            "Epoch 8/28\n",
            "143/143 [==============================] - 0s 99us/step - loss: 0.5871 - acc: 0.6643\n",
            "Epoch 9/28\n",
            "143/143 [==============================] - 0s 105us/step - loss: 0.5798 - acc: 0.6573\n",
            "Epoch 10/28\n",
            "143/143 [==============================] - 0s 112us/step - loss: 0.5699 - acc: 0.6503\n",
            "Epoch 11/28\n",
            "143/143 [==============================] - 0s 110us/step - loss: 0.5581 - acc: 0.6853\n",
            "Epoch 12/28\n",
            "143/143 [==============================] - 0s 99us/step - loss: 0.5462 - acc: 0.7063\n",
            "Epoch 13/28\n",
            "143/143 [==============================] - 0s 118us/step - loss: 0.5407 - acc: 0.6853\n",
            "Epoch 14/28\n",
            "143/143 [==============================] - 0s 128us/step - loss: 0.5389 - acc: 0.6923\n",
            "Epoch 15/28\n",
            "143/143 [==============================] - 0s 111us/step - loss: 0.5441 - acc: 0.6923\n",
            "Epoch 16/28\n",
            "143/143 [==============================] - 0s 110us/step - loss: 0.5174 - acc: 0.7552\n",
            "Epoch 17/28\n",
            "143/143 [==============================] - 0s 104us/step - loss: 0.5356 - acc: 0.7203\n",
            "Epoch 18/28\n",
            "143/143 [==============================] - 0s 104us/step - loss: 0.5201 - acc: 0.7622\n",
            "Epoch 19/28\n",
            "143/143 [==============================] - 0s 112us/step - loss: 0.4968 - acc: 0.7692\n",
            "Epoch 20/28\n",
            "143/143 [==============================] - 0s 130us/step - loss: 0.4890 - acc: 0.7552\n",
            "Epoch 21/28\n",
            "143/143 [==============================] - 0s 101us/step - loss: 0.4930 - acc: 0.7483\n",
            "Epoch 22/28\n",
            "143/143 [==============================] - 0s 120us/step - loss: 0.5028 - acc: 0.7832\n",
            "Epoch 23/28\n",
            "143/143 [==============================] - 0s 107us/step - loss: 0.4825 - acc: 0.7832\n",
            "Epoch 24/28\n",
            "143/143 [==============================] - 0s 106us/step - loss: 0.4659 - acc: 0.7972\n",
            "Epoch 25/28\n",
            "143/143 [==============================] - 0s 116us/step - loss: 0.4797 - acc: 0.8322\n",
            "Epoch 26/28\n",
            "143/143 [==============================] - 0s 118us/step - loss: 0.4726 - acc: 0.7902\n",
            "Epoch 27/28\n",
            "143/143 [==============================] - 0s 106us/step - loss: 0.4430 - acc: 0.8322\n",
            "Epoch 28/28\n",
            "143/143 [==============================] - 0s 107us/step - loss: 0.4598 - acc: 0.7972\n",
            "36/36 [==============================] - 1s 16ms/step\n",
            "Epoch 1/28\n",
            "143/143 [==============================] - 2s 11ms/step - loss: 0.6811 - acc: 0.5455\n",
            "Epoch 2/28\n",
            "143/143 [==============================] - 0s 104us/step - loss: 0.6538 - acc: 0.5944\n",
            "Epoch 3/28\n",
            "143/143 [==============================] - 0s 110us/step - loss: 0.6435 - acc: 0.5874\n",
            "Epoch 4/28\n",
            "143/143 [==============================] - 0s 104us/step - loss: 0.6118 - acc: 0.6573\n",
            "Epoch 5/28\n",
            "143/143 [==============================] - 0s 103us/step - loss: 0.6159 - acc: 0.6503\n",
            "Epoch 6/28\n",
            "143/143 [==============================] - 0s 99us/step - loss: 0.5762 - acc: 0.6783\n",
            "Epoch 7/28\n",
            "143/143 [==============================] - 0s 102us/step - loss: 0.5893 - acc: 0.6783\n",
            "Epoch 8/28\n",
            "143/143 [==============================] - 0s 95us/step - loss: 0.5909 - acc: 0.6713\n",
            "Epoch 9/28\n",
            "143/143 [==============================] - 0s 106us/step - loss: 0.5675 - acc: 0.7413\n",
            "Epoch 10/28\n",
            "143/143 [==============================] - 0s 113us/step - loss: 0.5559 - acc: 0.7413\n",
            "Epoch 11/28\n",
            "143/143 [==============================] - 0s 100us/step - loss: 0.5513 - acc: 0.7203\n",
            "Epoch 12/28\n",
            "143/143 [==============================] - 0s 111us/step - loss: 0.5320 - acc: 0.7413\n",
            "Epoch 13/28\n",
            "143/143 [==============================] - 0s 101us/step - loss: 0.5409 - acc: 0.7552\n",
            "Epoch 14/28\n",
            "143/143 [==============================] - 0s 124us/step - loss: 0.5303 - acc: 0.7133\n",
            "Epoch 15/28\n",
            "143/143 [==============================] - 0s 124us/step - loss: 0.5267 - acc: 0.7343\n",
            "Epoch 16/28\n",
            "143/143 [==============================] - 0s 128us/step - loss: 0.5190 - acc: 0.7343\n",
            "Epoch 17/28\n",
            "143/143 [==============================] - 0s 128us/step - loss: 0.4954 - acc: 0.7413\n",
            "Epoch 18/28\n",
            "143/143 [==============================] - 0s 112us/step - loss: 0.5021 - acc: 0.7622\n",
            "Epoch 19/28\n",
            "143/143 [==============================] - 0s 108us/step - loss: 0.4991 - acc: 0.7692\n",
            "Epoch 20/28\n",
            "143/143 [==============================] - 0s 115us/step - loss: 0.4758 - acc: 0.7762\n",
            "Epoch 21/28\n",
            "143/143 [==============================] - 0s 116us/step - loss: 0.5050 - acc: 0.7552\n",
            "Epoch 22/28\n",
            "143/143 [==============================] - 0s 124us/step - loss: 0.4817 - acc: 0.7762\n",
            "Epoch 23/28\n",
            "143/143 [==============================] - 0s 121us/step - loss: 0.4948 - acc: 0.7552\n",
            "Epoch 24/28\n",
            "143/143 [==============================] - 0s 142us/step - loss: 0.4714 - acc: 0.7762\n",
            "Epoch 25/28\n",
            "143/143 [==============================] - 0s 119us/step - loss: 0.4887 - acc: 0.7692\n",
            "Epoch 26/28\n",
            "143/143 [==============================] - 0s 121us/step - loss: 0.4771 - acc: 0.7552\n",
            "Epoch 27/28\n",
            "143/143 [==============================] - 0s 149us/step - loss: 0.4654 - acc: 0.7762\n",
            "Epoch 28/28\n",
            "143/143 [==============================] - 0s 138us/step - loss: 0.4624 - acc: 0.7972\n",
            "36/36 [==============================] - 1s 16ms/step\n",
            "Epoch 1/28\n",
            "143/143 [==============================] - 2s 11ms/step - loss: 0.7031 - acc: 0.5105\n",
            "Epoch 2/28\n",
            "143/143 [==============================] - 0s 111us/step - loss: 0.6959 - acc: 0.5035\n",
            "Epoch 3/28\n",
            "143/143 [==============================] - 0s 116us/step - loss: 0.6808 - acc: 0.5664\n",
            "Epoch 4/28\n",
            "143/143 [==============================] - 0s 111us/step - loss: 0.6739 - acc: 0.5664\n",
            "Epoch 5/28\n",
            "143/143 [==============================] - 0s 111us/step - loss: 0.6731 - acc: 0.5594\n",
            "Epoch 6/28\n",
            "143/143 [==============================] - 0s 103us/step - loss: 0.6521 - acc: 0.6364\n",
            "Epoch 7/28\n",
            "143/143 [==============================] - 0s 105us/step - loss: 0.6422 - acc: 0.6294\n",
            "Epoch 8/28\n",
            "143/143 [==============================] - 0s 119us/step - loss: 0.6381 - acc: 0.6364\n",
            "Epoch 9/28\n",
            "143/143 [==============================] - 0s 116us/step - loss: 0.6249 - acc: 0.6503\n",
            "Epoch 10/28\n",
            "143/143 [==============================] - 0s 146us/step - loss: 0.6171 - acc: 0.6364\n",
            "Epoch 11/28\n",
            "143/143 [==============================] - 0s 109us/step - loss: 0.5987 - acc: 0.6573\n",
            "Epoch 12/28\n",
            "143/143 [==============================] - 0s 110us/step - loss: 0.6101 - acc: 0.6853\n",
            "Epoch 13/28\n",
            "143/143 [==============================] - 0s 108us/step - loss: 0.6037 - acc: 0.6503\n",
            "Epoch 14/28\n",
            "143/143 [==============================] - 0s 112us/step - loss: 0.5904 - acc: 0.6853\n",
            "Epoch 15/28\n",
            "143/143 [==============================] - 0s 108us/step - loss: 0.5775 - acc: 0.7133\n",
            "Epoch 16/28\n",
            "143/143 [==============================] - 0s 117us/step - loss: 0.5579 - acc: 0.7133\n",
            "Epoch 17/28\n",
            "143/143 [==============================] - 0s 104us/step - loss: 0.5754 - acc: 0.7063\n",
            "Epoch 18/28\n",
            "143/143 [==============================] - 0s 112us/step - loss: 0.5640 - acc: 0.7063\n",
            "Epoch 19/28\n",
            "143/143 [==============================] - 0s 110us/step - loss: 0.5618 - acc: 0.7063\n",
            "Epoch 20/28\n",
            "143/143 [==============================] - 0s 111us/step - loss: 0.5496 - acc: 0.7133\n",
            "Epoch 21/28\n",
            "143/143 [==============================] - 0s 114us/step - loss: 0.5455 - acc: 0.7203\n",
            "Epoch 22/28\n",
            "143/143 [==============================] - 0s 106us/step - loss: 0.5601 - acc: 0.7203\n",
            "Epoch 23/28\n",
            "143/143 [==============================] - 0s 111us/step - loss: 0.5332 - acc: 0.7483\n",
            "Epoch 24/28\n",
            "143/143 [==============================] - 0s 118us/step - loss: 0.5221 - acc: 0.7483\n",
            "Epoch 25/28\n",
            "143/143 [==============================] - 0s 126us/step - loss: 0.5219 - acc: 0.7552\n",
            "Epoch 26/28\n",
            "143/143 [==============================] - 0s 119us/step - loss: 0.5163 - acc: 0.7692\n",
            "Epoch 27/28\n",
            "143/143 [==============================] - 0s 119us/step - loss: 0.5023 - acc: 0.7832\n",
            "Epoch 28/28\n",
            "143/143 [==============================] - 0s 112us/step - loss: 0.4892 - acc: 0.8042\n",
            "36/36 [==============================] - 1s 18ms/step\n",
            "Epoch 1/28\n",
            "144/144 [==============================] - 2s 11ms/step - loss: 0.7077 - acc: 0.4792\n",
            "Epoch 2/28\n",
            "144/144 [==============================] - 0s 110us/step - loss: 0.7142 - acc: 0.4306\n",
            "Epoch 3/28\n",
            "144/144 [==============================] - 0s 108us/step - loss: 0.6982 - acc: 0.4583\n",
            "Epoch 4/28\n",
            "144/144 [==============================] - 0s 102us/step - loss: 0.6950 - acc: 0.4931\n",
            "Epoch 5/28\n",
            "144/144 [==============================] - 0s 107us/step - loss: 0.6844 - acc: 0.5556\n",
            "Epoch 6/28\n",
            "144/144 [==============================] - 0s 99us/step - loss: 0.6744 - acc: 0.6250\n",
            "Epoch 7/28\n",
            "144/144 [==============================] - 0s 109us/step - loss: 0.6640 - acc: 0.6319\n",
            "Epoch 8/28\n",
            "144/144 [==============================] - 0s 98us/step - loss: 0.6630 - acc: 0.6597\n",
            "Epoch 9/28\n",
            "144/144 [==============================] - 0s 103us/step - loss: 0.6532 - acc: 0.6458\n",
            "Epoch 10/28\n",
            "144/144 [==============================] - 0s 116us/step - loss: 0.6375 - acc: 0.6667\n",
            "Epoch 11/28\n",
            "144/144 [==============================] - 0s 96us/step - loss: 0.6409 - acc: 0.6250\n",
            "Epoch 12/28\n",
            "144/144 [==============================] - 0s 93us/step - loss: 0.6401 - acc: 0.6389\n",
            "Epoch 13/28\n",
            "144/144 [==============================] - 0s 117us/step - loss: 0.6315 - acc: 0.6458\n",
            "Epoch 14/28\n",
            "144/144 [==============================] - 0s 111us/step - loss: 0.6174 - acc: 0.7153\n",
            "Epoch 15/28\n",
            "144/144 [==============================] - 0s 107us/step - loss: 0.6145 - acc: 0.6806\n",
            "Epoch 16/28\n",
            "144/144 [==============================] - 0s 101us/step - loss: 0.6212 - acc: 0.6875\n",
            "Epoch 17/28\n",
            "144/144 [==============================] - 0s 111us/step - loss: 0.5959 - acc: 0.7292\n",
            "Epoch 18/28\n",
            "144/144 [==============================] - 0s 106us/step - loss: 0.6051 - acc: 0.7292\n",
            "Epoch 19/28\n",
            "144/144 [==============================] - 0s 123us/step - loss: 0.6028 - acc: 0.7153\n",
            "Epoch 20/28\n",
            "144/144 [==============================] - 0s 114us/step - loss: 0.5775 - acc: 0.7500\n",
            "Epoch 21/28\n",
            "144/144 [==============================] - 0s 122us/step - loss: 0.5837 - acc: 0.7639\n",
            "Epoch 22/28\n",
            "144/144 [==============================] - 0s 103us/step - loss: 0.5815 - acc: 0.7500\n",
            "Epoch 23/28\n",
            "144/144 [==============================] - 0s 127us/step - loss: 0.5843 - acc: 0.7639\n",
            "Epoch 24/28\n",
            "144/144 [==============================] - 0s 107us/step - loss: 0.5566 - acc: 0.7986\n",
            "Epoch 25/28\n",
            "144/144 [==============================] - 0s 113us/step - loss: 0.5692 - acc: 0.7708\n",
            "Epoch 26/28\n",
            "144/144 [==============================] - 0s 108us/step - loss: 0.5445 - acc: 0.7847\n",
            "Epoch 27/28\n",
            "144/144 [==============================] - 0s 102us/step - loss: 0.5320 - acc: 0.7986\n",
            "Epoch 28/28\n",
            "144/144 [==============================] - 0s 114us/step - loss: 0.5525 - acc: 0.7917\n",
            "35/35 [==============================] - 1s 18ms/step\n"
          ],
          "name": "stdout"
        }
      ]
    },
    {
      "cell_type": "code",
      "metadata": {
        "id": "cdk2OxskMsui",
        "colab_type": "code",
        "outputId": "0acfc727-b9f7-44f0-f553-f6323e2795ae",
        "colab": {
          "base_uri": "https://localhost:8080/",
          "height": 35
        }
      },
      "source": [
        "np.mean(kfold_test_result)"
      ],
      "execution_count": 0,
      "outputs": [
        {
          "output_type": "execute_result",
          "data": {
            "text/plain": [
              "0.7495238065719605"
            ]
          },
          "metadata": {
            "tags": []
          },
          "execution_count": 24
        }
      ]
    },
    {
      "cell_type": "markdown",
      "metadata": {
        "id": "BrBP3xeSjbcf",
        "colab_type": "text"
      },
      "source": [
        "# 3) Ensenble with randomforest, XGBoost\n"
      ]
    },
    {
      "cell_type": "code",
      "metadata": {
        "id": "-o4bJ1yblYds",
        "colab_type": "code",
        "colab": {}
      },
      "source": [
        "def create_model():\n",
        "  network = models.Sequential()\n",
        "  network.add(layers.Dense(29, activation = 'relu', input_shape=(29,)))\n",
        "  network.add(layers.Dropout(0.25))\n",
        "  network.add(layers.Dense(20, activation = 'relu'))\n",
        "  network.add(layers.Dense(1, activation = 'sigmoid'))\n",
        "  \n",
        "\n",
        "  network.compile(loss = binary_crossentropy, optimizer='adam', metrics=['accuracy'])\n",
        "  return network"
      ],
      "execution_count": 0,
      "outputs": []
    },
    {
      "cell_type": "code",
      "metadata": {
        "id": "cgZPFEaRjn-q",
        "colab_type": "code",
        "colab": {}
      },
      "source": [
        "estimators = []\n",
        "\n",
        "model1 = RandomForestClassifier(random_state=42)\n",
        "estimators.append(('rnd_clf', model1))\n",
        "\n",
        "model2 = XGBClassifier(random_state=42)\n",
        "estimators.append(('xgb_clf ', model2))\n",
        "\n",
        "model3 = KerasClassifier(create_model, epochs=28, batch_size=64, verbose=0)\n",
        "estimators.append(('keras',model3))"
      ],
      "execution_count": 0,
      "outputs": []
    },
    {
      "cell_type": "code",
      "metadata": {
        "id": "QtW5sgIdoH2T",
        "colab_type": "code",
        "outputId": "26a3c816-d7cb-4641-be3b-a09d56cb4566",
        "colab": {
          "base_uri": "https://localhost:8080/",
          "height": 323
        }
      },
      "source": [
        "ensembel = VotingClassifier(estimators, voting='soft')\n",
        "ensembel.estimators"
      ],
      "execution_count": 0,
      "outputs": [
        {
          "output_type": "execute_result",
          "data": {
            "text/plain": [
              "[('rnd_clf',\n",
              "  RandomForestClassifier(bootstrap=True, class_weight=None, criterion='gini',\n",
              "                         max_depth=None, max_features='auto', max_leaf_nodes=None,\n",
              "                         min_impurity_decrease=0.0, min_impurity_split=None,\n",
              "                         min_samples_leaf=1, min_samples_split=2,\n",
              "                         min_weight_fraction_leaf=0.0, n_estimators='warn',\n",
              "                         n_jobs=None, oob_score=False, random_state=42, verbose=0,\n",
              "                         warm_start=False)),\n",
              " ('xgb_clf ',\n",
              "  XGBClassifier(base_score=0.5, booster='gbtree', colsample_bylevel=1,\n",
              "                colsample_bynode=1, colsample_bytree=1, gamma=0,\n",
              "                learning_rate=0.1, max_delta_step=0, max_depth=3,\n",
              "                min_child_weight=1, missing=None, n_estimators=100, n_jobs=1,\n",
              "                nthread=None, objective='binary:logistic', random_state=42,\n",
              "                reg_alpha=0, reg_lambda=1, scale_pos_weight=1, seed=None,\n",
              "                silent=None, subsample=1, verbosity=1)),\n",
              " ('keras', <keras.wrappers.scikit_learn.KerasClassifier at 0x7f4edc50d278>)]"
            ]
          },
          "metadata": {
            "tags": []
          },
          "execution_count": 193
        }
      ]
    },
    {
      "cell_type": "code",
      "metadata": {
        "id": "r93oIpOzxUGF",
        "colab_type": "code",
        "outputId": "56aafa67-536a-4084-d723-8e2ea76cec08",
        "colab": {
          "base_uri": "https://localhost:8080/",
          "height": 521
        }
      },
      "source": [
        "ensembel.fit(X_train, y_train)"
      ],
      "execution_count": 0,
      "outputs": [
        {
          "output_type": "execute_result",
          "data": {
            "text/plain": [
              "VotingClassifier(estimators=[('rnd_clf',\n",
              "                              RandomForestClassifier(bootstrap=True,\n",
              "                                                     class_weight=None,\n",
              "                                                     criterion='gini',\n",
              "                                                     max_depth=None,\n",
              "                                                     max_features='auto',\n",
              "                                                     max_leaf_nodes=None,\n",
              "                                                     min_impurity_decrease=0.0,\n",
              "                                                     min_impurity_split=None,\n",
              "                                                     min_samples_leaf=1,\n",
              "                                                     min_samples_split=2,\n",
              "                                                     min_weight_fraction_leaf=0.0,\n",
              "                                                     n_estimators='warn',\n",
              "                                                     n_jobs=None,\n",
              "                                                     oob_score=False,\n",
              "                                                     random_state=42,...\n",
              "                                            max_depth=3, min_child_weight=1,\n",
              "                                            missing=None, n_estimators=100,\n",
              "                                            n_jobs=1, nthread=None,\n",
              "                                            objective='binary:logistic',\n",
              "                                            random_state=42, reg_alpha=0,\n",
              "                                            reg_lambda=1, scale_pos_weight=1,\n",
              "                                            seed=None, silent=None, subsample=1,\n",
              "                                            verbosity=1)),\n",
              "                             ('keras',\n",
              "                              <keras.wrappers.scikit_learn.KerasClassifier object at 0x7f4edc50d278>)],\n",
              "                 flatten_transform=True, n_jobs=None, voting='soft',\n",
              "                 weights=None)"
            ]
          },
          "metadata": {
            "tags": []
          },
          "execution_count": 194
        }
      ]
    },
    {
      "cell_type": "code",
      "metadata": {
        "id": "i9Tbxd8BxJ3L",
        "colab_type": "code",
        "outputId": "ab1ca0f5-cf01-4e0e-eee4-63ab744ad0d7",
        "colab": {
          "base_uri": "https://localhost:8080/",
          "height": 35
        }
      },
      "source": [
        "ensembel.score(X_train, y_train)"
      ],
      "execution_count": 0,
      "outputs": [
        {
          "output_type": "execute_result",
          "data": {
            "text/plain": [
              "0.9030898876404494"
            ]
          },
          "metadata": {
            "tags": []
          },
          "execution_count": 195
        }
      ]
    },
    {
      "cell_type": "code",
      "metadata": {
        "id": "c47HetDKxJ1L",
        "colab_type": "code",
        "outputId": "b9385362-b3cc-48b4-c851-c00fcffa0c91",
        "colab": {
          "base_uri": "https://localhost:8080/",
          "height": 35
        }
      },
      "source": [
        "ensembel.score(X_test, y_test)"
      ],
      "execution_count": 0,
      "outputs": [
        {
          "output_type": "execute_result",
          "data": {
            "text/plain": [
              "0.8156424581005587"
            ]
          },
          "metadata": {
            "tags": []
          },
          "execution_count": 196
        }
      ]
    },
    {
      "cell_type": "code",
      "metadata": {
        "id": "cs6Ussgnsmgr",
        "colab_type": "code",
        "colab": {}
      },
      "source": [
        "cv_result = cross_val_score(ensembel, X_train, y_train, cv = 5)"
      ],
      "execution_count": 0,
      "outputs": []
    },
    {
      "cell_type": "code",
      "metadata": {
        "id": "jszSV15NyG6U",
        "colab_type": "code",
        "outputId": "7a9afb7c-49a4-4806-b5c4-07b51395ee80",
        "colab": {
          "base_uri": "https://localhost:8080/",
          "height": 35
        }
      },
      "source": [
        "np.mean(cv_result)"
      ],
      "execution_count": 0,
      "outputs": [
        {
          "output_type": "execute_result",
          "data": {
            "text/plain": [
              "0.8244426236035466"
            ]
          },
          "metadata": {
            "tags": []
          },
          "execution_count": 199
        }
      ]
    },
    {
      "cell_type": "code",
      "metadata": {
        "id": "fJuFBLLNyG3j",
        "colab_type": "code",
        "colab": {}
      },
      "source": [
        "cv_result = cross_val_score(ensembel, X_test, y_test, cv = 5)"
      ],
      "execution_count": 0,
      "outputs": []
    },
    {
      "cell_type": "code",
      "metadata": {
        "id": "mZS5D1FJzuor",
        "colab_type": "code",
        "outputId": "3073b948-5382-4d3e-b908-459600904750",
        "colab": {
          "base_uri": "https://localhost:8080/",
          "height": 35
        }
      },
      "source": [
        "cv_result"
      ],
      "execution_count": 0,
      "outputs": [
        {
          "output_type": "execute_result",
          "data": {
            "text/plain": [
              "array([0.75      , 0.83333333, 0.75      , 0.69444444, 0.85714286])"
            ]
          },
          "metadata": {
            "tags": []
          },
          "execution_count": 204
        }
      ]
    },
    {
      "cell_type": "code",
      "metadata": {
        "id": "k6f2M6s-z3hD",
        "colab_type": "code",
        "outputId": "ab4b806f-b7cf-43e1-bc78-f649da929160",
        "colab": {
          "base_uri": "https://localhost:8080/",
          "height": 35
        }
      },
      "source": [
        "np.mean(cv_result)"
      ],
      "execution_count": 0,
      "outputs": [
        {
          "output_type": "execute_result",
          "data": {
            "text/plain": [
              "0.776984126984127"
            ]
          },
          "metadata": {
            "tags": []
          },
          "execution_count": 205
        }
      ]
    },
    {
      "cell_type": "markdown",
      "metadata": {
        "id": "zB_X8-wuz6LL",
        "colab_type": "text"
      },
      "source": [
        "## Conclusion - Ensemble - soft voting\n",
        "\n",
        "for the Decision Tree, its performance is \n",
        "\n",
        "Train : 0.9030898876404494  $\\approx $ 90.30%\n",
        "\n",
        "Test : 0.8156424581005587$\\approx $ 81.56%\n",
        "\n",
        "\n",
        "\n",
        "---\n",
        "\n",
        "\n",
        "with kfold cv : \n",
        "\n",
        "Train : 0.82444262360354669  $\\approx $ 82.44%\n",
        "\n",
        "Test : 0.776984126984127 $\\approx $ 77.70%\n",
        "\n",
        "\n",
        "{'max_depth': 7, 'max_leaf_nodes': 12, 'min_samples_split': 14}"
      ]
    },
    {
      "cell_type": "markdown",
      "metadata": {
        "id": "BjtieaX2zFDL",
        "colab_type": "text"
      },
      "source": [
        "### Appendix : checking each result of models"
      ]
    },
    {
      "cell_type": "code",
      "metadata": {
        "id": "qUqy8mgls8He",
        "colab_type": "code",
        "outputId": "96f3d562-40a3-42f9-96dd-93a5bd17c2f6",
        "colab": {
          "base_uri": "https://localhost:8080/",
          "height": 143
        }
      },
      "source": [
        "model1.fit(X_train, y_train)"
      ],
      "execution_count": 0,
      "outputs": [
        {
          "output_type": "execute_result",
          "data": {
            "text/plain": [
              "RandomForestClassifier(bootstrap=True, class_weight=None, criterion='gini',\n",
              "                       max_depth=None, max_features='auto', max_leaf_nodes=None,\n",
              "                       min_impurity_decrease=0.0, min_impurity_split=None,\n",
              "                       min_samples_leaf=1, min_samples_split=2,\n",
              "                       min_weight_fraction_leaf=0.0, n_estimators=10,\n",
              "                       n_jobs=None, oob_score=False, random_state=42, verbose=0,\n",
              "                       warm_start=False)"
            ]
          },
          "metadata": {
            "tags": []
          },
          "execution_count": 141
        }
      ]
    },
    {
      "cell_type": "code",
      "metadata": {
        "id": "AvOlzKgQs8FD",
        "colab_type": "code",
        "outputId": "b7514f4b-b6cf-4d8e-eeb4-14c1d82c9c3c",
        "colab": {
          "base_uri": "https://localhost:8080/",
          "height": 143
        }
      },
      "source": [
        "model2.fit(X_train, y_train)"
      ],
      "execution_count": 0,
      "outputs": [
        {
          "output_type": "execute_result",
          "data": {
            "text/plain": [
              "XGBClassifier(base_score=0.5, booster='gbtree', colsample_bylevel=1,\n",
              "              colsample_bynode=1, colsample_bytree=1, gamma=0,\n",
              "              learning_rate=0.1, max_delta_step=0, max_depth=3,\n",
              "              min_child_weight=1, missing=None, n_estimators=100, n_jobs=1,\n",
              "              nthread=None, objective='binary:logistic', random_state=42,\n",
              "              reg_alpha=0, reg_lambda=1, scale_pos_weight=1, seed=None,\n",
              "              silent=None, subsample=1, verbosity=1)"
            ]
          },
          "metadata": {
            "tags": []
          },
          "execution_count": 142
        }
      ]
    },
    {
      "cell_type": "code",
      "metadata": {
        "id": "czgIH50UtGJR",
        "colab_type": "code",
        "outputId": "75f4e3c2-2db3-480b-fd49-c4a98470aaa0",
        "colab": {
          "base_uri": "https://localhost:8080/",
          "height": 35
        }
      },
      "source": [
        "model3.fit(X_train,y_train)"
      ],
      "execution_count": 0,
      "outputs": [
        {
          "output_type": "execute_result",
          "data": {
            "text/plain": [
              "<keras.callbacks.History at 0x7f4edc9d86a0>"
            ]
          },
          "metadata": {
            "tags": []
          },
          "execution_count": 143
        }
      ]
    },
    {
      "cell_type": "code",
      "metadata": {
        "id": "vnVqG2uXs8Cy",
        "colab_type": "code",
        "colab": {}
      },
      "source": [
        "model1_pred = model1.predict(X_train)\n",
        "model2_pred = model2.predict(X_train)\n",
        "model3_pred = model3.predict(X_train)"
      ],
      "execution_count": 0,
      "outputs": []
    },
    {
      "cell_type": "code",
      "metadata": {
        "id": "50OumlA9s8Al",
        "colab_type": "code",
        "colab": {}
      },
      "source": [
        "ensemble_result = pd.DataFrame([model1_pred, model2_pred, model3_pred.ravel()])\n",
        "ensemble_result"
      ],
      "execution_count": 0,
      "outputs": []
    },
    {
      "cell_type": "code",
      "metadata": {
        "id": "zajKeZl-uvNr",
        "colab_type": "code",
        "outputId": "a1cd5f07-9113-4ff4-ac19-a8cfa9584bf8",
        "colab": {
          "base_uri": "https://localhost:8080/",
          "height": 1969
        }
      },
      "source": [
        "ensemble_result_t = ensemble_result.transpose()\n",
        "ensemble_result_t.columns = ['model1', 'model2', 'model3']\n",
        "ensemble_result_t\n",
        "\n",
        "# ensemble_result_t.to_csv('/content/drive/Colab Notebooks/Python Practice/Titanic Disaster/Working Directory/model_results.csv')"
      ],
      "execution_count": 0,
      "outputs": [
        {
          "output_type": "execute_result",
          "data": {
            "text/html": [
              "<div>\n",
              "<style scoped>\n",
              "    .dataframe tbody tr th:only-of-type {\n",
              "        vertical-align: middle;\n",
              "    }\n",
              "\n",
              "    .dataframe tbody tr th {\n",
              "        vertical-align: top;\n",
              "    }\n",
              "\n",
              "    .dataframe thead th {\n",
              "        text-align: right;\n",
              "    }\n",
              "</style>\n",
              "<table border=\"1\" class=\"dataframe\">\n",
              "  <thead>\n",
              "    <tr style=\"text-align: right;\">\n",
              "      <th></th>\n",
              "      <th>model1</th>\n",
              "      <th>model2</th>\n",
              "      <th>model3</th>\n",
              "    </tr>\n",
              "  </thead>\n",
              "  <tbody>\n",
              "    <tr>\n",
              "      <th>0</th>\n",
              "      <td>0</td>\n",
              "      <td>0</td>\n",
              "      <td>0</td>\n",
              "    </tr>\n",
              "    <tr>\n",
              "      <th>1</th>\n",
              "      <td>0</td>\n",
              "      <td>0</td>\n",
              "      <td>0</td>\n",
              "    </tr>\n",
              "    <tr>\n",
              "      <th>2</th>\n",
              "      <td>0</td>\n",
              "      <td>0</td>\n",
              "      <td>0</td>\n",
              "    </tr>\n",
              "    <tr>\n",
              "      <th>3</th>\n",
              "      <td>0</td>\n",
              "      <td>0</td>\n",
              "      <td>0</td>\n",
              "    </tr>\n",
              "    <tr>\n",
              "      <th>4</th>\n",
              "      <td>0</td>\n",
              "      <td>0</td>\n",
              "      <td>0</td>\n",
              "    </tr>\n",
              "    <tr>\n",
              "      <th>5</th>\n",
              "      <td>0</td>\n",
              "      <td>0</td>\n",
              "      <td>1</td>\n",
              "    </tr>\n",
              "    <tr>\n",
              "      <th>6</th>\n",
              "      <td>0</td>\n",
              "      <td>0</td>\n",
              "      <td>1</td>\n",
              "    </tr>\n",
              "    <tr>\n",
              "      <th>7</th>\n",
              "      <td>0</td>\n",
              "      <td>0</td>\n",
              "      <td>0</td>\n",
              "    </tr>\n",
              "    <tr>\n",
              "      <th>8</th>\n",
              "      <td>0</td>\n",
              "      <td>0</td>\n",
              "      <td>0</td>\n",
              "    </tr>\n",
              "    <tr>\n",
              "      <th>9</th>\n",
              "      <td>0</td>\n",
              "      <td>0</td>\n",
              "      <td>0</td>\n",
              "    </tr>\n",
              "    <tr>\n",
              "      <th>10</th>\n",
              "      <td>1</td>\n",
              "      <td>1</td>\n",
              "      <td>1</td>\n",
              "    </tr>\n",
              "    <tr>\n",
              "      <th>11</th>\n",
              "      <td>0</td>\n",
              "      <td>0</td>\n",
              "      <td>0</td>\n",
              "    </tr>\n",
              "    <tr>\n",
              "      <th>12</th>\n",
              "      <td>0</td>\n",
              "      <td>0</td>\n",
              "      <td>0</td>\n",
              "    </tr>\n",
              "    <tr>\n",
              "      <th>13</th>\n",
              "      <td>0</td>\n",
              "      <td>0</td>\n",
              "      <td>0</td>\n",
              "    </tr>\n",
              "    <tr>\n",
              "      <th>14</th>\n",
              "      <td>0</td>\n",
              "      <td>0</td>\n",
              "      <td>0</td>\n",
              "    </tr>\n",
              "    <tr>\n",
              "      <th>15</th>\n",
              "      <td>1</td>\n",
              "      <td>1</td>\n",
              "      <td>1</td>\n",
              "    </tr>\n",
              "    <tr>\n",
              "      <th>16</th>\n",
              "      <td>1</td>\n",
              "      <td>1</td>\n",
              "      <td>1</td>\n",
              "    </tr>\n",
              "    <tr>\n",
              "      <th>17</th>\n",
              "      <td>1</td>\n",
              "      <td>1</td>\n",
              "      <td>1</td>\n",
              "    </tr>\n",
              "    <tr>\n",
              "      <th>18</th>\n",
              "      <td>0</td>\n",
              "      <td>0</td>\n",
              "      <td>0</td>\n",
              "    </tr>\n",
              "    <tr>\n",
              "      <th>19</th>\n",
              "      <td>1</td>\n",
              "      <td>1</td>\n",
              "      <td>1</td>\n",
              "    </tr>\n",
              "    <tr>\n",
              "      <th>20</th>\n",
              "      <td>0</td>\n",
              "      <td>0</td>\n",
              "      <td>0</td>\n",
              "    </tr>\n",
              "    <tr>\n",
              "      <th>21</th>\n",
              "      <td>0</td>\n",
              "      <td>0</td>\n",
              "      <td>0</td>\n",
              "    </tr>\n",
              "    <tr>\n",
              "      <th>22</th>\n",
              "      <td>0</td>\n",
              "      <td>0</td>\n",
              "      <td>1</td>\n",
              "    </tr>\n",
              "    <tr>\n",
              "      <th>23</th>\n",
              "      <td>1</td>\n",
              "      <td>1</td>\n",
              "      <td>1</td>\n",
              "    </tr>\n",
              "    <tr>\n",
              "      <th>24</th>\n",
              "      <td>1</td>\n",
              "      <td>1</td>\n",
              "      <td>1</td>\n",
              "    </tr>\n",
              "    <tr>\n",
              "      <th>25</th>\n",
              "      <td>0</td>\n",
              "      <td>0</td>\n",
              "      <td>0</td>\n",
              "    </tr>\n",
              "    <tr>\n",
              "      <th>26</th>\n",
              "      <td>1</td>\n",
              "      <td>1</td>\n",
              "      <td>1</td>\n",
              "    </tr>\n",
              "    <tr>\n",
              "      <th>27</th>\n",
              "      <td>0</td>\n",
              "      <td>0</td>\n",
              "      <td>0</td>\n",
              "    </tr>\n",
              "    <tr>\n",
              "      <th>28</th>\n",
              "      <td>1</td>\n",
              "      <td>1</td>\n",
              "      <td>0</td>\n",
              "    </tr>\n",
              "    <tr>\n",
              "      <th>29</th>\n",
              "      <td>0</td>\n",
              "      <td>0</td>\n",
              "      <td>0</td>\n",
              "    </tr>\n",
              "    <tr>\n",
              "      <th>...</th>\n",
              "      <td>...</td>\n",
              "      <td>...</td>\n",
              "      <td>...</td>\n",
              "    </tr>\n",
              "    <tr>\n",
              "      <th>682</th>\n",
              "      <td>0</td>\n",
              "      <td>0</td>\n",
              "      <td>0</td>\n",
              "    </tr>\n",
              "    <tr>\n",
              "      <th>683</th>\n",
              "      <td>0</td>\n",
              "      <td>0</td>\n",
              "      <td>0</td>\n",
              "    </tr>\n",
              "    <tr>\n",
              "      <th>684</th>\n",
              "      <td>0</td>\n",
              "      <td>0</td>\n",
              "      <td>0</td>\n",
              "    </tr>\n",
              "    <tr>\n",
              "      <th>685</th>\n",
              "      <td>0</td>\n",
              "      <td>0</td>\n",
              "      <td>0</td>\n",
              "    </tr>\n",
              "    <tr>\n",
              "      <th>686</th>\n",
              "      <td>0</td>\n",
              "      <td>0</td>\n",
              "      <td>0</td>\n",
              "    </tr>\n",
              "    <tr>\n",
              "      <th>687</th>\n",
              "      <td>0</td>\n",
              "      <td>0</td>\n",
              "      <td>0</td>\n",
              "    </tr>\n",
              "    <tr>\n",
              "      <th>688</th>\n",
              "      <td>0</td>\n",
              "      <td>0</td>\n",
              "      <td>0</td>\n",
              "    </tr>\n",
              "    <tr>\n",
              "      <th>689</th>\n",
              "      <td>0</td>\n",
              "      <td>0</td>\n",
              "      <td>0</td>\n",
              "    </tr>\n",
              "    <tr>\n",
              "      <th>690</th>\n",
              "      <td>0</td>\n",
              "      <td>0</td>\n",
              "      <td>0</td>\n",
              "    </tr>\n",
              "    <tr>\n",
              "      <th>691</th>\n",
              "      <td>0</td>\n",
              "      <td>0</td>\n",
              "      <td>0</td>\n",
              "    </tr>\n",
              "    <tr>\n",
              "      <th>692</th>\n",
              "      <td>0</td>\n",
              "      <td>0</td>\n",
              "      <td>0</td>\n",
              "    </tr>\n",
              "    <tr>\n",
              "      <th>693</th>\n",
              "      <td>0</td>\n",
              "      <td>0</td>\n",
              "      <td>0</td>\n",
              "    </tr>\n",
              "    <tr>\n",
              "      <th>694</th>\n",
              "      <td>1</td>\n",
              "      <td>1</td>\n",
              "      <td>1</td>\n",
              "    </tr>\n",
              "    <tr>\n",
              "      <th>695</th>\n",
              "      <td>0</td>\n",
              "      <td>0</td>\n",
              "      <td>0</td>\n",
              "    </tr>\n",
              "    <tr>\n",
              "      <th>696</th>\n",
              "      <td>1</td>\n",
              "      <td>0</td>\n",
              "      <td>0</td>\n",
              "    </tr>\n",
              "    <tr>\n",
              "      <th>697</th>\n",
              "      <td>0</td>\n",
              "      <td>0</td>\n",
              "      <td>0</td>\n",
              "    </tr>\n",
              "    <tr>\n",
              "      <th>698</th>\n",
              "      <td>1</td>\n",
              "      <td>1</td>\n",
              "      <td>1</td>\n",
              "    </tr>\n",
              "    <tr>\n",
              "      <th>699</th>\n",
              "      <td>1</td>\n",
              "      <td>1</td>\n",
              "      <td>1</td>\n",
              "    </tr>\n",
              "    <tr>\n",
              "      <th>700</th>\n",
              "      <td>0</td>\n",
              "      <td>0</td>\n",
              "      <td>0</td>\n",
              "    </tr>\n",
              "    <tr>\n",
              "      <th>701</th>\n",
              "      <td>0</td>\n",
              "      <td>0</td>\n",
              "      <td>0</td>\n",
              "    </tr>\n",
              "    <tr>\n",
              "      <th>702</th>\n",
              "      <td>0</td>\n",
              "      <td>0</td>\n",
              "      <td>0</td>\n",
              "    </tr>\n",
              "    <tr>\n",
              "      <th>703</th>\n",
              "      <td>0</td>\n",
              "      <td>0</td>\n",
              "      <td>0</td>\n",
              "    </tr>\n",
              "    <tr>\n",
              "      <th>704</th>\n",
              "      <td>0</td>\n",
              "      <td>0</td>\n",
              "      <td>0</td>\n",
              "    </tr>\n",
              "    <tr>\n",
              "      <th>705</th>\n",
              "      <td>1</td>\n",
              "      <td>1</td>\n",
              "      <td>1</td>\n",
              "    </tr>\n",
              "    <tr>\n",
              "      <th>706</th>\n",
              "      <td>0</td>\n",
              "      <td>0</td>\n",
              "      <td>0</td>\n",
              "    </tr>\n",
              "    <tr>\n",
              "      <th>707</th>\n",
              "      <td>1</td>\n",
              "      <td>1</td>\n",
              "      <td>0</td>\n",
              "    </tr>\n",
              "    <tr>\n",
              "      <th>708</th>\n",
              "      <td>0</td>\n",
              "      <td>0</td>\n",
              "      <td>0</td>\n",
              "    </tr>\n",
              "    <tr>\n",
              "      <th>709</th>\n",
              "      <td>0</td>\n",
              "      <td>0</td>\n",
              "      <td>0</td>\n",
              "    </tr>\n",
              "    <tr>\n",
              "      <th>710</th>\n",
              "      <td>1</td>\n",
              "      <td>1</td>\n",
              "      <td>1</td>\n",
              "    </tr>\n",
              "    <tr>\n",
              "      <th>711</th>\n",
              "      <td>0</td>\n",
              "      <td>0</td>\n",
              "      <td>0</td>\n",
              "    </tr>\n",
              "  </tbody>\n",
              "</table>\n",
              "<p>712 rows × 3 columns</p>\n",
              "</div>"
            ],
            "text/plain": [
              "     model1  model2  model3\n",
              "0         0       0       0\n",
              "1         0       0       0\n",
              "2         0       0       0\n",
              "3         0       0       0\n",
              "4         0       0       0\n",
              "5         0       0       1\n",
              "6         0       0       1\n",
              "7         0       0       0\n",
              "8         0       0       0\n",
              "9         0       0       0\n",
              "10        1       1       1\n",
              "11        0       0       0\n",
              "12        0       0       0\n",
              "13        0       0       0\n",
              "14        0       0       0\n",
              "15        1       1       1\n",
              "16        1       1       1\n",
              "17        1       1       1\n",
              "18        0       0       0\n",
              "19        1       1       1\n",
              "20        0       0       0\n",
              "21        0       0       0\n",
              "22        0       0       1\n",
              "23        1       1       1\n",
              "24        1       1       1\n",
              "25        0       0       0\n",
              "26        1       1       1\n",
              "27        0       0       0\n",
              "28        1       1       0\n",
              "29        0       0       0\n",
              "..      ...     ...     ...\n",
              "682       0       0       0\n",
              "683       0       0       0\n",
              "684       0       0       0\n",
              "685       0       0       0\n",
              "686       0       0       0\n",
              "687       0       0       0\n",
              "688       0       0       0\n",
              "689       0       0       0\n",
              "690       0       0       0\n",
              "691       0       0       0\n",
              "692       0       0       0\n",
              "693       0       0       0\n",
              "694       1       1       1\n",
              "695       0       0       0\n",
              "696       1       0       0\n",
              "697       0       0       0\n",
              "698       1       1       1\n",
              "699       1       1       1\n",
              "700       0       0       0\n",
              "701       0       0       0\n",
              "702       0       0       0\n",
              "703       0       0       0\n",
              "704       0       0       0\n",
              "705       1       1       1\n",
              "706       0       0       0\n",
              "707       1       1       0\n",
              "708       0       0       0\n",
              "709       0       0       0\n",
              "710       1       1       1\n",
              "711       0       0       0\n",
              "\n",
              "[712 rows x 3 columns]"
            ]
          },
          "metadata": {
            "tags": []
          },
          "execution_count": 206
        }
      ]
    }
  ]
}