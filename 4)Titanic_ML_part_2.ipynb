{
  "nbformat": 4,
  "nbformat_minor": 0,
  "metadata": {
    "colab": {
      "name": "4)Titanic ML_part_2.ipynb",
      "version": "0.3.2",
      "provenance": [],
      "collapsed_sections": [
        "SJrv-grOcSMD",
        "yH5P4pI_eb_M",
        "yKpVZ5ZSm7DU",
        "KJgkdusLvLXa",
        "1ReuYLgZp3Zz",
        "zFgSbdwB20pY",
        "vX7rX3BSNiDz",
        "DlkZlt6yNy6U",
        "NP3kXjvQO3tq",
        "FWREWYlwPofM",
        "VS65RVVLQP6C"
      ],
      "include_colab_link": true
    },
    "kernelspec": {
      "name": "python3",
      "display_name": "Python 3"
    },
    "accelerator": "GPU"
  },
  "cells": [
    {
      "cell_type": "markdown",
      "metadata": {
        "id": "view-in-github",
        "colab_type": "text"
      },
      "source": [
        "<a href=\"https://colab.research.google.com/github/seunghwan1228/Titanic/blob/master/4)Titanic_ML_part_2.ipynb\" target=\"_parent\"><img src=\"https://colab.research.google.com/assets/colab-badge.svg\" alt=\"Open In Colab\"/></a>"
      ]
    },
    {
      "cell_type": "markdown",
      "metadata": {
        "id": "62JV8tvzYyky",
        "colab_type": "text"
      },
      "source": [
        "# This document contains several ML models, \n",
        "the baseline of accuracy is \n",
        "\n",
        "Training : 0.8441011235955056  ≈  84.41%\n",
        "\n",
        "Validation : 0.7988826815642458  ≈  79.89%\n",
        "\n",
        "---\n",
        "## Object : \n",
        "\n",
        "Running many different models and choose more valueable model to use \n",
        "\n",
        "---\n",
        "\n",
        "\n",
        "Part 2\n",
        "* ## KNN\n",
        "* ## Naive Bayes\n",
        "* ## SVM - linear / kernel\n",
        "\n",
        "\n",
        "---\n",
        "-\n",
        "\n",
        "part 3\n",
        "*  Decision Tree - with visualization\n",
        "*  Boosting - Adaboost / gradient boost\n",
        "*  RandomForest\n",
        "*  Ensemble - Vote classifier with (Randomforest, KNN, Naive Bayes, Logit, SVM)\n",
        "\n",
        "\n",
        "\n",
        "---\n",
        "\n",
        "\n",
        "part 4\n",
        "*  Neural network with Keras"
      ]
    },
    {
      "cell_type": "code",
      "metadata": {
        "id": "0fBy8VSQYPII",
        "colab_type": "code",
        "colab": {}
      },
      "source": [
        "import pandas as pd\n",
        "import numpy as np\n",
        "import matplotlib.pyplot as plt\n",
        "import seaborn as sns\n",
        "import warnings\n",
        "from sklearn.model_selection import train_test_split\n",
        "from sklearn.model_selection import GridSearchCV\n",
        "from sklearn.neighbors import KNeighborsClassifier\n",
        "from sklearn.linear_model import LogisticRegression\n",
        "from sklearn.svm import SVC, LinearSVC\n",
        "from sklearn.naive_bayes import GaussianNB, BernoulliNB\n",
        "\n",
        "from sklearn.metrics import roc_auc_score\n",
        "from sklearn.metrics import roc_curve\n",
        "from sklearn.metrics import confusion_matrix\n",
        "from sklearn.metrics import classification_report\n",
        "from sklearn.metrics import accuracy_score\n",
        "\n",
        "warnings.filterwarnings('ignore')"
      ],
      "execution_count": 0,
      "outputs": []
    },
    {
      "cell_type": "markdown",
      "metadata": {
        "id": "WRAuvB-bZ0FK",
        "colab_type": "text"
      },
      "source": [
        "# 0) pre_steps"
      ]
    },
    {
      "cell_type": "code",
      "metadata": {
        "id": "nxpLH8iPZzWn",
        "colab_type": "code",
        "colab": {}
      },
      "source": [
        "train = pd.read_csv('/content/drive/input/Titanic/working_dir/train_final.csv')"
      ],
      "execution_count": 0,
      "outputs": []
    },
    {
      "cell_type": "code",
      "metadata": {
        "id": "qxn3WWiHZ6c6",
        "colab_type": "code",
        "outputId": "ff9e2dd6-cda7-44b3-ad9d-04eff3cbbb45",
        "colab": {
          "base_uri": "https://localhost:8080/",
          "height": 204
        }
      },
      "source": [
        "train.head()"
      ],
      "execution_count": 0,
      "outputs": [
        {
          "output_type": "execute_result",
          "data": {
            "text/html": [
              "<div>\n",
              "<style scoped>\n",
              "    .dataframe tbody tr th:only-of-type {\n",
              "        vertical-align: middle;\n",
              "    }\n",
              "\n",
              "    .dataframe tbody tr th {\n",
              "        vertical-align: top;\n",
              "    }\n",
              "\n",
              "    .dataframe thead th {\n",
              "        text-align: right;\n",
              "    }\n",
              "</style>\n",
              "<table border=\"1\" class=\"dataframe\">\n",
              "  <thead>\n",
              "    <tr style=\"text-align: right;\">\n",
              "      <th></th>\n",
              "      <th>0</th>\n",
              "      <th>1</th>\n",
              "      <th>2</th>\n",
              "      <th>3</th>\n",
              "      <th>4</th>\n",
              "      <th>5</th>\n",
              "      <th>6</th>\n",
              "      <th>7</th>\n",
              "      <th>8</th>\n",
              "      <th>9</th>\n",
              "      <th>10</th>\n",
              "      <th>11</th>\n",
              "      <th>12</th>\n",
              "      <th>13</th>\n",
              "      <th>14</th>\n",
              "      <th>15</th>\n",
              "      <th>16</th>\n",
              "      <th>17</th>\n",
              "      <th>18</th>\n",
              "      <th>19</th>\n",
              "      <th>20</th>\n",
              "      <th>21</th>\n",
              "      <th>22</th>\n",
              "      <th>23</th>\n",
              "      <th>24</th>\n",
              "      <th>25</th>\n",
              "      <th>26</th>\n",
              "      <th>27</th>\n",
              "      <th>28</th>\n",
              "      <th>Survived</th>\n",
              "    </tr>\n",
              "  </thead>\n",
              "  <tbody>\n",
              "    <tr>\n",
              "      <th>0</th>\n",
              "      <td>-0.502445</td>\n",
              "      <td>0.0</td>\n",
              "      <td>1.0</td>\n",
              "      <td>1.0</td>\n",
              "      <td>0.0</td>\n",
              "      <td>1.0</td>\n",
              "      <td>0.0</td>\n",
              "      <td>0.0</td>\n",
              "      <td>1.0</td>\n",
              "      <td>0.0</td>\n",
              "      <td>0.0</td>\n",
              "      <td>0.0</td>\n",
              "      <td>1.0</td>\n",
              "      <td>0.0</td>\n",
              "      <td>0.0</td>\n",
              "      <td>0.0</td>\n",
              "      <td>0.0</td>\n",
              "      <td>1.0</td>\n",
              "      <td>0.0</td>\n",
              "      <td>0.0</td>\n",
              "      <td>0.0</td>\n",
              "      <td>0.0</td>\n",
              "      <td>0.0</td>\n",
              "      <td>0.0</td>\n",
              "      <td>0.0</td>\n",
              "      <td>0.0</td>\n",
              "      <td>0.0</td>\n",
              "      <td>0.0</td>\n",
              "      <td>0.0</td>\n",
              "      <td>0</td>\n",
              "    </tr>\n",
              "    <tr>\n",
              "      <th>1</th>\n",
              "      <td>0.786845</td>\n",
              "      <td>0.0</td>\n",
              "      <td>0.0</td>\n",
              "      <td>0.0</td>\n",
              "      <td>0.0</td>\n",
              "      <td>0.0</td>\n",
              "      <td>0.0</td>\n",
              "      <td>0.0</td>\n",
              "      <td>0.0</td>\n",
              "      <td>1.0</td>\n",
              "      <td>0.0</td>\n",
              "      <td>0.0</td>\n",
              "      <td>0.0</td>\n",
              "      <td>1.0</td>\n",
              "      <td>0.0</td>\n",
              "      <td>0.0</td>\n",
              "      <td>1.0</td>\n",
              "      <td>1.0</td>\n",
              "      <td>0.0</td>\n",
              "      <td>0.0</td>\n",
              "      <td>0.0</td>\n",
              "      <td>0.0</td>\n",
              "      <td>0.0</td>\n",
              "      <td>0.0</td>\n",
              "      <td>0.0</td>\n",
              "      <td>0.0</td>\n",
              "      <td>0.0</td>\n",
              "      <td>0.0</td>\n",
              "      <td>0.0</td>\n",
              "      <td>1</td>\n",
              "    </tr>\n",
              "    <tr>\n",
              "      <th>2</th>\n",
              "      <td>-0.488854</td>\n",
              "      <td>0.0</td>\n",
              "      <td>1.0</td>\n",
              "      <td>0.0</td>\n",
              "      <td>0.0</td>\n",
              "      <td>1.0</td>\n",
              "      <td>0.0</td>\n",
              "      <td>0.0</td>\n",
              "      <td>1.0</td>\n",
              "      <td>0.0</td>\n",
              "      <td>0.0</td>\n",
              "      <td>1.0</td>\n",
              "      <td>0.0</td>\n",
              "      <td>0.0</td>\n",
              "      <td>0.0</td>\n",
              "      <td>0.0</td>\n",
              "      <td>0.0</td>\n",
              "      <td>0.0</td>\n",
              "      <td>0.0</td>\n",
              "      <td>0.0</td>\n",
              "      <td>0.0</td>\n",
              "      <td>0.0</td>\n",
              "      <td>0.0</td>\n",
              "      <td>0.0</td>\n",
              "      <td>0.0</td>\n",
              "      <td>0.0</td>\n",
              "      <td>0.0</td>\n",
              "      <td>0.0</td>\n",
              "      <td>0.0</td>\n",
              "      <td>1</td>\n",
              "    </tr>\n",
              "    <tr>\n",
              "      <th>3</th>\n",
              "      <td>0.420730</td>\n",
              "      <td>0.0</td>\n",
              "      <td>0.0</td>\n",
              "      <td>0.0</td>\n",
              "      <td>0.0</td>\n",
              "      <td>1.0</td>\n",
              "      <td>0.0</td>\n",
              "      <td>0.0</td>\n",
              "      <td>0.0</td>\n",
              "      <td>1.0</td>\n",
              "      <td>0.0</td>\n",
              "      <td>0.0</td>\n",
              "      <td>0.0</td>\n",
              "      <td>1.0</td>\n",
              "      <td>0.0</td>\n",
              "      <td>0.0</td>\n",
              "      <td>1.0</td>\n",
              "      <td>1.0</td>\n",
              "      <td>0.0</td>\n",
              "      <td>0.0</td>\n",
              "      <td>0.0</td>\n",
              "      <td>0.0</td>\n",
              "      <td>0.0</td>\n",
              "      <td>0.0</td>\n",
              "      <td>0.0</td>\n",
              "      <td>0.0</td>\n",
              "      <td>0.0</td>\n",
              "      <td>0.0</td>\n",
              "      <td>0.0</td>\n",
              "      <td>1</td>\n",
              "    </tr>\n",
              "    <tr>\n",
              "      <th>4</th>\n",
              "      <td>-0.486337</td>\n",
              "      <td>0.0</td>\n",
              "      <td>1.0</td>\n",
              "      <td>1.0</td>\n",
              "      <td>0.0</td>\n",
              "      <td>1.0</td>\n",
              "      <td>0.0</td>\n",
              "      <td>0.0</td>\n",
              "      <td>0.0</td>\n",
              "      <td>1.0</td>\n",
              "      <td>0.0</td>\n",
              "      <td>0.0</td>\n",
              "      <td>1.0</td>\n",
              "      <td>0.0</td>\n",
              "      <td>0.0</td>\n",
              "      <td>0.0</td>\n",
              "      <td>0.0</td>\n",
              "      <td>0.0</td>\n",
              "      <td>0.0</td>\n",
              "      <td>0.0</td>\n",
              "      <td>0.0</td>\n",
              "      <td>0.0</td>\n",
              "      <td>0.0</td>\n",
              "      <td>0.0</td>\n",
              "      <td>0.0</td>\n",
              "      <td>0.0</td>\n",
              "      <td>0.0</td>\n",
              "      <td>0.0</td>\n",
              "      <td>0.0</td>\n",
              "      <td>0</td>\n",
              "    </tr>\n",
              "  </tbody>\n",
              "</table>\n",
              "</div>"
            ],
            "text/plain": [
              "          0    1    2    3    4    5  ...   24   25   26   27   28  Survived\n",
              "0 -0.502445  0.0  1.0  1.0  0.0  1.0  ...  0.0  0.0  0.0  0.0  0.0         0\n",
              "1  0.786845  0.0  0.0  0.0  0.0  0.0  ...  0.0  0.0  0.0  0.0  0.0         1\n",
              "2 -0.488854  0.0  1.0  0.0  0.0  1.0  ...  0.0  0.0  0.0  0.0  0.0         1\n",
              "3  0.420730  0.0  0.0  0.0  0.0  1.0  ...  0.0  0.0  0.0  0.0  0.0         1\n",
              "4 -0.486337  0.0  1.0  1.0  0.0  1.0  ...  0.0  0.0  0.0  0.0  0.0         0\n",
              "\n",
              "[5 rows x 30 columns]"
            ]
          },
          "metadata": {
            "tags": []
          },
          "execution_count": 3
        }
      ]
    },
    {
      "cell_type": "code",
      "metadata": {
        "id": "PECKR_4LaJd7",
        "colab_type": "code",
        "colab": {}
      },
      "source": [
        "y = train.Survived\n",
        "X = train.drop('Survived', axis=1)"
      ],
      "execution_count": 0,
      "outputs": []
    },
    {
      "cell_type": "code",
      "metadata": {
        "id": "4vCzbAF9aJzD",
        "colab_type": "code",
        "outputId": "3fc4cc96-b8b4-4c2a-9445-8517070b33fb",
        "colab": {
          "base_uri": "https://localhost:8080/",
          "height": 53
        }
      },
      "source": [
        "print(X.shape)\n",
        "print(y.shape)"
      ],
      "execution_count": 0,
      "outputs": [
        {
          "output_type": "stream",
          "text": [
            "(891, 29)\n",
            "(891,)\n"
          ],
          "name": "stdout"
        }
      ]
    },
    {
      "cell_type": "code",
      "metadata": {
        "id": "h6PsFS0_aJua",
        "colab_type": "code",
        "colab": {}
      },
      "source": [
        "X_train, X_test, y_train, y_test = train_test_split(X, y, test_size= 0.2, random_state=42)"
      ],
      "execution_count": 0,
      "outputs": []
    },
    {
      "cell_type": "code",
      "metadata": {
        "id": "5TKd_miBaJkC",
        "colab_type": "code",
        "outputId": "3739b238-88c6-4d99-ce06-84f991abbbe2",
        "colab": {
          "base_uri": "https://localhost:8080/",
          "height": 53
        }
      },
      "source": [
        "print(X_train.shape, y_train.shape)\n",
        "print(X_test.shape, y_test.shape)"
      ],
      "execution_count": 0,
      "outputs": [
        {
          "output_type": "stream",
          "text": [
            "(712, 29) (712,)\n",
            "(179, 29) (179,)\n"
          ],
          "name": "stdout"
        }
      ]
    },
    {
      "cell_type": "markdown",
      "metadata": {
        "id": "SJrv-grOcSMD",
        "colab_type": "text"
      },
      "source": [
        "# 1)  KNN"
      ]
    },
    {
      "cell_type": "code",
      "metadata": {
        "id": "5N-9gIoCaJh7",
        "colab_type": "code",
        "colab": {}
      },
      "source": [
        "knn_clf = KNeighborsClassifier()"
      ],
      "execution_count": 0,
      "outputs": []
    },
    {
      "cell_type": "code",
      "metadata": {
        "id": "q_FvB-ICcU_F",
        "colab_type": "code",
        "outputId": "2f1a1931-7f62-4e3f-d842-b53718108f58",
        "colab": {
          "base_uri": "https://localhost:8080/",
          "height": 71
        }
      },
      "source": [
        "knn_clf.fit(X_train,y_train)"
      ],
      "execution_count": 0,
      "outputs": [
        {
          "output_type": "execute_result",
          "data": {
            "text/plain": [
              "KNeighborsClassifier(algorithm='auto', leaf_size=30, metric='minkowski',\n",
              "                     metric_params=None, n_jobs=None, n_neighbors=5, p=2,\n",
              "                     weights='uniform')"
            ]
          },
          "metadata": {
            "tags": []
          },
          "execution_count": 16
        }
      ]
    },
    {
      "cell_type": "code",
      "metadata": {
        "id": "pkWop7aUcamo",
        "colab_type": "code",
        "outputId": "28097e3d-ec33-4e4a-e3aa-113a6b38a3d8",
        "colab": {
          "base_uri": "https://localhost:8080/",
          "height": 35
        }
      },
      "source": [
        "knn_clf.score(X_train, y_train)"
      ],
      "execution_count": 0,
      "outputs": [
        {
          "output_type": "execute_result",
          "data": {
            "text/plain": [
              "0.8665730337078652"
            ]
          },
          "metadata": {
            "tags": []
          },
          "execution_count": 17
        }
      ]
    },
    {
      "cell_type": "code",
      "metadata": {
        "id": "uTgpvHQCc1rY",
        "colab_type": "code",
        "colab": {}
      },
      "source": [
        "knn_y_pred = knn_clf.predict(X_train)\n",
        "knn_y_pred_test = knn_clf.predict(X_test)"
      ],
      "execution_count": 0,
      "outputs": []
    },
    {
      "cell_type": "code",
      "metadata": {
        "id": "xegkxGI1cc-r",
        "colab_type": "code",
        "outputId": "0acd19ed-03f3-4f3c-a353-d92cf35537dd",
        "colab": {
          "base_uri": "https://localhost:8080/",
          "height": 35
        }
      },
      "source": [
        "knn_clf.score(X_test, y_test)"
      ],
      "execution_count": 0,
      "outputs": [
        {
          "output_type": "execute_result",
          "data": {
            "text/plain": [
              "0.8268156424581006"
            ]
          },
          "metadata": {
            "tags": []
          },
          "execution_count": 50
        }
      ]
    },
    {
      "cell_type": "markdown",
      "metadata": {
        "id": "3pja6G-GlVGN",
        "colab_type": "text"
      },
      "source": [
        "KNN(n_neighbors = 5(default)) \n",
        "\n",
        "train : 86.66%\n",
        "\n",
        "test = 82.68%"
      ]
    },
    {
      "cell_type": "code",
      "metadata": {
        "id": "eC7hq0o-dbhS",
        "colab_type": "code",
        "outputId": "1af9adb9-ac78-4778-99a8-2f2cdcac5203",
        "colab": {
          "base_uri": "https://localhost:8080/",
          "height": 53
        }
      },
      "source": [
        "confusion_matrix(y_train,knn_y_pred)"
      ],
      "execution_count": 0,
      "outputs": [
        {
          "output_type": "execute_result",
          "data": {
            "text/plain": [
              "array([[405,  39],\n",
              "       [ 56, 212]])"
            ]
          },
          "metadata": {
            "tags": []
          },
          "execution_count": 51
        }
      ]
    },
    {
      "cell_type": "code",
      "metadata": {
        "id": "X31qirz3clmI",
        "colab_type": "code",
        "outputId": "9a44c9ac-7b19-4510-e3e2-ee902c512b70",
        "colab": {
          "base_uri": "https://localhost:8080/",
          "height": 395
        }
      },
      "source": [
        "clf_report = classification_report(y_train, knn_y_pred)\n",
        "print('Train')\n",
        "print(clf_report)\n",
        "\n",
        "print('-------------------------------------------------------------------')\n",
        "clf_report_test = classification_report(y_test, knn_y_pred_test)\n",
        "print('Test')\n",
        "print(clf_report_test)"
      ],
      "execution_count": 0,
      "outputs": [
        {
          "output_type": "stream",
          "text": [
            "Train\n",
            "              precision    recall  f1-score   support\n",
            "\n",
            "           0       0.88      0.91      0.90       444\n",
            "           1       0.84      0.79      0.82       268\n",
            "\n",
            "    accuracy                           0.87       712\n",
            "   macro avg       0.86      0.85      0.86       712\n",
            "weighted avg       0.87      0.87      0.87       712\n",
            "\n",
            "-------------------------------------------------------------------\n",
            "Test\n",
            "              precision    recall  f1-score   support\n",
            "\n",
            "           0       0.84      0.87      0.85       105\n",
            "           1       0.80      0.77      0.79        74\n",
            "\n",
            "    accuracy                           0.83       179\n",
            "   macro avg       0.82      0.82      0.82       179\n",
            "weighted avg       0.83      0.83      0.83       179\n",
            "\n"
          ],
          "name": "stdout"
        }
      ]
    },
    {
      "cell_type": "code",
      "metadata": {
        "id": "mpxDF_spdE9w",
        "colab_type": "code",
        "outputId": "b0ba7d8f-4fef-40df-a057-2b1d45278a97",
        "colab": {
          "base_uri": "https://localhost:8080/",
          "height": 35
        }
      },
      "source": [
        "roc_auc_score(y_train, knn_y_pred)"
      ],
      "execution_count": 0,
      "outputs": [
        {
          "output_type": "execute_result",
          "data": {
            "text/plain": [
              "0.8516034691407824"
            ]
          },
          "metadata": {
            "tags": []
          },
          "execution_count": 25
        }
      ]
    },
    {
      "cell_type": "code",
      "metadata": {
        "id": "2lYT0xRHmBp1",
        "colab_type": "code",
        "outputId": "bbc3e96e-b0ab-4712-bdc7-638a0e8224d2",
        "colab": {
          "base_uri": "https://localhost:8080/",
          "height": 35
        }
      },
      "source": [
        "roc_auc_score(y_test, knn_y_pred_test)"
      ],
      "execution_count": 0,
      "outputs": [
        {
          "output_type": "execute_result",
          "data": {
            "text/plain": [
              "0.8184684684684684"
            ]
          },
          "metadata": {
            "tags": []
          },
          "execution_count": 58
        }
      ]
    },
    {
      "cell_type": "markdown",
      "metadata": {
        "id": "yH5P4pI_eb_M",
        "colab_type": "text"
      },
      "source": [
        "## Simple hyperparam tune - n_neighbors only"
      ]
    },
    {
      "cell_type": "code",
      "metadata": {
        "id": "D5Bvym28egJA",
        "colab_type": "code",
        "outputId": "f88770cb-5c78-4ce9-f04a-b3af693344e6",
        "colab": {
          "base_uri": "https://localhost:8080/",
          "height": 539
        }
      },
      "source": [
        "train_score = []\n",
        "train_auc = []\n",
        "test_score = []\n",
        "test_auc =[]\n",
        "\n",
        "for i in range(1, 31):\n",
        "  knn_model = KNeighborsClassifier(n_neighbors = i)\n",
        "  \n",
        "  knn_model.fit(X_train, y_train)\n",
        "  \n",
        "  y_pred_train = knn_model.predict(X_train)\n",
        "  y_score_train = accuracy_score(y_train, y_pred_train)\n",
        "  roc_auc_score_train = roc_auc_score(y_train, y_pred_train)\n",
        "  \n",
        "  train_score.append(y_score_train)\n",
        "  train_auc.append(roc_auc_score_train)\n",
        "  \n",
        "  y_pred_test = knn_model.predict(X_test)\n",
        "  y_score_test = accuracy_score(y_test, y_pred_test)\n",
        "  roc_auc_score_test = roc_auc_score(y_test, y_pred_test)\n",
        "  \n",
        "  test_score.append(y_score_test)\n",
        "  test_auc.append(roc_auc_score_test)\n",
        "  \n",
        "\n",
        "train_score = np.array(train_score)\n",
        "train_auc = np.array(train_auc)\n",
        "test_score = np.array(test_score)\n",
        "test_auc = np.array(test_auc)\n",
        "knn_neighbors_x_ticks = np.arange(1,31)\n",
        "\n",
        "plt.figure()\n",
        "plt.plot(knn_neighbors_x_ticks, train_score, 'g-o', label = 'train')\n",
        "plt.plot(knn_neighbors_x_ticks, test_score, 'r-o', label = 'test')\n",
        "plt.legend()\n",
        "\n",
        "plt.figure()\n",
        "plt.plot(knn_neighbors_x_ticks, train_auc, 'g-o', label='train')\n",
        "plt.plot(knn_neighbors_x_ticks, test_auc, 'r-o', label = 'test')\n",
        "plt.legend()"
      ],
      "execution_count": 0,
      "outputs": [
        {
          "output_type": "execute_result",
          "data": {
            "text/plain": [
              "<matplotlib.legend.Legend at 0x7f9cefdd8a58>"
            ]
          },
          "metadata": {
            "tags": []
          },
          "execution_count": 46
        },
        {
          "output_type": "display_data",
          "data": {
            "image/png": "[encoded data removed]",
            "text/plain": [
              "<Figure size 432x288 with 1 Axes>"
            ]
          },
          "metadata": {
            "tags": []
          }
        },
        {
          "output_type": "display_data",
          "data": {
            "image/png": "[encoded data removed]",
            "text/plain": [
              "<Figure size 432x288 with 1 Axes>"
            ]
          },
          "metadata": {
            "tags": []
          }
        }
      ]
    },
    {
      "cell_type": "markdown",
      "metadata": {
        "id": "yKpVZ5ZSm7DU",
        "colab_type": "text"
      },
      "source": [
        "## KNN - GridSearchCV"
      ]
    },
    {
      "cell_type": "code",
      "metadata": {
        "id": "53J-xGbOmTAu",
        "colab_type": "code",
        "colab": {}
      },
      "source": [
        "params = {'n_neighbors':np.arange(1,50),\n",
        "          'weights' : ['uniform', 'distance'],\n",
        "          'p':[1,2,3,4,5]}"
      ],
      "execution_count": 0,
      "outputs": []
    },
    {
      "cell_type": "code",
      "metadata": {
        "id": "Ge0Q7RJSlKin",
        "colab_type": "code",
        "colab": {}
      },
      "source": [
        "knn_grid = GridSearchCV(KNeighborsClassifier(), params, cv = 5)"
      ],
      "execution_count": 0,
      "outputs": []
    },
    {
      "cell_type": "code",
      "metadata": {
        "id": "986rrVERmye8",
        "colab_type": "code",
        "outputId": "f5150ac2-0780-4782-be87-45c8e03ff1ef",
        "colab": {
          "base_uri": "https://localhost:8080/",
          "height": 269
        }
      },
      "source": [
        "knn_grid.fit(X_train, y_train)"
      ],
      "execution_count": 0,
      "outputs": [
        {
          "output_type": "execute_result",
          "data": {
            "text/plain": [
              "GridSearchCV(cv=5, error_score='raise-deprecating',\n",
              "             estimator=KNeighborsClassifier(algorithm='auto', leaf_size=30,\n",
              "                                            metric='minkowski',\n",
              "                                            metric_params=None, n_jobs=None,\n",
              "                                            n_neighbors=5, p=2,\n",
              "                                            weights='uniform'),\n",
              "             iid='warn', n_jobs=None,\n",
              "             param_grid={'n_neighbors': array([ 1,  2,  3,  4,  5,  6,  7,  8,  9, 10, 11, 12, 13, 14, 15, 16, 17,\n",
              "       18, 19, 20, 21, 22, 23, 24, 25, 26, 27, 28, 29, 30, 31, 32, 33, 34,\n",
              "       35, 36, 37, 38, 39, 40, 41, 42, 43, 44, 45, 46, 47, 48, 49]),\n",
              "                         'p': [1, 2, 3, 4, 5],\n",
              "                         'weights': ['uniform', 'distance']},\n",
              "             pre_dispatch='2*n_jobs', refit=True, return_train_score=False,\n",
              "             scoring=None, verbose=0)"
            ]
          },
          "metadata": {
            "tags": []
          },
          "execution_count": 62
        }
      ]
    },
    {
      "cell_type": "code",
      "metadata": {
        "id": "xT_Emx2GnKmd",
        "colab_type": "code",
        "outputId": "9ce13b8b-c8aa-4805-de27-6954f1b4c8cf",
        "colab": {
          "base_uri": "https://localhost:8080/",
          "height": 35
        }
      },
      "source": [
        "knn_grid.best_params_"
      ],
      "execution_count": 0,
      "outputs": [
        {
          "output_type": "execute_result",
          "data": {
            "text/plain": [
              "{'n_neighbors': 8, 'p': 2, 'weights': 'uniform'}"
            ]
          },
          "metadata": {
            "tags": []
          },
          "execution_count": 63
        }
      ]
    },
    {
      "cell_type": "code",
      "metadata": {
        "id": "KprG9iQrnNRU",
        "colab_type": "code",
        "outputId": "33b66fa3-9440-4acf-93af-a0d5afda7b9d",
        "colab": {
          "base_uri": "https://localhost:8080/",
          "height": 35
        }
      },
      "source": [
        "knn_grid.best_score_"
      ],
      "execution_count": 0,
      "outputs": [
        {
          "output_type": "execute_result",
          "data": {
            "text/plain": [
              "0.824438202247191"
            ]
          },
          "metadata": {
            "tags": []
          },
          "execution_count": 64
        }
      ]
    },
    {
      "cell_type": "markdown",
      "metadata": {
        "id": "nEo7GQujorVK",
        "colab_type": "text"
      },
      "source": [
        "knn with optimized"
      ]
    },
    {
      "cell_type": "code",
      "metadata": {
        "id": "UKnxlLlkonSa",
        "colab_type": "code",
        "outputId": "a0857bee-07a9-4cd8-b4e6-7a24f19e9e67",
        "colab": {
          "base_uri": "https://localhost:8080/",
          "height": 35
        }
      },
      "source": [
        "knn_grid.best_estimator_.score(X_train,y_train)"
      ],
      "execution_count": 0,
      "outputs": [
        {
          "output_type": "execute_result",
          "data": {
            "text/plain": [
              "0.8469101123595506"
            ]
          },
          "metadata": {
            "tags": []
          },
          "execution_count": 66
        }
      ]
    },
    {
      "cell_type": "code",
      "metadata": {
        "id": "O35rrlYZnRI0",
        "colab_type": "code",
        "outputId": "30d729dc-8271-42d8-9c90-a614fd7c8e66",
        "colab": {
          "base_uri": "https://localhost:8080/",
          "height": 35
        }
      },
      "source": [
        "knn_grid.best_estimator_.score(X_test, y_test)"
      ],
      "execution_count": 0,
      "outputs": [
        {
          "output_type": "execute_result",
          "data": {
            "text/plain": [
              "0.7932960893854749"
            ]
          },
          "metadata": {
            "tags": []
          },
          "execution_count": 65
        }
      ]
    },
    {
      "cell_type": "markdown",
      "metadata": {
        "id": "e7IuQMrnouhL",
        "colab_type": "text"
      },
      "source": [
        "## Conclusion : \n",
        "\n",
        "for the KNN, its baseline is \n",
        "\n",
        "Train : 0.8665730337078652 $\\approx 86.66$%\n",
        "\n",
        "test = 0.8268156424581006 $\\approx 82.68$%\n",
        "\n",
        "---\n",
        "the model could be better via gridsearch , however, its score is \n",
        "\n",
        "Train : 0.8469101123595506 $ \\approx 84.69$% \n",
        "\n",
        "Test : 0.7932960893854749  $\\approx 79.32$%\n",
        "\n",
        "even the base model has more bigger AUC score"
      ]
    },
    {
      "cell_type": "markdown",
      "metadata": {
        "id": "aCn1LRdXwwUh",
        "colab_type": "text"
      },
      "source": [
        "# 2) Naive Bayes"
      ]
    },
    {
      "cell_type": "markdown",
      "metadata": {
        "id": "KJgkdusLvLXa",
        "colab_type": "text"
      },
      "source": [
        "## 2-1) Naive Bayes - BernoulliNB\n",
        "\n",
        "\n",
        "one-hot encoding, you are basically dealing with boolean features now. In other words each term/feature is following a Bernoulli distribution. That being said, I would use a multivariate Bernoulli NB or a multinomial NB with boolean features (which you already have). Gaussian NB seems a bit off here since you don't deal with real-valued features.  - from StackExchange"
      ]
    },
    {
      "cell_type": "code",
      "metadata": {
        "id": "pifEZY37vRjg",
        "colab_type": "code",
        "colab": {}
      },
      "source": [
        "br_clf = BernoulliNB()"
      ],
      "execution_count": 0,
      "outputs": []
    },
    {
      "cell_type": "code",
      "metadata": {
        "id": "yffP9YqMvVzo",
        "colab_type": "code",
        "outputId": "d63a21b8-4d9a-42cb-b7bc-5e41277f4311",
        "colab": {
          "base_uri": "https://localhost:8080/",
          "height": 35
        }
      },
      "source": [
        "br_clf.fit(X_train, y_train)"
      ],
      "execution_count": 0,
      "outputs": [
        {
          "output_type": "execute_result",
          "data": {
            "text/plain": [
              "BernoulliNB(alpha=1.0, binarize=0.0, class_prior=None, fit_prior=True)"
            ]
          },
          "metadata": {
            "tags": []
          },
          "execution_count": 78
        }
      ]
    },
    {
      "cell_type": "code",
      "metadata": {
        "id": "PkM94f-yvVxh",
        "colab_type": "code",
        "outputId": "c8a0076b-a2e6-421c-9c0d-4344b399b3c7",
        "colab": {
          "base_uri": "https://localhost:8080/",
          "height": 35
        }
      },
      "source": [
        "br_clf.score(X_train, y_train)"
      ],
      "execution_count": 0,
      "outputs": [
        {
          "output_type": "execute_result",
          "data": {
            "text/plain": [
              "0.8019662921348315"
            ]
          },
          "metadata": {
            "tags": []
          },
          "execution_count": 79
        }
      ]
    },
    {
      "cell_type": "code",
      "metadata": {
        "id": "FUjc1frsvkp4",
        "colab_type": "code",
        "outputId": "e54cd2f9-54e6-47e1-adc9-d1e089cd857f",
        "colab": {
          "base_uri": "https://localhost:8080/",
          "height": 35
        }
      },
      "source": [
        "br_clf.score(X_test, y_test)"
      ],
      "execution_count": 0,
      "outputs": [
        {
          "output_type": "execute_result",
          "data": {
            "text/plain": [
              "0.7821229050279329"
            ]
          },
          "metadata": {
            "tags": []
          },
          "execution_count": 80
        }
      ]
    },
    {
      "cell_type": "markdown",
      "metadata": {
        "id": "1ReuYLgZp3Zz",
        "colab_type": "text"
      },
      "source": [
        "## 2-2) Naive Bayes - GaussianNB - reference"
      ]
    },
    {
      "cell_type": "code",
      "metadata": {
        "id": "AGq1-tOgqBFy",
        "colab_type": "code",
        "colab": {}
      },
      "source": [
        "gb_clf = GaussianNB()"
      ],
      "execution_count": 0,
      "outputs": []
    },
    {
      "cell_type": "code",
      "metadata": {
        "id": "2n8eHvgMrccD",
        "colab_type": "code",
        "outputId": "10c699bd-fd74-4ea2-979d-db2516d1ba72",
        "colab": {
          "base_uri": "https://localhost:8080/",
          "height": 35
        }
      },
      "source": [
        "gb_clf.fit(X_train,y_train)"
      ],
      "execution_count": 0,
      "outputs": [
        {
          "output_type": "execute_result",
          "data": {
            "text/plain": [
              "GaussianNB(priors=None, var_smoothing=1e-09)"
            ]
          },
          "metadata": {
            "tags": []
          },
          "execution_count": 27
        }
      ]
    },
    {
      "cell_type": "code",
      "metadata": {
        "id": "9bj6xq0rrfrq",
        "colab_type": "code",
        "outputId": "da5e0390-bc47-44cc-94d7-9def200bd4eb",
        "colab": {
          "base_uri": "https://localhost:8080/",
          "height": 35
        }
      },
      "source": [
        "gb_clf.score(X_train, y_train)"
      ],
      "execution_count": 0,
      "outputs": [
        {
          "output_type": "execute_result",
          "data": {
            "text/plain": [
              "0.4101123595505618"
            ]
          },
          "metadata": {
            "tags": []
          },
          "execution_count": 28
        }
      ]
    },
    {
      "cell_type": "code",
      "metadata": {
        "id": "mhO7mmOArjsi",
        "colab_type": "code",
        "outputId": "f567875f-a603-468d-8dfc-7c01a274c399",
        "colab": {
          "base_uri": "https://localhost:8080/",
          "height": 35
        }
      },
      "source": [
        "gb_clf.score(X_test, y_test)"
      ],
      "execution_count": 0,
      "outputs": [
        {
          "output_type": "execute_result",
          "data": {
            "text/plain": [
              "0.4245810055865922"
            ]
          },
          "metadata": {
            "tags": []
          },
          "execution_count": 29
        }
      ]
    },
    {
      "cell_type": "markdown",
      "metadata": {
        "id": "o5pWxd-GsN35",
        "colab_type": "text"
      },
      "source": [
        "## Conclusion, \n",
        "the data is already onehot encoded, and it represents boolean features. So i used the BernoulliNB, and its performance is \n",
        "\n",
        "Train : 0.8019662921348315 $\\approx$ 80.20%\n",
        "\n",
        "Test : 0.7821229050279329  $\\approx$ 78.21%"
      ]
    },
    {
      "cell_type": "markdown",
      "metadata": {
        "id": "zFgSbdwB20pY",
        "colab_type": "text"
      },
      "source": [
        "# 3) SVM"
      ]
    },
    {
      "cell_type": "markdown",
      "metadata": {
        "id": "vX7rX3BSNiDz",
        "colab_type": "text"
      },
      "source": [
        "## 4-1) Linear SVC"
      ]
    },
    {
      "cell_type": "code",
      "metadata": {
        "id": "hFiZ3Od023Ve",
        "colab_type": "code",
        "colab": {}
      },
      "source": [
        "svm_lin_clf = LinearSVC(random_state=42)"
      ],
      "execution_count": 0,
      "outputs": []
    },
    {
      "cell_type": "code",
      "metadata": {
        "id": "2xt_K_pENhWE",
        "colab_type": "code",
        "outputId": "35de0e8c-e4c7-4ce9-ed0a-9f15bc50df5e",
        "colab": {
          "base_uri": "https://localhost:8080/",
          "height": 89
        }
      },
      "source": [
        "svm_lin_clf.fit(X_train, y_train)"
      ],
      "execution_count": 0,
      "outputs": [
        {
          "output_type": "execute_result",
          "data": {
            "text/plain": [
              "LinearSVC(C=1.0, class_weight=None, dual=True, fit_intercept=True,\n",
              "          intercept_scaling=1, loss='squared_hinge', max_iter=1000,\n",
              "          multi_class='ovr', penalty='l2', random_state=42, tol=0.0001,\n",
              "          verbose=0)"
            ]
          },
          "metadata": {
            "tags": []
          },
          "execution_count": 144
        }
      ]
    },
    {
      "cell_type": "code",
      "metadata": {
        "id": "8QsooNiJNhTz",
        "colab_type": "code",
        "outputId": "3c4bd9e1-2aff-48e6-80d8-fd8305e24480",
        "colab": {
          "base_uri": "https://localhost:8080/",
          "height": 35
        }
      },
      "source": [
        "svm_lin_clf.score(X_train, y_train)"
      ],
      "execution_count": 0,
      "outputs": [
        {
          "output_type": "execute_result",
          "data": {
            "text/plain": [
              "0.8370786516853933"
            ]
          },
          "metadata": {
            "tags": []
          },
          "execution_count": 145
        }
      ]
    },
    {
      "cell_type": "code",
      "metadata": {
        "id": "VUDRj1sHNhRs",
        "colab_type": "code",
        "outputId": "3dc0676a-6b45-408e-e50c-61a0aeef8ae6",
        "colab": {
          "base_uri": "https://localhost:8080/",
          "height": 35
        }
      },
      "source": [
        "svm_lin_clf.score(X_test, y_test)"
      ],
      "execution_count": 0,
      "outputs": [
        {
          "output_type": "execute_result",
          "data": {
            "text/plain": [
              "0.8100558659217877"
            ]
          },
          "metadata": {
            "tags": []
          },
          "execution_count": 146
        }
      ]
    },
    {
      "cell_type": "markdown",
      "metadata": {
        "id": "DlkZlt6yNy6U",
        "colab_type": "text"
      },
      "source": [
        "## Linear SVC - GridSearch"
      ]
    },
    {
      "cell_type": "code",
      "metadata": {
        "id": "u2yzO9HrNwf7",
        "colab_type": "code",
        "colab": {}
      },
      "source": [
        "params = {'loss':['hinge', ],\n",
        "          'C' : np.logspace(0, 10, 50)}"
      ],
      "execution_count": 0,
      "outputs": []
    },
    {
      "cell_type": "code",
      "metadata": {
        "id": "qEKxwEULNwdT",
        "colab_type": "code",
        "colab": {}
      },
      "source": [
        "svm_lin_grid = GridSearchCV(LinearSVC(random_state = 42), params, cv = 5)"
      ],
      "execution_count": 0,
      "outputs": []
    },
    {
      "cell_type": "code",
      "metadata": {
        "id": "UELChs0qObYq",
        "colab_type": "code",
        "outputId": "783103c7-ca27-4bed-cdf4-687198d44c27",
        "colab": {
          "base_uri": "https://localhost:8080/",
          "height": 305
        }
      },
      "source": [
        "svm_lin_grid.fit(X_train, y_train)"
      ],
      "execution_count": 0,
      "outputs": [
        {
          "output_type": "execute_result",
          "data": {
            "text/plain": [
              "GridSearchCV(cv=5, error_score='raise-deprecating',\n",
              "             estimator=LinearSVC(C=1.0, class_weight=None, dual=True,\n",
              "                                 fit_intercept=True, intercept_scaling=1,\n",
              "                                 loss='squared_hinge', max_iter=1000,\n",
              "                                 multi_class='ovr', penalty='l2',\n",
              "                                 random_state=42, tol=0.0001, verbose=0),\n",
              "             iid='warn', n_jobs=None,\n",
              "             param_grid={'C': array([1.00000000e+00, 1.59985872e+00, 2.55954792e+00, 4.09491506e+...\n",
              "       3.39322177e+06, 5.42867544e+06, 8.68511374e+06, 1.38949549e+07,\n",
              "       2.22299648e+07, 3.55648031e+07, 5.68986603e+07, 9.10298178e+07,\n",
              "       1.45634848e+08, 2.32995181e+08, 3.72759372e+08, 5.96362332e+08,\n",
              "       9.54095476e+08, 1.52641797e+09, 2.44205309e+09, 3.90693994e+09,\n",
              "       6.25055193e+09, 1.00000000e+10]),\n",
              "                         'loss': ['hinge']},\n",
              "             pre_dispatch='2*n_jobs', refit=True, return_train_score=False,\n",
              "             scoring=None, verbose=0)"
            ]
          },
          "metadata": {
            "tags": []
          },
          "execution_count": 148
        }
      ]
    },
    {
      "cell_type": "code",
      "metadata": {
        "id": "OGPWt8rjOgkK",
        "colab_type": "code",
        "outputId": "9537dcff-30eb-44f0-bdd5-4f1545dad16c",
        "colab": {
          "base_uri": "https://localhost:8080/",
          "height": 35
        }
      },
      "source": [
        "svm_lin_grid.best_params_"
      ],
      "execution_count": 0,
      "outputs": [
        {
          "output_type": "execute_result",
          "data": {
            "text/plain": [
              "{'C': 1.599858719606058, 'loss': 'hinge'}"
            ]
          },
          "metadata": {
            "tags": []
          },
          "execution_count": 149
        }
      ]
    },
    {
      "cell_type": "code",
      "metadata": {
        "id": "eYjRZe99OjOC",
        "colab_type": "code",
        "outputId": "a2f6840f-1aa8-4cd7-a831-47ca5eca55b9",
        "colab": {
          "base_uri": "https://localhost:8080/",
          "height": 35
        }
      },
      "source": [
        "svm_lin_grid.best_score_"
      ],
      "execution_count": 0,
      "outputs": [
        {
          "output_type": "execute_result",
          "data": {
            "text/plain": [
              "0.824438202247191"
            ]
          },
          "metadata": {
            "tags": []
          },
          "execution_count": 150
        }
      ]
    },
    {
      "cell_type": "code",
      "metadata": {
        "id": "LIKcSuRxOmDK",
        "colab_type": "code",
        "outputId": "4b21b13f-781e-4e4b-9282-951fde2c7110",
        "colab": {
          "base_uri": "https://localhost:8080/",
          "height": 35
        }
      },
      "source": [
        "svm_lin_grid.best_estimator_.score(X_train, y_train)"
      ],
      "execution_count": 0,
      "outputs": [
        {
          "output_type": "execute_result",
          "data": {
            "text/plain": [
              "0.8286516853932584"
            ]
          },
          "metadata": {
            "tags": []
          },
          "execution_count": 151
        }
      ]
    },
    {
      "cell_type": "code",
      "metadata": {
        "id": "TpZGEcWIOqlS",
        "colab_type": "code",
        "outputId": "cd257ded-497c-45e6-8289-f4c4f8d05453",
        "colab": {
          "base_uri": "https://localhost:8080/",
          "height": 35
        }
      },
      "source": [
        "svm_lin_grid.best_estimator_.score(X_test, y_test)"
      ],
      "execution_count": 0,
      "outputs": [
        {
          "output_type": "execute_result",
          "data": {
            "text/plain": [
              "0.8100558659217877"
            ]
          },
          "metadata": {
            "tags": []
          },
          "execution_count": 152
        }
      ]
    },
    {
      "cell_type": "markdown",
      "metadata": {
        "id": "NP3kXjvQO3tq",
        "colab_type": "text"
      },
      "source": [
        "### Reference : only change loss"
      ]
    },
    {
      "cell_type": "code",
      "metadata": {
        "id": "VwoId6jvO3SL",
        "colab_type": "code",
        "colab": {}
      },
      "source": [
        "ref_svm_lin = LinearSVC(loss = 'hinge', random_state=42)"
      ],
      "execution_count": 0,
      "outputs": []
    },
    {
      "cell_type": "code",
      "metadata": {
        "id": "C3LwJo2dPDKw",
        "colab_type": "code",
        "outputId": "5fde962e-357c-44de-9382-9774dcc563dc",
        "colab": {
          "base_uri": "https://localhost:8080/",
          "height": 71
        }
      },
      "source": [
        "ref_svm_lin.fit(X_train, y_train)"
      ],
      "execution_count": 0,
      "outputs": [
        {
          "output_type": "execute_result",
          "data": {
            "text/plain": [
              "LinearSVC(C=1.0, class_weight=None, dual=True, fit_intercept=True,\n",
              "          intercept_scaling=1, loss='hinge', max_iter=1000, multi_class='ovr',\n",
              "          penalty='l2', random_state=42, tol=0.0001, verbose=0)"
            ]
          },
          "metadata": {
            "tags": []
          },
          "execution_count": 154
        }
      ]
    },
    {
      "cell_type": "code",
      "metadata": {
        "id": "bolduyrGPFXT",
        "colab_type": "code",
        "outputId": "eac78600-427b-43ca-b497-90ac0b7be2c3",
        "colab": {
          "base_uri": "https://localhost:8080/",
          "height": 35
        }
      },
      "source": [
        "ref_svm_lin.score(X_train, y_train)"
      ],
      "execution_count": 0,
      "outputs": [
        {
          "output_type": "execute_result",
          "data": {
            "text/plain": [
              "0.8286516853932584"
            ]
          },
          "metadata": {
            "tags": []
          },
          "execution_count": 155
        }
      ]
    },
    {
      "cell_type": "code",
      "metadata": {
        "id": "HJhk6yNGPH_z",
        "colab_type": "code",
        "outputId": "b85421fc-88ca-4f44-8616-ce2b7cdef9dd",
        "colab": {
          "base_uri": "https://localhost:8080/",
          "height": 35
        }
      },
      "source": [
        "ref_svm_lin.score(X_test, y_test)"
      ],
      "execution_count": 0,
      "outputs": [
        {
          "output_type": "execute_result",
          "data": {
            "text/plain": [
              "0.8100558659217877"
            ]
          },
          "metadata": {
            "tags": []
          },
          "execution_count": 156
        }
      ]
    },
    {
      "cell_type": "markdown",
      "metadata": {
        "id": "Az5KkiiGOueq",
        "colab_type": "text"
      },
      "source": [
        "## Conclusion - Linear SVC\n",
        "\n",
        "for the linear svc, its performance is \n",
        "\n",
        "Train : 0.8286516853932584  $\\approx $ 82.87%\n",
        "\n",
        "Test : 0.8100558659217877 $\\approx $ 81.00%"
      ]
    },
    {
      "cell_type": "markdown",
      "metadata": {
        "id": "FWREWYlwPofM",
        "colab_type": "text"
      },
      "source": [
        "## 4-2) SVC with Kernel"
      ]
    },
    {
      "cell_type": "code",
      "metadata": {
        "id": "NEgc22QzPtnh",
        "colab_type": "code",
        "colab": {}
      },
      "source": [
        "svm_clf = SVC()"
      ],
      "execution_count": 0,
      "outputs": []
    },
    {
      "cell_type": "code",
      "metadata": {
        "id": "nkQyNYGqQIXV",
        "colab_type": "code",
        "outputId": "e04775ea-5217-4332-bde1-fefc5fcfaa85",
        "colab": {
          "base_uri": "https://localhost:8080/",
          "height": 89
        }
      },
      "source": [
        "svm_clf.fit(X_train, y_train)"
      ],
      "execution_count": 0,
      "outputs": [
        {
          "output_type": "execute_result",
          "data": {
            "text/plain": [
              "SVC(C=1.0, cache_size=200, class_weight=None, coef0=0.0,\n",
              "    decision_function_shape='ovr', degree=3, gamma='auto_deprecated',\n",
              "    kernel='rbf', max_iter=-1, probability=False, random_state=None,\n",
              "    shrinking=True, tol=0.001, verbose=False)"
            ]
          },
          "metadata": {
            "tags": []
          },
          "execution_count": 158
        }
      ]
    },
    {
      "cell_type": "code",
      "metadata": {
        "id": "xC1un0yzQIVT",
        "colab_type": "code",
        "outputId": "cb31ca8f-8374-4d25-e153-f7f66ce6e915",
        "colab": {
          "base_uri": "https://localhost:8080/",
          "height": 35
        }
      },
      "source": [
        "svm_clf.score(X_train, y_train)"
      ],
      "execution_count": 0,
      "outputs": [
        {
          "output_type": "execute_result",
          "data": {
            "text/plain": [
              "0.7935393258426966"
            ]
          },
          "metadata": {
            "tags": []
          },
          "execution_count": 159
        }
      ]
    },
    {
      "cell_type": "code",
      "metadata": {
        "id": "3V-is7tLQITK",
        "colab_type": "code",
        "outputId": "8326b67f-7cd6-4e86-b869-4c9324a06948",
        "colab": {
          "base_uri": "https://localhost:8080/",
          "height": 35
        }
      },
      "source": [
        "svm_clf.score(X_test, y_test)"
      ],
      "execution_count": 0,
      "outputs": [
        {
          "output_type": "execute_result",
          "data": {
            "text/plain": [
              "0.7821229050279329"
            ]
          },
          "metadata": {
            "tags": []
          },
          "execution_count": 160
        }
      ]
    },
    {
      "cell_type": "markdown",
      "metadata": {
        "id": "VS65RVVLQP6C",
        "colab_type": "text"
      },
      "source": [
        "## SVC - GridSearch"
      ]
    },
    {
      "cell_type": "code",
      "metadata": {
        "id": "q8xVTOhTQIQ6",
        "colab_type": "code",
        "colab": {}
      },
      "source": [
        "params = {'C': np.linspace(1, 100, 50),\n",
        "          'gamma': [0, 1, 0.1, 0.001, 0.0001],\n",
        "          'kernel' : ['rbf', 'linear']}"
      ],
      "execution_count": 0,
      "outputs": []
    },
    {
      "cell_type": "code",
      "metadata": {
        "id": "m8fVWroWQUFr",
        "colab_type": "code",
        "colab": {}
      },
      "source": [
        "svm_grid = GridSearchCV(SVC(random_state=42), params, cv = 5)"
      ],
      "execution_count": 0,
      "outputs": []
    },
    {
      "cell_type": "code",
      "metadata": {
        "id": "aqqaeRp9Rjt5",
        "colab_type": "code",
        "outputId": "8dde9b8c-cb53-4c85-8873-a0dc73d0f612",
        "colab": {
          "base_uri": "https://localhost:8080/",
          "height": 323
        }
      },
      "source": [
        "svm_grid.fit(X_train, y_train)"
      ],
      "execution_count": 0,
      "outputs": [
        {
          "output_type": "execute_result",
          "data": {
            "text/plain": [
              "GridSearchCV(cv=5, error_score='raise-deprecating',\n",
              "             estimator=SVC(C=1.0, cache_size=200, class_weight=None, coef0=0.0,\n",
              "                           decision_function_shape='ovr', degree=3,\n",
              "                           gamma='auto_deprecated', kernel='rbf', max_iter=-1,\n",
              "                           probability=False, random_state=42, shrinking=True,\n",
              "                           tol=0.001, verbose=False),\n",
              "             iid='warn', n_jobs=None,\n",
              "             param_grid={'C': array([  1.        ,   3.02040816,   5.04081633,   7.06...\n",
              "        65.65306122,  67.67346939,  69.69387755,  71.71428571,\n",
              "        73.73469388,  75.75510204,  77.7755102 ,  79.79591837,\n",
              "        81.81632653,  83.83673469,  85.85714286,  87.87755102,\n",
              "        89.89795918,  91.91836735,  93.93877551,  95.95918367,\n",
              "        97.97959184, 100.        ]),\n",
              "                         'gamma': [0, 1, 0.1, 0.001, 0.0001],\n",
              "                         'kernel': ['rbf', 'linear']},\n",
              "             pre_dispatch='2*n_jobs', refit=True, return_train_score=False,\n",
              "             scoring=None, verbose=0)"
            ]
          },
          "metadata": {
            "tags": []
          },
          "execution_count": 181
        }
      ]
    },
    {
      "cell_type": "code",
      "metadata": {
        "id": "r5oQ8nNfT17I",
        "colab_type": "code",
        "outputId": "edb99825-f658-4df4-c14f-63dc58dfdcf8",
        "colab": {
          "base_uri": "https://localhost:8080/",
          "height": 35
        }
      },
      "source": [
        "svm_grid.best_params_"
      ],
      "execution_count": 0,
      "outputs": [
        {
          "output_type": "execute_result",
          "data": {
            "text/plain": [
              "{'C': 3.020408163265306, 'gamma': 0.1, 'kernel': 'rbf'}"
            ]
          },
          "metadata": {
            "tags": []
          },
          "execution_count": 182
        }
      ]
    },
    {
      "cell_type": "code",
      "metadata": {
        "id": "tHiOfLMjT5AB",
        "colab_type": "code",
        "outputId": "7e24117d-a474-4ff0-fa52-065088a7cc4a",
        "colab": {
          "base_uri": "https://localhost:8080/",
          "height": 35
        }
      },
      "source": [
        "svm_grid.best_score_"
      ],
      "execution_count": 0,
      "outputs": [
        {
          "output_type": "execute_result",
          "data": {
            "text/plain": [
              "0.8356741573033708"
            ]
          },
          "metadata": {
            "tags": []
          },
          "execution_count": 183
        }
      ]
    },
    {
      "cell_type": "code",
      "metadata": {
        "id": "nlR2DK4fT6xB",
        "colab_type": "code",
        "outputId": "19ba1332-f4eb-4071-cc09-957ce0a7261f",
        "colab": {
          "base_uri": "https://localhost:8080/",
          "height": 35
        }
      },
      "source": [
        "svm_grid.best_estimator_.score(X_train, y_train)"
      ],
      "execution_count": 0,
      "outputs": [
        {
          "output_type": "execute_result",
          "data": {
            "text/plain": [
              "0.8553370786516854"
            ]
          },
          "metadata": {
            "tags": []
          },
          "execution_count": 184
        }
      ]
    },
    {
      "cell_type": "code",
      "metadata": {
        "id": "oKAIZ-LST-HA",
        "colab_type": "code",
        "outputId": "7f1ec958-c9e9-46ef-a2c7-d52513fd81d9",
        "colab": {
          "base_uri": "https://localhost:8080/",
          "height": 35
        }
      },
      "source": [
        "svm_grid.best_estimator_.score(X_test, y_test)"
      ],
      "execution_count": 0,
      "outputs": [
        {
          "output_type": "execute_result",
          "data": {
            "text/plain": [
              "0.7988826815642458"
            ]
          },
          "metadata": {
            "tags": []
          },
          "execution_count": 185
        }
      ]
    },
    {
      "cell_type": "markdown",
      "metadata": {
        "id": "bE0LOL4AUChu",
        "colab_type": "text"
      },
      "source": [
        "## Conclusion - SVC\n",
        "\n",
        "for the svc with kernal, its performance is \n",
        "\n",
        "Train : 0.8553370786516854  $\\approx $ 85.53%\n",
        "\n",
        "Test : 0.7988826815642458 $\\approx $ 79.89%\n",
        "\n",
        "with gridsearch : \n",
        "\n",
        "{'C': 3.020408163265306, 'gamma': 0.1, 'kernel': 'rbf'}"
      ]
    }
  ]
}