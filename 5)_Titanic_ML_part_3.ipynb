{
  "nbformat": 4,
  "nbformat_minor": 0,
  "metadata": {
    "colab": {
      "name": "5) Titanic ML_part_3.ipynb",
      "version": "0.3.2",
      "provenance": [],
      "collapsed_sections": [
        "0qVmD8KUk7Y6"
      ],
      "include_colab_link": true
    },
    "kernelspec": {
      "name": "python3",
      "display_name": "Python 3"
    },
    "accelerator": "GPU"
  },
  "cells": [
    {
      "cell_type": "markdown",
      "metadata": {
        "id": "view-in-github",
        "colab_type": "text"
      },
      "source": [
        "<a href=\"https://colab.research.google.com/github/seunghwan1228/Titanic/blob/master/5)_Titanic_ML_part_3.ipynb\" target=\"_parent\"><img src=\"https://colab.research.google.com/assets/colab-badge.svg\" alt=\"Open In Colab\"/></a>"
      ]
    },
    {
      "cell_type": "markdown",
      "metadata": {
        "id": "bRgqj62vUkQz",
        "colab_type": "text"
      },
      "source": [
        "# This document contains several ML models, \n",
        "the baseline of accuracy is \n",
        "\n",
        "Training : 0.8441011235955056  ≈  84.41%\n",
        "\n",
        "Validation : 0.7988826815642458  ≈  79.89%\n",
        "---\n",
        "## Object : \n",
        "\n",
        "Running many different models and choose more valueable model to use \n",
        "\n",
        "---\n",
        "\n",
        "\n",
        "Part 2\n",
        "*  KNN\n",
        "* Naive Bayes\n",
        "* Logistic Regression\n",
        "* SVM - linear / kernel\n",
        "\n",
        "\n",
        "---\n",
        "\n",
        "part 3\n",
        "* ## Decision Tree - with visualization\n",
        "* ## Boosting - Adaboost / gradient boost\n",
        "* ## RandomForest\n",
        "* ## Ensemble - Vote classifier with (Randomforest, KNN, Naive Bayes, Logit, SVM, AdaBoost, XGboost)\n",
        "\n",
        "\n",
        "\n",
        "---\n",
        "\n",
        "\n",
        "part 4\n",
        "*  Neural network with Keras"
      ]
    },
    {
      "cell_type": "code",
      "metadata": {
        "id": "jB1tDpQzUjEn",
        "colab_type": "code",
        "colab": {}
      },
      "source": [
        "import pandas as pd\n",
        "import numpy as np\n",
        "import matplotlib.pyplot as plt\n",
        "import seaborn as sns\n",
        "import warnings\n",
        "from sklearn.model_selection import train_test_split\n",
        "from sklearn.model_selection import GridSearchCV\n",
        "from sklearn.model_selection import cross_val_score\n",
        "from sklearn.ensemble import VotingClassifier\n",
        "from sklearn.tree import DecisionTreeClassifier\n",
        "from sklearn.ensemble import AdaBoostClassifier, GradientBoostingClassifier\n",
        "from sklearn.ensemble import RandomForestClassifier\n",
        "from sklearn.neighbors import KNeighborsClassifier\n",
        "from sklearn.naive_bayes import BernoulliNB, GaussianNB\n",
        "from sklearn.linear_model import LogisticRegression\n",
        "from sklearn.svm import SVC\n",
        "from sklearn.metrics import roc_auc_score\n",
        "from sklearn.metrics import roc_curve\n",
        "from sklearn.metrics import confusion_matrix\n",
        "from sklearn.metrics import classification_report\n",
        "from sklearn.metrics import accuracy_score\n",
        "from xgboost import XGBClassifier\n",
        "from sklearn.tree import export_graphviz\n",
        "import graphviz\n",
        "\n",
        "\n",
        "warnings.filterwarnings('ignore')"
      ],
      "execution_count": 0,
      "outputs": []
    },
    {
      "cell_type": "markdown",
      "metadata": {
        "id": "WRAuvB-bZ0FK",
        "colab_type": "text"
      },
      "source": [
        "# 0) pre_steps"
      ]
    },
    {
      "cell_type": "code",
      "metadata": {
        "id": "68AFqeodU1IR",
        "colab_type": "code",
        "colab": {}
      },
      "source": [
        "train = pd.read_csv('/content/drive/input/Titanic/working_dir/train_final.csv')"
      ],
      "execution_count": 0,
      "outputs": []
    },
    {
      "cell_type": "code",
      "metadata": {
        "id": "qxn3WWiHZ6c6",
        "colab_type": "code",
        "outputId": "2c28005e-31c1-4cd4-b050-688cc16794b2",
        "colab": {
          "base_uri": "https://localhost:8080/",
          "height": 224
        }
      },
      "source": [
        "train.head()"
      ],
      "execution_count": 0,
      "outputs": [
        {
          "output_type": "execute_result",
          "data": {
            "text/html": [
              "<div>\n",
              "<style scoped>\n",
              "    .dataframe tbody tr th:only-of-type {\n",
              "        vertical-align: middle;\n",
              "    }\n",
              "\n",
              "    .dataframe tbody tr th {\n",
              "        vertical-align: top;\n",
              "    }\n",
              "\n",
              "    .dataframe thead th {\n",
              "        text-align: right;\n",
              "    }\n",
              "</style>\n",
              "<table border=\"1\" class=\"dataframe\">\n",
              "  <thead>\n",
              "    <tr style=\"text-align: right;\">\n",
              "      <th></th>\n",
              "      <th>0</th>\n",
              "      <th>1</th>\n",
              "      <th>2</th>\n",
              "      <th>3</th>\n",
              "      <th>4</th>\n",
              "      <th>5</th>\n",
              "      <th>6</th>\n",
              "      <th>7</th>\n",
              "      <th>8</th>\n",
              "      <th>9</th>\n",
              "      <th>10</th>\n",
              "      <th>11</th>\n",
              "      <th>12</th>\n",
              "      <th>13</th>\n",
              "      <th>14</th>\n",
              "      <th>15</th>\n",
              "      <th>16</th>\n",
              "      <th>17</th>\n",
              "      <th>18</th>\n",
              "      <th>19</th>\n",
              "      <th>20</th>\n",
              "      <th>21</th>\n",
              "      <th>22</th>\n",
              "      <th>23</th>\n",
              "      <th>24</th>\n",
              "      <th>25</th>\n",
              "      <th>26</th>\n",
              "      <th>27</th>\n",
              "      <th>28</th>\n",
              "      <th>Survived</th>\n",
              "    </tr>\n",
              "  </thead>\n",
              "  <tbody>\n",
              "    <tr>\n",
              "      <th>0</th>\n",
              "      <td>-0.502445</td>\n",
              "      <td>0.0</td>\n",
              "      <td>1.0</td>\n",
              "      <td>1.0</td>\n",
              "      <td>0.0</td>\n",
              "      <td>1.0</td>\n",
              "      <td>0.0</td>\n",
              "      <td>0.0</td>\n",
              "      <td>1.0</td>\n",
              "      <td>0.0</td>\n",
              "      <td>0.0</td>\n",
              "      <td>0.0</td>\n",
              "      <td>1.0</td>\n",
              "      <td>0.0</td>\n",
              "      <td>0.0</td>\n",
              "      <td>0.0</td>\n",
              "      <td>0.0</td>\n",
              "      <td>1.0</td>\n",
              "      <td>0.0</td>\n",
              "      <td>0.0</td>\n",
              "      <td>0.0</td>\n",
              "      <td>0.0</td>\n",
              "      <td>0.0</td>\n",
              "      <td>0.0</td>\n",
              "      <td>0.0</td>\n",
              "      <td>0.0</td>\n",
              "      <td>0.0</td>\n",
              "      <td>0.0</td>\n",
              "      <td>0.0</td>\n",
              "      <td>0</td>\n",
              "    </tr>\n",
              "    <tr>\n",
              "      <th>1</th>\n",
              "      <td>0.786845</td>\n",
              "      <td>0.0</td>\n",
              "      <td>0.0</td>\n",
              "      <td>0.0</td>\n",
              "      <td>0.0</td>\n",
              "      <td>0.0</td>\n",
              "      <td>0.0</td>\n",
              "      <td>0.0</td>\n",
              "      <td>0.0</td>\n",
              "      <td>1.0</td>\n",
              "      <td>0.0</td>\n",
              "      <td>0.0</td>\n",
              "      <td>0.0</td>\n",
              "      <td>1.0</td>\n",
              "      <td>0.0</td>\n",
              "      <td>0.0</td>\n",
              "      <td>1.0</td>\n",
              "      <td>1.0</td>\n",
              "      <td>0.0</td>\n",
              "      <td>0.0</td>\n",
              "      <td>0.0</td>\n",
              "      <td>0.0</td>\n",
              "      <td>0.0</td>\n",
              "      <td>0.0</td>\n",
              "      <td>0.0</td>\n",
              "      <td>0.0</td>\n",
              "      <td>0.0</td>\n",
              "      <td>0.0</td>\n",
              "      <td>0.0</td>\n",
              "      <td>1</td>\n",
              "    </tr>\n",
              "    <tr>\n",
              "      <th>2</th>\n",
              "      <td>-0.488854</td>\n",
              "      <td>0.0</td>\n",
              "      <td>1.0</td>\n",
              "      <td>0.0</td>\n",
              "      <td>0.0</td>\n",
              "      <td>1.0</td>\n",
              "      <td>0.0</td>\n",
              "      <td>0.0</td>\n",
              "      <td>1.0</td>\n",
              "      <td>0.0</td>\n",
              "      <td>0.0</td>\n",
              "      <td>1.0</td>\n",
              "      <td>0.0</td>\n",
              "      <td>0.0</td>\n",
              "      <td>0.0</td>\n",
              "      <td>0.0</td>\n",
              "      <td>0.0</td>\n",
              "      <td>0.0</td>\n",
              "      <td>0.0</td>\n",
              "      <td>0.0</td>\n",
              "      <td>0.0</td>\n",
              "      <td>0.0</td>\n",
              "      <td>0.0</td>\n",
              "      <td>0.0</td>\n",
              "      <td>0.0</td>\n",
              "      <td>0.0</td>\n",
              "      <td>0.0</td>\n",
              "      <td>0.0</td>\n",
              "      <td>0.0</td>\n",
              "      <td>1</td>\n",
              "    </tr>\n",
              "    <tr>\n",
              "      <th>3</th>\n",
              "      <td>0.420730</td>\n",
              "      <td>0.0</td>\n",
              "      <td>0.0</td>\n",
              "      <td>0.0</td>\n",
              "      <td>0.0</td>\n",
              "      <td>1.0</td>\n",
              "      <td>0.0</td>\n",
              "      <td>0.0</td>\n",
              "      <td>0.0</td>\n",
              "      <td>1.0</td>\n",
              "      <td>0.0</td>\n",
              "      <td>0.0</td>\n",
              "      <td>0.0</td>\n",
              "      <td>1.0</td>\n",
              "      <td>0.0</td>\n",
              "      <td>0.0</td>\n",
              "      <td>1.0</td>\n",
              "      <td>1.0</td>\n",
              "      <td>0.0</td>\n",
              "      <td>0.0</td>\n",
              "      <td>0.0</td>\n",
              "      <td>0.0</td>\n",
              "      <td>0.0</td>\n",
              "      <td>0.0</td>\n",
              "      <td>0.0</td>\n",
              "      <td>0.0</td>\n",
              "      <td>0.0</td>\n",
              "      <td>0.0</td>\n",
              "      <td>0.0</td>\n",
              "      <td>1</td>\n",
              "    </tr>\n",
              "    <tr>\n",
              "      <th>4</th>\n",
              "      <td>-0.486337</td>\n",
              "      <td>0.0</td>\n",
              "      <td>1.0</td>\n",
              "      <td>1.0</td>\n",
              "      <td>0.0</td>\n",
              "      <td>1.0</td>\n",
              "      <td>0.0</td>\n",
              "      <td>0.0</td>\n",
              "      <td>0.0</td>\n",
              "      <td>1.0</td>\n",
              "      <td>0.0</td>\n",
              "      <td>0.0</td>\n",
              "      <td>1.0</td>\n",
              "      <td>0.0</td>\n",
              "      <td>0.0</td>\n",
              "      <td>0.0</td>\n",
              "      <td>0.0</td>\n",
              "      <td>0.0</td>\n",
              "      <td>0.0</td>\n",
              "      <td>0.0</td>\n",
              "      <td>0.0</td>\n",
              "      <td>0.0</td>\n",
              "      <td>0.0</td>\n",
              "      <td>0.0</td>\n",
              "      <td>0.0</td>\n",
              "      <td>0.0</td>\n",
              "      <td>0.0</td>\n",
              "      <td>0.0</td>\n",
              "      <td>0.0</td>\n",
              "      <td>0</td>\n",
              "    </tr>\n",
              "  </tbody>\n",
              "</table>\n",
              "</div>"
            ],
            "text/plain": [
              "          0    1    2    3    4    5  ...   24   25   26   27   28  Survived\n",
              "0 -0.502445  0.0  1.0  1.0  0.0  1.0  ...  0.0  0.0  0.0  0.0  0.0         0\n",
              "1  0.786845  0.0  0.0  0.0  0.0  0.0  ...  0.0  0.0  0.0  0.0  0.0         1\n",
              "2 -0.488854  0.0  1.0  0.0  0.0  1.0  ...  0.0  0.0  0.0  0.0  0.0         1\n",
              "3  0.420730  0.0  0.0  0.0  0.0  1.0  ...  0.0  0.0  0.0  0.0  0.0         1\n",
              "4 -0.486337  0.0  1.0  1.0  0.0  1.0  ...  0.0  0.0  0.0  0.0  0.0         0\n",
              "\n",
              "[5 rows x 30 columns]"
            ]
          },
          "metadata": {
            "tags": []
          },
          "execution_count": 9
        }
      ]
    },
    {
      "cell_type": "code",
      "metadata": {
        "id": "PECKR_4LaJd7",
        "colab_type": "code",
        "colab": {}
      },
      "source": [
        "y = train.Survived\n",
        "X = train.drop('Survived', axis=1)"
      ],
      "execution_count": 0,
      "outputs": []
    },
    {
      "cell_type": "code",
      "metadata": {
        "id": "S7i97bFYHzVS",
        "colab_type": "code",
        "colab": {}
      },
      "source": [
        "X"
      ],
      "execution_count": 0,
      "outputs": []
    },
    {
      "cell_type": "code",
      "metadata": {
        "id": "4vCzbAF9aJzD",
        "colab_type": "code",
        "outputId": "f9c93e03-78ca-4668-d370-875f4c2367cc",
        "colab": {
          "base_uri": "https://localhost:8080/",
          "height": 53
        }
      },
      "source": [
        "print(X.shape)\n",
        "print(y.shape)"
      ],
      "execution_count": 0,
      "outputs": [
        {
          "output_type": "stream",
          "text": [
            "(891, 29)\n",
            "(891,)\n"
          ],
          "name": "stdout"
        }
      ]
    },
    {
      "cell_type": "code",
      "metadata": {
        "id": "h6PsFS0_aJua",
        "colab_type": "code",
        "colab": {}
      },
      "source": [
        "X_train, X_test, y_train, y_test = train_test_split(X, y, test_size= 0.2, random_state=42)"
      ],
      "execution_count": 0,
      "outputs": []
    },
    {
      "cell_type": "code",
      "metadata": {
        "id": "5TKd_miBaJkC",
        "colab_type": "code",
        "outputId": "6b149924-f241-4607-b01c-ac06684a5468",
        "colab": {
          "base_uri": "https://localhost:8080/",
          "height": 53
        }
      },
      "source": [
        "print(X_train.shape, y_train.shape)\n",
        "print(X_test.shape, y_test.shape)"
      ],
      "execution_count": 0,
      "outputs": [
        {
          "output_type": "stream",
          "text": [
            "(712, 29) (712,)\n",
            "(179, 29) (179,)\n"
          ],
          "name": "stdout"
        }
      ]
    },
    {
      "cell_type": "markdown",
      "metadata": {
        "id": "ziPpTrRZ9gwi",
        "colab_type": "text"
      },
      "source": [
        "# 1) Decision Tree"
      ]
    },
    {
      "cell_type": "code",
      "metadata": {
        "id": "4zYdtknJ6aHb",
        "colab_type": "code",
        "colab": {}
      },
      "source": [
        "d_tree = DecisionTreeClassifier(random_state=42)"
      ],
      "execution_count": 0,
      "outputs": []
    },
    {
      "cell_type": "code",
      "metadata": {
        "id": "Sk6KrOx-9mBp",
        "colab_type": "code",
        "outputId": "aae305e8-27f0-4788-f719-aba94c0f4898",
        "colab": {
          "base_uri": "https://localhost:8080/",
          "height": 125
        }
      },
      "source": [
        "d_tree.fit(X_train, y_train)"
      ],
      "execution_count": 0,
      "outputs": [
        {
          "output_type": "execute_result",
          "data": {
            "text/plain": [
              "DecisionTreeClassifier(class_weight=None, criterion='gini', max_depth=None,\n",
              "                       max_features=None, max_leaf_nodes=None,\n",
              "                       min_impurity_decrease=0.0, min_impurity_split=None,\n",
              "                       min_samples_leaf=1, min_samples_split=2,\n",
              "                       min_weight_fraction_leaf=0.0, presort=False,\n",
              "                       random_state=42, splitter='best')"
            ]
          },
          "metadata": {
            "tags": []
          },
          "execution_count": 27
        }
      ]
    },
    {
      "cell_type": "code",
      "metadata": {
        "id": "wEa_vjQx9oyq",
        "colab_type": "code",
        "outputId": "7bb6878a-c2a1-4c52-bc8b-a8bf65a4bd58",
        "colab": {
          "base_uri": "https://localhost:8080/",
          "height": 35
        }
      },
      "source": [
        "d_tree.score(X_train, y_train)"
      ],
      "execution_count": 0,
      "outputs": [
        {
          "output_type": "execute_result",
          "data": {
            "text/plain": [
              "0.949438202247191"
            ]
          },
          "metadata": {
            "tags": []
          },
          "execution_count": 28
        }
      ]
    },
    {
      "cell_type": "code",
      "metadata": {
        "id": "Xj-Y58UD9qxB",
        "colab_type": "code",
        "outputId": "fca97e2e-b58d-48dc-b742-735e586721db",
        "colab": {
          "base_uri": "https://localhost:8080/",
          "height": 35
        }
      },
      "source": [
        "d_tree.score(X_test, y_test)"
      ],
      "execution_count": 0,
      "outputs": [
        {
          "output_type": "execute_result",
          "data": {
            "text/plain": [
              "0.7932960893854749"
            ]
          },
          "metadata": {
            "tags": []
          },
          "execution_count": 29
        }
      ]
    },
    {
      "cell_type": "markdown",
      "metadata": {
        "id": "rXqVK1Lk-cSR",
        "colab_type": "text"
      },
      "source": [
        "### Marker - overfitted"
      ]
    },
    {
      "cell_type": "markdown",
      "metadata": {
        "id": "vfNAbJVuCuZ3",
        "colab_type": "text"
      },
      "source": [
        "## Decision Tree - Visualizer"
      ]
    },
    {
      "cell_type": "code",
      "metadata": {
        "id": "29Kjl72h9owp",
        "colab_type": "code",
        "colab": {}
      },
      "source": [
        "tree_visualizer = export_graphviz(d_tree, \n",
        "                                  class_names=['Non_Survived', 'Survived'], \n",
        "                                 rounded = True,\n",
        "                                 filled = True)\n",
        "\n",
        "\n",
        "graphviz.Source(tree_visualizer)"
      ],
      "execution_count": 0,
      "outputs": []
    },
    {
      "cell_type": "markdown",
      "metadata": {
        "id": "qcMQxbuU-ru4",
        "colab_type": "text"
      },
      "source": [
        "## Decision Tree Grid Search"
      ]
    },
    {
      "cell_type": "code",
      "metadata": {
        "id": "sWCxzz8rCV0G",
        "colab_type": "code",
        "colab": {}
      },
      "source": [
        "# DecisionTreeClassifier() -- reference "
      ],
      "execution_count": 0,
      "outputs": []
    },
    {
      "cell_type": "code",
      "metadata": {
        "id": "ZT98rbFd9ouR",
        "colab_type": "code",
        "colab": {}
      },
      "source": [
        "params = {'max_depth' : np.arange(2,20),\n",
        "          'min_samples_split' : np.arange(2,50, 2),\n",
        "          'max_leaf_nodes' : np.arange(2, 50, 2)\n",
        "         }"
      ],
      "execution_count": 0,
      "outputs": []
    },
    {
      "cell_type": "code",
      "metadata": {
        "id": "blcvOiztAWka",
        "colab_type": "code",
        "colab": {}
      },
      "source": [
        "decision_grid = GridSearchCV(DecisionTreeClassifier(random_state=42), param_grid=params, cv = 5)"
      ],
      "execution_count": 0,
      "outputs": []
    },
    {
      "cell_type": "code",
      "metadata": {
        "id": "50yUhxYJAo5R",
        "colab_type": "code",
        "outputId": "83decddf-55ee-49f0-f182-4f6f09f4728a",
        "colab": {
          "base_uri": "https://localhost:8080/",
          "height": 395
        }
      },
      "source": [
        "decision_grid"
      ],
      "execution_count": 0,
      "outputs": [
        {
          "output_type": "execute_result",
          "data": {
            "text/plain": [
              "GridSearchCV(cv=5, error_score='raise-deprecating',\n",
              "             estimator=DecisionTreeClassifier(class_weight=None,\n",
              "                                              criterion='gini', max_depth=None,\n",
              "                                              max_features=None,\n",
              "                                              max_leaf_nodes=None,\n",
              "                                              min_impurity_decrease=0.0,\n",
              "                                              min_impurity_split=None,\n",
              "                                              min_samples_leaf=1,\n",
              "                                              min_samples_split=2,\n",
              "                                              min_weight_fraction_leaf=0.0,\n",
              "                                              presort=False, random_state=42,\n",
              "                                              splitter='best'),\n",
              "             iid='warn', n_j...\n",
              "             param_grid={'max_depth': array([ 2,  3,  4,  5,  6,  7,  8,  9, 10, 11, 12, 13, 14, 15, 16, 17, 18,\n",
              "       19]),\n",
              "                         'max_leaf_nodes': array([ 2,  4,  6,  8, 10, 12, 14, 16, 18, 20, 22, 24, 26, 28, 30, 32, 34,\n",
              "       36, 38, 40, 42, 44, 46, 48]),\n",
              "                         'min_samples_split': array([ 2,  4,  6,  8, 10, 12, 14, 16, 18, 20, 22, 24, 26, 28, 30, 32, 34,\n",
              "       36, 38, 40, 42, 44, 46, 48])},\n",
              "             pre_dispatch='2*n_jobs', refit=True, return_train_score=False,\n",
              "             scoring=None, verbose=0)"
            ]
          },
          "metadata": {
            "tags": []
          },
          "execution_count": 55
        }
      ]
    },
    {
      "cell_type": "code",
      "metadata": {
        "id": "mrkAgNNhArcp",
        "colab_type": "code",
        "outputId": "12db4b71-b335-4d7d-ec05-6d4722c43745",
        "colab": {
          "base_uri": "https://localhost:8080/",
          "height": 395
        }
      },
      "source": [
        "decision_grid.fit(X_train, y_train)"
      ],
      "execution_count": 0,
      "outputs": [
        {
          "output_type": "execute_result",
          "data": {
            "text/plain": [
              "GridSearchCV(cv=5, error_score='raise-deprecating',\n",
              "             estimator=DecisionTreeClassifier(class_weight=None,\n",
              "                                              criterion='gini', max_depth=None,\n",
              "                                              max_features=None,\n",
              "                                              max_leaf_nodes=None,\n",
              "                                              min_impurity_decrease=0.0,\n",
              "                                              min_impurity_split=None,\n",
              "                                              min_samples_leaf=1,\n",
              "                                              min_samples_split=2,\n",
              "                                              min_weight_fraction_leaf=0.0,\n",
              "                                              presort=False, random_state=42,\n",
              "                                              splitter='best'),\n",
              "             iid='warn', n_j...\n",
              "             param_grid={'max_depth': array([ 2,  3,  4,  5,  6,  7,  8,  9, 10, 11, 12, 13, 14, 15, 16, 17, 18,\n",
              "       19]),\n",
              "                         'max_leaf_nodes': array([ 2,  4,  6,  8, 10, 12, 14, 16, 18, 20, 22, 24, 26, 28, 30, 32, 34,\n",
              "       36, 38, 40, 42, 44, 46, 48]),\n",
              "                         'min_samples_split': array([ 2,  4,  6,  8, 10, 12, 14, 16, 18, 20, 22, 24, 26, 28, 30, 32, 34,\n",
              "       36, 38, 40, 42, 44, 46, 48])},\n",
              "             pre_dispatch='2*n_jobs', refit=True, return_train_score=False,\n",
              "             scoring=None, verbose=0)"
            ]
          },
          "metadata": {
            "tags": []
          },
          "execution_count": 56
        }
      ]
    },
    {
      "cell_type": "code",
      "metadata": {
        "id": "6WEl0VkwEZ2U",
        "colab_type": "code",
        "outputId": "55b9e1dc-3a80-4585-a97f-5e7a74095573",
        "colab": {
          "base_uri": "https://localhost:8080/",
          "height": 35
        }
      },
      "source": [
        "decision_grid.best_params_"
      ],
      "execution_count": 0,
      "outputs": [
        {
          "output_type": "execute_result",
          "data": {
            "text/plain": [
              "{'max_depth': 7, 'max_leaf_nodes': 12, 'min_samples_split': 14}"
            ]
          },
          "metadata": {
            "tags": []
          },
          "execution_count": 67
        }
      ]
    },
    {
      "cell_type": "code",
      "metadata": {
        "id": "1uD1BpbYA1cK",
        "colab_type": "code",
        "outputId": "10a4aa5a-cddd-4178-fde8-1826a92416f2",
        "colab": {
          "base_uri": "https://localhost:8080/",
          "height": 125
        }
      },
      "source": [
        "decision_grid.best_estimator_"
      ],
      "execution_count": 0,
      "outputs": [
        {
          "output_type": "execute_result",
          "data": {
            "text/plain": [
              "DecisionTreeClassifier(class_weight=None, criterion='gini', max_depth=7,\n",
              "                       max_features=None, max_leaf_nodes=12,\n",
              "                       min_impurity_decrease=0.0, min_impurity_split=None,\n",
              "                       min_samples_leaf=1, min_samples_split=14,\n",
              "                       min_weight_fraction_leaf=0.0, presort=False,\n",
              "                       random_state=42, splitter='best')"
            ]
          },
          "metadata": {
            "tags": []
          },
          "execution_count": 57
        }
      ]
    },
    {
      "cell_type": "code",
      "metadata": {
        "id": "8UlE5ISbA1aC",
        "colab_type": "code",
        "outputId": "9c7ad60a-118a-46bd-f589-e2866895c426",
        "colab": {
          "base_uri": "https://localhost:8080/",
          "height": 35
        }
      },
      "source": [
        "decision_grid.best_score_"
      ],
      "execution_count": 0,
      "outputs": [
        {
          "output_type": "execute_result",
          "data": {
            "text/plain": [
              "0.8286516853932584"
            ]
          },
          "metadata": {
            "tags": []
          },
          "execution_count": 58
        }
      ]
    },
    {
      "cell_type": "code",
      "metadata": {
        "id": "E13HiFHcA1YC",
        "colab_type": "code",
        "outputId": "355ea9ac-23c2-4062-b9cc-18835acb2321",
        "colab": {
          "base_uri": "https://localhost:8080/",
          "height": 125
        }
      },
      "source": [
        "d_tree_searched = decision_grid.best_estimator_\n",
        "\n",
        "d_tree_searched.fit(X_train, y_train)"
      ],
      "execution_count": 0,
      "outputs": [
        {
          "output_type": "execute_result",
          "data": {
            "text/plain": [
              "DecisionTreeClassifier(class_weight=None, criterion='gini', max_depth=7,\n",
              "                       max_features=None, max_leaf_nodes=12,\n",
              "                       min_impurity_decrease=0.0, min_impurity_split=None,\n",
              "                       min_samples_leaf=1, min_samples_split=14,\n",
              "                       min_weight_fraction_leaf=0.0, presort=False,\n",
              "                       random_state=42, splitter='best')"
            ]
          },
          "metadata": {
            "tags": []
          },
          "execution_count": 59
        }
      ]
    },
    {
      "cell_type": "code",
      "metadata": {
        "id": "_3XmZdvCEUAD",
        "colab_type": "code",
        "outputId": "fb21f10f-9235-4d43-a36f-d2006c906bf0",
        "colab": {
          "base_uri": "https://localhost:8080/",
          "height": 125
        }
      },
      "source": [
        "d_tree_searched.get_params"
      ],
      "execution_count": 0,
      "outputs": [
        {
          "output_type": "execute_result",
          "data": {
            "text/plain": [
              "<bound method BaseEstimator.get_params of DecisionTreeClassifier(class_weight=None, criterion='gini', max_depth=7,\n",
              "                       max_features=None, max_leaf_nodes=12,\n",
              "                       min_impurity_decrease=0.0, min_impurity_split=None,\n",
              "                       min_samples_leaf=1, min_samples_split=14,\n",
              "                       min_weight_fraction_leaf=0.0, presort=False,\n",
              "                       random_state=42, splitter='best')>"
            ]
          },
          "metadata": {
            "tags": []
          },
          "execution_count": 66
        }
      ]
    },
    {
      "cell_type": "code",
      "metadata": {
        "id": "uJ85xbR5A1WC",
        "colab_type": "code",
        "outputId": "22910290-0e0a-44a3-cf5d-4ac4ba15b637",
        "colab": {
          "base_uri": "https://localhost:8080/",
          "height": 35
        }
      },
      "source": [
        "d_tree_searched.score(X_train, y_train)"
      ],
      "execution_count": 0,
      "outputs": [
        {
          "output_type": "execute_result",
          "data": {
            "text/plain": [
              "0.8539325842696629"
            ]
          },
          "metadata": {
            "tags": []
          },
          "execution_count": 60
        }
      ]
    },
    {
      "cell_type": "code",
      "metadata": {
        "id": "wErYw4qbBHCy",
        "colab_type": "code",
        "outputId": "41d0bc20-e751-4892-9390-2537db4aa1f5",
        "colab": {
          "base_uri": "https://localhost:8080/",
          "height": 35
        }
      },
      "source": [
        "d_tree_searched.score(X_test, y_test)"
      ],
      "execution_count": 0,
      "outputs": [
        {
          "output_type": "execute_result",
          "data": {
            "text/plain": [
              "0.7932960893854749"
            ]
          },
          "metadata": {
            "tags": []
          },
          "execution_count": 61
        }
      ]
    },
    {
      "cell_type": "markdown",
      "metadata": {
        "id": "MMQOO0_GBsT_",
        "colab_type": "text"
      },
      "source": [
        "## checking 5-Fold CV"
      ]
    },
    {
      "cell_type": "code",
      "metadata": {
        "id": "nVlSCRHqBHAp",
        "colab_type": "code",
        "outputId": "914efb7b-c7c1-4f16-c349-5ed8d663eccc",
        "colab": {
          "base_uri": "https://localhost:8080/",
          "height": 35
        }
      },
      "source": [
        "cross_val_score(d_tree_searched, X_train, y_train, cv = 5)"
      ],
      "execution_count": 0,
      "outputs": [
        {
          "output_type": "execute_result",
          "data": {
            "text/plain": [
              "array([0.81818182, 0.86013986, 0.83216783, 0.79577465, 0.83687943])"
            ]
          },
          "metadata": {
            "tags": []
          },
          "execution_count": 62
        }
      ]
    },
    {
      "cell_type": "code",
      "metadata": {
        "id": "WDB9Fb_eBw_q",
        "colab_type": "code",
        "outputId": "3c06d884-8f2b-4299-d6ed-5dded5a6a844",
        "colab": {
          "base_uri": "https://localhost:8080/",
          "height": 35
        }
      },
      "source": [
        "np.mean(cross_val_score(d_tree_searched, X_train, y_train, cv = 5))"
      ],
      "execution_count": 0,
      "outputs": [
        {
          "output_type": "execute_result",
          "data": {
            "text/plain": [
              "0.8286287182001896"
            ]
          },
          "metadata": {
            "tags": []
          },
          "execution_count": 63
        }
      ]
    },
    {
      "cell_type": "code",
      "metadata": {
        "id": "uHpf-u3tBd6h",
        "colab_type": "code",
        "outputId": "9907075f-33c3-4f02-b0d4-1a54403ceec7",
        "colab": {
          "base_uri": "https://localhost:8080/",
          "height": 35
        }
      },
      "source": [
        "cross_val_score(d_tree_searched, X_test, y_test, cv = 5)"
      ],
      "execution_count": 0,
      "outputs": [
        {
          "output_type": "execute_result",
          "data": {
            "text/plain": [
              "array([0.77777778, 0.69444444, 0.77777778, 0.66666667, 0.85714286])"
            ]
          },
          "metadata": {
            "tags": []
          },
          "execution_count": 64
        }
      ]
    },
    {
      "cell_type": "code",
      "metadata": {
        "id": "b2_GtxigBG-x",
        "colab_type": "code",
        "outputId": "8a87c995-c8db-44c2-80c9-1dd1968b3036",
        "colab": {
          "base_uri": "https://localhost:8080/",
          "height": 35
        }
      },
      "source": [
        "np.mean(cross_val_score(d_tree_searched, X_test, y_test, cv = 5))"
      ],
      "execution_count": 0,
      "outputs": [
        {
          "output_type": "execute_result",
          "data": {
            "text/plain": [
              "0.7547619047619047"
            ]
          },
          "metadata": {
            "tags": []
          },
          "execution_count": 65
        }
      ]
    },
    {
      "cell_type": "markdown",
      "metadata": {
        "id": "zm6dxD3VB_hS",
        "colab_type": "text"
      },
      "source": [
        "## Conclusion - Decision Tree\n",
        "\n",
        "for the Decision Tree, its performance is \n",
        "\n",
        "Train : 0.949438202247191  $\\approx $ 94.94%\n",
        "\n",
        "Test : 0.7932960893854749 $\\approx $ 79.32%\n",
        "\n",
        "\n",
        "\n",
        "---\n",
        "\n",
        "\n",
        "with gridsearch : \n",
        "\n",
        "Train : 0.8539325842696629  $\\approx $ 85.39%\n",
        "\n",
        "Test : 0.7932960893854749 $\\approx $ 79.32%\n",
        "\n",
        "\n",
        "{'max_depth': 7, 'max_leaf_nodes': 12, 'min_samples_split': 14}\n",
        "\n"
      ]
    },
    {
      "cell_type": "markdown",
      "metadata": {
        "id": "HGmwhRWwEo0e",
        "colab_type": "text"
      },
      "source": [
        "# 2) Ensemble - Boosting\n",
        "\n",
        "\n",
        "*   Ada Boost\n",
        "*   Gradient Boost\n",
        "*   XG Boost\n"
      ]
    },
    {
      "cell_type": "markdown",
      "metadata": {
        "id": "FgZ6sVXgGOHS",
        "colab_type": "text"
      },
      "source": [
        "## 2-1 ) Ada Boost"
      ]
    },
    {
      "cell_type": "code",
      "metadata": {
        "id": "Vqud2nOUFLFp",
        "colab_type": "code",
        "colab": {}
      },
      "source": [
        "ada_boost = AdaBoostClassifier(base_estimator= DecisionTreeClassifier(max_depth = 1),\n",
        "                               random_state=42,\n",
        "                               n_estimators=50,\n",
        "                               learning_rate = 0.5)"
      ],
      "execution_count": 0,
      "outputs": []
    },
    {
      "cell_type": "code",
      "metadata": {
        "id": "m0fApLHpF6bs",
        "colab_type": "code",
        "outputId": "a8941b43-a256-4311-da6b-34b5c70ce3c9",
        "colab": {
          "base_uri": "https://localhost:8080/",
          "height": 287
        }
      },
      "source": [
        "ada_boost.fit(X_train, y_train)"
      ],
      "execution_count": 0,
      "outputs": [
        {
          "output_type": "execute_result",
          "data": {
            "text/plain": [
              "AdaBoostClassifier(algorithm='SAMME.R',\n",
              "                   base_estimator=DecisionTreeClassifier(class_weight=None,\n",
              "                                                         criterion='gini',\n",
              "                                                         max_depth=1,\n",
              "                                                         max_features=None,\n",
              "                                                         max_leaf_nodes=None,\n",
              "                                                         min_impurity_decrease=0.0,\n",
              "                                                         min_impurity_split=None,\n",
              "                                                         min_samples_leaf=1,\n",
              "                                                         min_samples_split=2,\n",
              "                                                         min_weight_fraction_leaf=0.0,\n",
              "                                                         presort=False,\n",
              "                                                         random_state=None,\n",
              "                                                         splitter='best'),\n",
              "                   learning_rate=0.5, n_estimators=50, random_state=42)"
            ]
          },
          "metadata": {
            "tags": []
          },
          "execution_count": 73
        }
      ]
    },
    {
      "cell_type": "code",
      "metadata": {
        "id": "ScB9ZNZ2FhXK",
        "colab_type": "code",
        "outputId": "0d3447df-9a65-4ee6-d638-049a3eec9c96",
        "colab": {
          "base_uri": "https://localhost:8080/",
          "height": 35
        }
      },
      "source": [
        "ada_boost.score(X_train, y_train)"
      ],
      "execution_count": 0,
      "outputs": [
        {
          "output_type": "execute_result",
          "data": {
            "text/plain": [
              "0.8342696629213483"
            ]
          },
          "metadata": {
            "tags": []
          },
          "execution_count": 74
        }
      ]
    },
    {
      "cell_type": "code",
      "metadata": {
        "id": "bixE5X48GCsb",
        "colab_type": "code",
        "outputId": "0b4ea22e-f23d-41f6-831c-d9189f390247",
        "colab": {
          "base_uri": "https://localhost:8080/",
          "height": 35
        }
      },
      "source": [
        "ada_boost.score(X_test, y_test)"
      ],
      "execution_count": 0,
      "outputs": [
        {
          "output_type": "execute_result",
          "data": {
            "text/plain": [
              "0.7821229050279329"
            ]
          },
          "metadata": {
            "tags": []
          },
          "execution_count": 75
        }
      ]
    },
    {
      "cell_type": "markdown",
      "metadata": {
        "id": "O0SkymQEGHUD",
        "colab_type": "text"
      },
      "source": [
        "### 2-1-1 ) Ada Boost GridSearch"
      ]
    },
    {
      "cell_type": "code",
      "metadata": {
        "id": "zdfAhna7FLmC",
        "colab_type": "code",
        "colab": {}
      },
      "source": [
        "params = {'n_estimators' : np.arange(50, 1000, 50),\n",
        "          'learning_rate' : [0.5, 1]}"
      ],
      "execution_count": 0,
      "outputs": []
    },
    {
      "cell_type": "code",
      "metadata": {
        "id": "r5VvsMoVGsIb",
        "colab_type": "code",
        "colab": {}
      },
      "source": [
        "ada_boost_mod = AdaBoostClassifier(DecisionTreeClassifier(max_depth = 1), random_state=42)"
      ],
      "execution_count": 0,
      "outputs": []
    },
    {
      "cell_type": "code",
      "metadata": {
        "id": "KrJAqY64Gn3T",
        "colab_type": "code",
        "colab": {}
      },
      "source": [
        "ada_grid = GridSearchCV(ada_boost_mod, param_grid=params, cv = 5)"
      ],
      "execution_count": 0,
      "outputs": []
    },
    {
      "cell_type": "code",
      "metadata": {
        "id": "rAnvlWQMFLjq",
        "colab_type": "code",
        "outputId": "ca571e5b-0857-4d89-b4ff-5f71fa3d3936",
        "colab": {
          "base_uri": "https://localhost:8080/",
          "height": 431
        }
      },
      "source": [
        "ada_grid.fit(X_train, y_train)"
      ],
      "execution_count": 0,
      "outputs": [
        {
          "output_type": "execute_result",
          "data": {
            "text/plain": [
              "GridSearchCV(cv=5, error_score='raise-deprecating',\n",
              "             estimator=AdaBoostClassifier(algorithm='SAMME.R',\n",
              "                                          base_estimator=DecisionTreeClassifier(class_weight=None,\n",
              "                                                                                criterion='gini',\n",
              "                                                                                max_depth=1,\n",
              "                                                                                max_features=None,\n",
              "                                                                                max_leaf_nodes=None,\n",
              "                                                                                min_impurity_decrease=0.0,\n",
              "                                                                                min_impurity_split=None,\n",
              "                                                                                min_samples_leaf=1,\n",
              "                                                                                min_samples_split=2,\n",
              "                                                                                min_weight_fraction_leaf=0.0,\n",
              "                                                                                presort=False,\n",
              "                                                                                random_state=None,\n",
              "                                                                                splitter='best'),\n",
              "                                          learning_rate=1.0, n_estimators=50,\n",
              "                                          random_state=42),\n",
              "             iid='warn', n_jobs=None,\n",
              "             param_grid={'learning_rate': [0.5, 1],\n",
              "                         'n_estimators': array([ 50, 100, 150, 200, 250, 300, 350, 400, 450, 500, 550, 600, 650,\n",
              "       700, 750, 800, 850, 900, 950])},\n",
              "             pre_dispatch='2*n_jobs', refit=True, return_train_score=False,\n",
              "             scoring=None, verbose=0)"
            ]
          },
          "metadata": {
            "tags": []
          },
          "execution_count": 89
        }
      ]
    },
    {
      "cell_type": "code",
      "metadata": {
        "id": "axQ7ubA8FLhq",
        "colab_type": "code",
        "outputId": "fdb4f765-31c4-400c-d582-65dc83f953e0",
        "colab": {
          "base_uri": "https://localhost:8080/",
          "height": 35
        }
      },
      "source": [
        "ada_grid.best_params_"
      ],
      "execution_count": 0,
      "outputs": [
        {
          "output_type": "execute_result",
          "data": {
            "text/plain": [
              "{'learning_rate': 1, 'n_estimators': 300}"
            ]
          },
          "metadata": {
            "tags": []
          },
          "execution_count": 90
        }
      ]
    },
    {
      "cell_type": "code",
      "metadata": {
        "id": "HsWKQ2lGFLJi",
        "colab_type": "code",
        "outputId": "076b0aca-a236-4128-833c-e9938287e483",
        "colab": {
          "base_uri": "https://localhost:8080/",
          "height": 287
        }
      },
      "source": [
        "ada_grid.best_estimator_"
      ],
      "execution_count": 0,
      "outputs": [
        {
          "output_type": "execute_result",
          "data": {
            "text/plain": [
              "AdaBoostClassifier(algorithm='SAMME.R',\n",
              "                   base_estimator=DecisionTreeClassifier(class_weight=None,\n",
              "                                                         criterion='gini',\n",
              "                                                         max_depth=1,\n",
              "                                                         max_features=None,\n",
              "                                                         max_leaf_nodes=None,\n",
              "                                                         min_impurity_decrease=0.0,\n",
              "                                                         min_impurity_split=None,\n",
              "                                                         min_samples_leaf=1,\n",
              "                                                         min_samples_split=2,\n",
              "                                                         min_weight_fraction_leaf=0.0,\n",
              "                                                         presort=False,\n",
              "                                                         random_state=None,\n",
              "                                                         splitter='best'),\n",
              "                   learning_rate=1, n_estimators=300, random_state=42)"
            ]
          },
          "metadata": {
            "tags": []
          },
          "execution_count": 91
        }
      ]
    },
    {
      "cell_type": "code",
      "metadata": {
        "id": "yrrig7yeLmkK",
        "colab_type": "code",
        "colab": {}
      },
      "source": [
        "ada_best_mod = ada_grid.best_estimator_"
      ],
      "execution_count": 0,
      "outputs": []
    },
    {
      "cell_type": "code",
      "metadata": {
        "id": "m7fhceHVLo6Q",
        "colab_type": "code",
        "outputId": "7266eaea-e023-4392-a501-16138c3d2277",
        "colab": {
          "base_uri": "https://localhost:8080/",
          "height": 287
        }
      },
      "source": [
        "ada_best_mod.fit(X_train, y_train)"
      ],
      "execution_count": 0,
      "outputs": [
        {
          "output_type": "execute_result",
          "data": {
            "text/plain": [
              "AdaBoostClassifier(algorithm='SAMME.R',\n",
              "                   base_estimator=DecisionTreeClassifier(class_weight=None,\n",
              "                                                         criterion='gini',\n",
              "                                                         max_depth=1,\n",
              "                                                         max_features=None,\n",
              "                                                         max_leaf_nodes=None,\n",
              "                                                         min_impurity_decrease=0.0,\n",
              "                                                         min_impurity_split=None,\n",
              "                                                         min_samples_leaf=1,\n",
              "                                                         min_samples_split=2,\n",
              "                                                         min_weight_fraction_leaf=0.0,\n",
              "                                                         presort=False,\n",
              "                                                         random_state=None,\n",
              "                                                         splitter='best'),\n",
              "                   learning_rate=1, n_estimators=300, random_state=42)"
            ]
          },
          "metadata": {
            "tags": []
          },
          "execution_count": 93
        }
      ]
    },
    {
      "cell_type": "code",
      "metadata": {
        "id": "-LOO92-7Lqni",
        "colab_type": "code",
        "outputId": "d54232e8-8516-46bf-ec03-f6477a33059f",
        "colab": {
          "base_uri": "https://localhost:8080/",
          "height": 35
        }
      },
      "source": [
        "ada_best_mod.score(X_train, y_train)"
      ],
      "execution_count": 0,
      "outputs": [
        {
          "output_type": "execute_result",
          "data": {
            "text/plain": [
              "0.8679775280898876"
            ]
          },
          "metadata": {
            "tags": []
          },
          "execution_count": 94
        }
      ]
    },
    {
      "cell_type": "code",
      "metadata": {
        "id": "XQG-m4ONLsTS",
        "colab_type": "code",
        "outputId": "90c2c4a4-0367-4115-989f-407d2242fc71",
        "colab": {
          "base_uri": "https://localhost:8080/",
          "height": 35
        }
      },
      "source": [
        "ada_best_mod.score(X_test, y_test)"
      ],
      "execution_count": 0,
      "outputs": [
        {
          "output_type": "execute_result",
          "data": {
            "text/plain": [
              "0.7932960893854749"
            ]
          },
          "metadata": {
            "tags": []
          },
          "execution_count": 96
        }
      ]
    },
    {
      "cell_type": "markdown",
      "metadata": {
        "id": "avKHn2AbLzpa",
        "colab_type": "text"
      },
      "source": [
        "## Conclusion - Ada_Boost\n",
        "\n",
        "for the Ada Boost, its performance is \n",
        "\n",
        "Train : 0.83426966292134831  $\\approx $ 83.43%\n",
        "\n",
        "Test : 0.7821229050279329 $\\approx $ 78.21%\n",
        "\n",
        "\n",
        "\n",
        "---\n",
        "\n",
        "\n",
        "with gridsearch : \n",
        "\n",
        "Train : 0.8679775280898876  $\\approx $ 86.78%\n",
        "\n",
        "Test : 0.7932960893854749 $\\approx $ 79.32%\n",
        "\n",
        "\n",
        "{'learning_rate': 1, 'n_estimators': 300}"
      ]
    },
    {
      "cell_type": "markdown",
      "metadata": {
        "id": "iq2v0ivzML9i",
        "colab_type": "text"
      },
      "source": [
        "## 2-2) Gradient Boost - sklearn"
      ]
    },
    {
      "cell_type": "code",
      "metadata": {
        "id": "l5IOylmnLmiD",
        "colab_type": "code",
        "colab": {}
      },
      "source": [
        "bg_clf = GradientBoostingClassifier(random_state=42)"
      ],
      "execution_count": 0,
      "outputs": []
    },
    {
      "cell_type": "code",
      "metadata": {
        "id": "NoRY9Tk9MT4i",
        "colab_type": "code",
        "outputId": "f6337a63-5c9c-41b3-de7a-858695e0ef61",
        "colab": {
          "base_uri": "https://localhost:8080/",
          "height": 197
        }
      },
      "source": [
        "bg_clf.fit(X_train, y_train)"
      ],
      "execution_count": 0,
      "outputs": [
        {
          "output_type": "execute_result",
          "data": {
            "text/plain": [
              "GradientBoostingClassifier(criterion='friedman_mse', init=None,\n",
              "                           learning_rate=0.1, loss='deviance', max_depth=3,\n",
              "                           max_features=None, max_leaf_nodes=None,\n",
              "                           min_impurity_decrease=0.0, min_impurity_split=None,\n",
              "                           min_samples_leaf=1, min_samples_split=2,\n",
              "                           min_weight_fraction_leaf=0.0, n_estimators=100,\n",
              "                           n_iter_no_change=None, presort='auto',\n",
              "                           random_state=42, subsample=1.0, tol=0.0001,\n",
              "                           validation_fraction=0.1, verbose=0,\n",
              "                           warm_start=False)"
            ]
          },
          "metadata": {
            "tags": []
          },
          "execution_count": 102
        }
      ]
    },
    {
      "cell_type": "code",
      "metadata": {
        "id": "ckxocoOPMVJi",
        "colab_type": "code",
        "outputId": "d9d4d380-ab70-463d-98a0-3a5edf06722e",
        "colab": {
          "base_uri": "https://localhost:8080/",
          "height": 35
        }
      },
      "source": [
        "bg_clf.score(X_train, y_train)"
      ],
      "execution_count": 0,
      "outputs": [
        {
          "output_type": "execute_result",
          "data": {
            "text/plain": [
              "0.9044943820224719"
            ]
          },
          "metadata": {
            "tags": []
          },
          "execution_count": 103
        }
      ]
    },
    {
      "cell_type": "code",
      "metadata": {
        "id": "jt5J40QSMXsa",
        "colab_type": "code",
        "outputId": "afea4aaf-8c79-4d02-ab92-bb91d3da1b54",
        "colab": {
          "base_uri": "https://localhost:8080/",
          "height": 35
        }
      },
      "source": [
        "bg_clf.score(X_test, y_test)"
      ],
      "execution_count": 0,
      "outputs": [
        {
          "output_type": "execute_result",
          "data": {
            "text/plain": [
              "0.7932960893854749"
            ]
          },
          "metadata": {
            "tags": []
          },
          "execution_count": 104
        }
      ]
    },
    {
      "cell_type": "markdown",
      "metadata": {
        "id": "w_TTPRiRMs2q",
        "colab_type": "text"
      },
      "source": [
        "### 2-2-1) Gradient Boost Grid Search"
      ]
    },
    {
      "cell_type": "code",
      "metadata": {
        "id": "WPzcF8iqMZIy",
        "colab_type": "code",
        "colab": {}
      },
      "source": [
        "params = {'n_estimators': np.arange(50, 1000, 50)}"
      ],
      "execution_count": 0,
      "outputs": []
    },
    {
      "cell_type": "code",
      "metadata": {
        "id": "n9l_pEAoNAfs",
        "colab_type": "code",
        "colab": {}
      },
      "source": [
        "bg_grid = GridSearchCV(GradientBoostingClassifier(random_state=42), param_grid=params, cv = 5)"
      ],
      "execution_count": 0,
      "outputs": []
    },
    {
      "cell_type": "code",
      "metadata": {
        "id": "vEbgfSSUNFvi",
        "colab_type": "code",
        "outputId": "4145fc3a-8a73-4e96-d4e5-1a4aa11946f4",
        "colab": {
          "base_uri": "https://localhost:8080/",
          "height": 431
        }
      },
      "source": [
        "bg_grid.fit(X_train, y_train)"
      ],
      "execution_count": 0,
      "outputs": [
        {
          "output_type": "execute_result",
          "data": {
            "text/plain": [
              "GridSearchCV(cv=5, error_score='raise-deprecating',\n",
              "             estimator=GradientBoostingClassifier(criterion='friedman_mse',\n",
              "                                                  init=None, learning_rate=0.1,\n",
              "                                                  loss='deviance', max_depth=3,\n",
              "                                                  max_features=None,\n",
              "                                                  max_leaf_nodes=None,\n",
              "                                                  min_impurity_decrease=0.0,\n",
              "                                                  min_impurity_split=None,\n",
              "                                                  min_samples_leaf=1,\n",
              "                                                  min_samples_split=2,\n",
              "                                                  min_weight_fraction_leaf=0.0,\n",
              "                                                  n_estimators=100,\n",
              "                                                  n_iter_no_change=None,\n",
              "                                                  presort='auto',\n",
              "                                                  random_state=42,\n",
              "                                                  subsample=1.0, tol=0.0001,\n",
              "                                                  validation_fraction=0.1,\n",
              "                                                  verbose=0, warm_start=False),\n",
              "             iid='warn', n_jobs=None,\n",
              "             param_grid={'n_estimators': array([ 50, 100, 150, 200, 250, 300, 350, 400, 450, 500, 550, 600, 650,\n",
              "       700, 750, 800, 850, 900, 950])},\n",
              "             pre_dispatch='2*n_jobs', refit=True, return_train_score=False,\n",
              "             scoring=None, verbose=0)"
            ]
          },
          "metadata": {
            "tags": []
          },
          "execution_count": 109
        }
      ]
    },
    {
      "cell_type": "code",
      "metadata": {
        "id": "A5_r14GbLmgC",
        "colab_type": "code",
        "outputId": "f8da89e9-7b4f-4ab5-9aa9-e995adeaf450",
        "colab": {
          "base_uri": "https://localhost:8080/",
          "height": 35
        }
      },
      "source": [
        "bg_grid.best_params_"
      ],
      "execution_count": 0,
      "outputs": [
        {
          "output_type": "execute_result",
          "data": {
            "text/plain": [
              "{'n_estimators': 200}"
            ]
          },
          "metadata": {
            "tags": []
          },
          "execution_count": 111
        }
      ]
    },
    {
      "cell_type": "code",
      "metadata": {
        "id": "9U-Igxf_Nfr6",
        "colab_type": "code",
        "outputId": "d9a7ae43-6c65-4c02-bc26-4f72bd37cd4b",
        "colab": {
          "base_uri": "https://localhost:8080/",
          "height": 35
        }
      },
      "source": [
        "bg_grid.best_score_"
      ],
      "execution_count": 0,
      "outputs": [
        {
          "output_type": "execute_result",
          "data": {
            "text/plain": [
              "0.8314606741573034"
            ]
          },
          "metadata": {
            "tags": []
          },
          "execution_count": 112
        }
      ]
    },
    {
      "cell_type": "code",
      "metadata": {
        "id": "GdFMK3pbNhfK",
        "colab_type": "code",
        "colab": {}
      },
      "source": [
        "bg_final_mod = bg_grid.best_estimator_"
      ],
      "execution_count": 0,
      "outputs": []
    },
    {
      "cell_type": "code",
      "metadata": {
        "id": "3XZTSm0DNkgC",
        "colab_type": "code",
        "outputId": "7ece95ee-20c7-497f-c71d-08710334b7a9",
        "colab": {
          "base_uri": "https://localhost:8080/",
          "height": 197
        }
      },
      "source": [
        "bg_final_mod.fit(X_train, y_train)"
      ],
      "execution_count": 0,
      "outputs": [
        {
          "output_type": "execute_result",
          "data": {
            "text/plain": [
              "GradientBoostingClassifier(criterion='friedman_mse', init=None,\n",
              "                           learning_rate=0.1, loss='deviance', max_depth=3,\n",
              "                           max_features=None, max_leaf_nodes=None,\n",
              "                           min_impurity_decrease=0.0, min_impurity_split=None,\n",
              "                           min_samples_leaf=1, min_samples_split=2,\n",
              "                           min_weight_fraction_leaf=0.0, n_estimators=200,\n",
              "                           n_iter_no_change=None, presort='auto',\n",
              "                           random_state=42, subsample=1.0, tol=0.0001,\n",
              "                           validation_fraction=0.1, verbose=0,\n",
              "                           warm_start=False)"
            ]
          },
          "metadata": {
            "tags": []
          },
          "execution_count": 114
        }
      ]
    },
    {
      "cell_type": "code",
      "metadata": {
        "id": "8DIn-gftNmo0",
        "colab_type": "code",
        "outputId": "5b390a6a-d5df-47c0-da31-6cca50d13d57",
        "colab": {
          "base_uri": "https://localhost:8080/",
          "height": 35
        }
      },
      "source": [
        "bg_final_mod.score(X_train, y_train)"
      ],
      "execution_count": 0,
      "outputs": [
        {
          "output_type": "execute_result",
          "data": {
            "text/plain": [
              "0.922752808988764"
            ]
          },
          "metadata": {
            "tags": []
          },
          "execution_count": 115
        }
      ]
    },
    {
      "cell_type": "code",
      "metadata": {
        "id": "FKN3w9CHNonx",
        "colab_type": "code",
        "outputId": "38d3bc03-b85f-4722-f543-319fc0da7469",
        "colab": {
          "base_uri": "https://localhost:8080/",
          "height": 35
        }
      },
      "source": [
        "bg_final_mod.score(X_test, y_test)"
      ],
      "execution_count": 0,
      "outputs": [
        {
          "output_type": "execute_result",
          "data": {
            "text/plain": [
              "0.7988826815642458"
            ]
          },
          "metadata": {
            "tags": []
          },
          "execution_count": 117
        }
      ]
    },
    {
      "cell_type": "markdown",
      "metadata": {
        "id": "7FZP7csVNvDZ",
        "colab_type": "text"
      },
      "source": [
        "## Conclusion - Gradient_Boost - sklearn\n",
        "\n",
        "for the Gradient Boost, its performance is \n",
        "\n",
        "Train : 0.9044943820224719  $\\approx $ 90.45%\n",
        "\n",
        "Test : 0.7932960893854749 $\\approx $ 79.32%\n",
        "\n",
        "\n",
        "\n",
        "---\n",
        "\n",
        "\n",
        "with gridsearch : \n",
        "\n",
        "Train : 0.922752808988764  $\\approx $ 92.27%\n",
        "\n",
        "Test : 0.7988826815642458 $\\approx $ 79.89%\n",
        "\n",
        "{'n_estimators': 200}"
      ]
    },
    {
      "cell_type": "markdown",
      "metadata": {
        "id": "2QiOZupuOYLS",
        "colab_type": "text"
      },
      "source": [
        "## 2-3) XG Boost (eXtreme Gradient Boosting)"
      ]
    },
    {
      "cell_type": "code",
      "metadata": {
        "id": "2-i6IEpUOX8_",
        "colab_type": "code",
        "colab": {}
      },
      "source": [
        "xg_clf = XGBClassifier(random_state=42)"
      ],
      "execution_count": 0,
      "outputs": []
    },
    {
      "cell_type": "code",
      "metadata": {
        "id": "gisZbwCjOkTK",
        "colab_type": "code",
        "outputId": "149c4948-a3e7-428a-e619-356132002c97",
        "colab": {
          "base_uri": "https://localhost:8080/",
          "height": 143
        }
      },
      "source": [
        "xg_clf.fit(X_train, y_train)"
      ],
      "execution_count": 0,
      "outputs": [
        {
          "output_type": "execute_result",
          "data": {
            "text/plain": [
              "XGBClassifier(base_score=0.5, booster='gbtree', colsample_bylevel=1,\n",
              "              colsample_bynode=1, colsample_bytree=1, gamma=0,\n",
              "              learning_rate=0.1, max_delta_step=0, max_depth=3,\n",
              "              min_child_weight=1, missing=None, n_estimators=100, n_jobs=1,\n",
              "              nthread=None, objective='binary:logistic', random_state=42,\n",
              "              reg_alpha=0, reg_lambda=1, scale_pos_weight=1, seed=None,\n",
              "              silent=None, subsample=1, verbosity=1)"
            ]
          },
          "metadata": {
            "tags": []
          },
          "execution_count": 123
        }
      ]
    },
    {
      "cell_type": "code",
      "metadata": {
        "id": "VUCZUn19OmAC",
        "colab_type": "code",
        "outputId": "224245e6-1301-4720-b695-c376ab6c2288",
        "colab": {
          "base_uri": "https://localhost:8080/",
          "height": 35
        }
      },
      "source": [
        "xg_clf.score(X_train, y_train)"
      ],
      "execution_count": 0,
      "outputs": [
        {
          "output_type": "execute_result",
          "data": {
            "text/plain": [
              "0.8918539325842697"
            ]
          },
          "metadata": {
            "tags": []
          },
          "execution_count": 124
        }
      ]
    },
    {
      "cell_type": "code",
      "metadata": {
        "id": "rwsUsBIMOnXC",
        "colab_type": "code",
        "outputId": "80795c2a-2f90-4092-f648-5a84da9a531b",
        "colab": {
          "base_uri": "https://localhost:8080/",
          "height": 35
        }
      },
      "source": [
        "xg_clf.score(X_test, y_test)"
      ],
      "execution_count": 0,
      "outputs": [
        {
          "output_type": "execute_result",
          "data": {
            "text/plain": [
              "0.8044692737430168"
            ]
          },
          "metadata": {
            "tags": []
          },
          "execution_count": 125
        }
      ]
    },
    {
      "cell_type": "markdown",
      "metadata": {
        "id": "-3tgQ_IpO85i",
        "colab_type": "text"
      },
      "source": [
        "### 2-3-1) XGBoost Grid Search"
      ]
    },
    {
      "cell_type": "code",
      "metadata": {
        "id": "_9UR7SH-OpEa",
        "colab_type": "code",
        "colab": {}
      },
      "source": [
        "params = {'gamma':[0, 0.001, 0.01, 0.1, 1, 10],\n",
        "         'min_child_weight': [1, 3, 5, 7],\n",
        "         'n_estimators': np.arange(50, 1001, 50),\n",
        "         'max_depth' : [1,3,5,7,9]}"
      ],
      "execution_count": 0,
      "outputs": []
    },
    {
      "cell_type": "code",
      "metadata": {
        "id": "xOS4RiAZNsEK",
        "colab_type": "code",
        "colab": {}
      },
      "source": [
        "xg_grid = GridSearchCV(XGBClassifier(random_state=42), param_grid=params, cv = 5)"
      ],
      "execution_count": 0,
      "outputs": []
    },
    {
      "cell_type": "code",
      "metadata": {
        "id": "t84q3tNjPnlg",
        "colab_type": "code",
        "outputId": "815592e5-4f3c-424a-f670-9bff607c1cd7",
        "colab": {
          "base_uri": "https://localhost:8080/",
          "height": 359
        }
      },
      "source": [
        "xg_grid.fit(X_train, y_train)"
      ],
      "execution_count": 0,
      "outputs": [
        {
          "output_type": "execute_result",
          "data": {
            "text/plain": [
              "GridSearchCV(cv=5, error_score='raise-deprecating',\n",
              "             estimator=XGBClassifier(base_score=0.5, booster='gbtree',\n",
              "                                     colsample_bylevel=1, colsample_bynode=1,\n",
              "                                     colsample_bytree=1, gamma=0,\n",
              "                                     learning_rate=0.1, max_delta_step=0,\n",
              "                                     max_depth=3, min_child_weight=1,\n",
              "                                     missing=None, n_estimators=100, n_jobs=1,\n",
              "                                     nthread=None, objective='binary:logistic',\n",
              "                                     random_state=42, reg_alpha=0, reg_...\n",
              "                                     scale_pos_weight=1, seed=None, silent=None,\n",
              "                                     subsample=1, verbosity=1),\n",
              "             iid='warn', n_jobs=None,\n",
              "             param_grid={'gamma': [0, 0.001, 0.01, 0.1, 1, 10],\n",
              "                         'max_depth': [1, 3, 5, 7, 9],\n",
              "                         'min_child_weight': [1, 3, 5, 7],\n",
              "                         'n_estimators': array([  50,  100,  150,  200,  250,  300,  350,  400,  450,  500,  550,\n",
              "        600,  650,  700,  750,  800,  850,  900,  950, 1000])},\n",
              "             pre_dispatch='2*n_jobs', refit=True, return_train_score=False,\n",
              "             scoring=None, verbose=0)"
            ]
          },
          "metadata": {
            "tags": []
          },
          "execution_count": 135
        }
      ]
    },
    {
      "cell_type": "code",
      "metadata": {
        "id": "fw8mF1zbNq4K",
        "colab_type": "code",
        "outputId": "01456911-28e5-4f77-a566-e863560eb018",
        "colab": {
          "base_uri": "https://localhost:8080/",
          "height": 35
        }
      },
      "source": [
        "xg_grid.best_params_"
      ],
      "execution_count": 0,
      "outputs": [
        {
          "output_type": "execute_result",
          "data": {
            "text/plain": [
              "{'gamma': 0, 'max_depth': 3, 'min_child_weight': 7, 'n_estimators': 350}"
            ]
          },
          "metadata": {
            "tags": []
          },
          "execution_count": 137
        }
      ]
    },
    {
      "cell_type": "code",
      "metadata": {
        "id": "TM9zoR2W0bpp",
        "colab_type": "code",
        "outputId": "030d5faa-37af-4b7e-a6b0-76343e2b902a",
        "colab": {
          "base_uri": "https://localhost:8080/",
          "height": 35
        }
      },
      "source": [
        "xg_grid.best_score_"
      ],
      "execution_count": 0,
      "outputs": [
        {
          "output_type": "execute_result",
          "data": {
            "text/plain": [
              "0.848314606741573"
            ]
          },
          "metadata": {
            "tags": []
          },
          "execution_count": 138
        }
      ]
    },
    {
      "cell_type": "code",
      "metadata": {
        "id": "D40KWteCPpMK",
        "colab_type": "code",
        "colab": {}
      },
      "source": [
        "xg_final_mod = xg_grid.best_estimator_"
      ],
      "execution_count": 0,
      "outputs": []
    },
    {
      "cell_type": "code",
      "metadata": {
        "id": "Py-UHlBpNLnE",
        "colab_type": "code",
        "outputId": "d56ff821-5c10-47bd-9af4-07f318dea59e",
        "colab": {
          "base_uri": "https://localhost:8080/",
          "height": 143
        }
      },
      "source": [
        "xg_final_mod.fit(X_train, y_train)"
      ],
      "execution_count": 0,
      "outputs": [
        {
          "output_type": "execute_result",
          "data": {
            "text/plain": [
              "XGBClassifier(base_score=0.5, booster='gbtree', colsample_bylevel=1,\n",
              "              colsample_bynode=1, colsample_bytree=1, gamma=0,\n",
              "              learning_rate=0.1, max_delta_step=0, max_depth=3,\n",
              "              min_child_weight=7, missing=None, n_estimators=350, n_jobs=1,\n",
              "              nthread=None, objective='binary:logistic', random_state=42,\n",
              "              reg_alpha=0, reg_lambda=1, scale_pos_weight=1, seed=None,\n",
              "              silent=None, subsample=1, verbosity=1)"
            ]
          },
          "metadata": {
            "tags": []
          },
          "execution_count": 140
        }
      ]
    },
    {
      "cell_type": "code",
      "metadata": {
        "id": "yyz45JYB0iim",
        "colab_type": "code",
        "outputId": "0fabea3f-eeed-47ce-c6f0-1169b316e1ba",
        "colab": {
          "base_uri": "https://localhost:8080/",
          "height": 35
        }
      },
      "source": [
        "xg_final_mod.score(X_train, y_train)"
      ],
      "execution_count": 0,
      "outputs": [
        {
          "output_type": "execute_result",
          "data": {
            "text/plain": [
              "0.8932584269662921"
            ]
          },
          "metadata": {
            "tags": []
          },
          "execution_count": 141
        }
      ]
    },
    {
      "cell_type": "code",
      "metadata": {
        "id": "tQNaHkjF0kkO",
        "colab_type": "code",
        "outputId": "0606bc2e-04e9-46bc-9f1e-16733f8b6d75",
        "colab": {
          "base_uri": "https://localhost:8080/",
          "height": 35
        }
      },
      "source": [
        "xg_final_mod.score(X_test, y_test)"
      ],
      "execution_count": 0,
      "outputs": [
        {
          "output_type": "execute_result",
          "data": {
            "text/plain": [
              "0.7932960893854749"
            ]
          },
          "metadata": {
            "tags": []
          },
          "execution_count": 142
        }
      ]
    },
    {
      "cell_type": "code",
      "metadata": {
        "id": "i-tYc8fwNLkp",
        "colab_type": "code",
        "colab": {}
      },
      "source": [
        "xg_grid.cv_results_"
      ],
      "execution_count": 0,
      "outputs": []
    },
    {
      "cell_type": "markdown",
      "metadata": {
        "id": "-iL3vfOU1Vhg",
        "colab_type": "text"
      },
      "source": [
        "## Conclusion - XGboost \n",
        "\n",
        "for the XGBoost, its performance is \n",
        "\n",
        "Train : 0.8918539325842697  $\\approx $ 89.19%\n",
        "\n",
        "Test : 0.8044692737430168 $\\approx $ 80.45%\n",
        "\n",
        "\n",
        "\n",
        "---\n",
        "\n",
        "\n",
        "with gridsearch : \n",
        "\n",
        "Train : 0.8932584269662921  $\\approx $ 89.32%\n",
        "\n",
        "Test : 0.7932960893854749 $\\approx $ 79.32%\n",
        "\n",
        "{'gamma': 0, 'max_depth': 3, 'min_child_weight': 7, 'n_estimators': 350}"
      ]
    },
    {
      "cell_type": "markdown",
      "metadata": {
        "id": "hEqlKUwwOp5i",
        "colab_type": "text"
      },
      "source": [
        "# 3) Ensemble - RandomForest"
      ]
    },
    {
      "cell_type": "code",
      "metadata": {
        "id": "0CGmCIxNOsfh",
        "colab_type": "code",
        "colab": {}
      },
      "source": [
        "from sklearn.ensemble import RandomForestClassifier"
      ],
      "execution_count": 0,
      "outputs": []
    },
    {
      "cell_type": "code",
      "metadata": {
        "id": "_2YwuaYuOwDJ",
        "colab_type": "code",
        "colab": {}
      },
      "source": [
        "rfc_clf = RandomForestClassifier(random_state=42) # without tunning"
      ],
      "execution_count": 0,
      "outputs": []
    },
    {
      "cell_type": "code",
      "metadata": {
        "id": "j2izKkcFOv-q",
        "colab_type": "code",
        "outputId": "19a520cf-9330-45d5-f9a8-a5e3d8a2da3f",
        "colab": {
          "base_uri": "https://localhost:8080/",
          "height": 143
        }
      },
      "source": [
        "rfc_clf.fit(X_train, y_train)"
      ],
      "execution_count": 0,
      "outputs": [
        {
          "output_type": "execute_result",
          "data": {
            "text/plain": [
              "RandomForestClassifier(bootstrap=True, class_weight=None, criterion='gini',\n",
              "                       max_depth=None, max_features='auto', max_leaf_nodes=None,\n",
              "                       min_impurity_decrease=0.0, min_impurity_split=None,\n",
              "                       min_samples_leaf=1, min_samples_split=2,\n",
              "                       min_weight_fraction_leaf=0.0, n_estimators=10,\n",
              "                       n_jobs=None, oob_score=False, random_state=42, verbose=0,\n",
              "                       warm_start=False)"
            ]
          },
          "metadata": {
            "tags": []
          },
          "execution_count": 150
        }
      ]
    },
    {
      "cell_type": "code",
      "metadata": {
        "id": "B-aJlQWiPKrQ",
        "colab_type": "code",
        "outputId": "19bd2521-aa9e-475c-b410-6019425cb167",
        "colab": {
          "base_uri": "https://localhost:8080/",
          "height": 35
        }
      },
      "source": [
        "rfc_clf.score(X_train, y_train)"
      ],
      "execution_count": 0,
      "outputs": [
        {
          "output_type": "execute_result",
          "data": {
            "text/plain": [
              "0.9410112359550562"
            ]
          },
          "metadata": {
            "tags": []
          },
          "execution_count": 151
        }
      ]
    },
    {
      "cell_type": "code",
      "metadata": {
        "id": "9VenEDl9Ov6Q",
        "colab_type": "code",
        "outputId": "1ee610fc-9832-4759-d67a-0ad5cde2001b",
        "colab": {
          "base_uri": "https://localhost:8080/",
          "height": 35
        }
      },
      "source": [
        "rfc_clf.score(X_test, y_test)"
      ],
      "execution_count": 0,
      "outputs": [
        {
          "output_type": "execute_result",
          "data": {
            "text/plain": [
              "0.8268156424581006"
            ]
          },
          "metadata": {
            "tags": []
          },
          "execution_count": 152
        }
      ]
    },
    {
      "cell_type": "markdown",
      "metadata": {
        "id": "g84WK45XV6KP",
        "colab_type": "text"
      },
      "source": [
        "## RandomForest GridSearch"
      ]
    },
    {
      "cell_type": "code",
      "metadata": {
        "id": "-AAoitosOvw4",
        "colab_type": "code",
        "colab": {}
      },
      "source": [
        "params = {'max_depth': np.arange(10, 100, 10), \n",
        "          'min_samples_split': [2,5,6,8,10], \n",
        "          'min_samples_leaf': [1,3,5,7],\n",
        "          'n_estimators' : [10,50,100,150,200,250, 300, 350, 400, 450, 500, 600, 700, 800, 900, 1000]}"
      ],
      "execution_count": 0,
      "outputs": []
    },
    {
      "cell_type": "code",
      "metadata": {
        "id": "Yl2UEbHAQlpK",
        "colab_type": "code",
        "colab": {}
      },
      "source": [
        "grid_search = GridSearchCV(RandomForestClassifier(random_state=42), \n",
        "                           param_grid=params, \n",
        "                           cv = 5, \n",
        "                           verbose = 1)"
      ],
      "execution_count": 0,
      "outputs": []
    },
    {
      "cell_type": "code",
      "metadata": {
        "id": "4c8um2cTQlku",
        "colab_type": "code",
        "outputId": "7f25aaf7-ea17-45ca-b6a3-d8021af2b4dd",
        "colab": {
          "base_uri": "https://localhost:8080/",
          "height": 467
        }
      },
      "source": [
        "grid_search.fit(X_train, y_train)"
      ],
      "execution_count": 0,
      "outputs": [
        {
          "output_type": "stream",
          "text": [
            "Fitting 5 folds for each of 2880 candidates, totalling 14400 fits\n"
          ],
          "name": "stdout"
        },
        {
          "output_type": "stream",
          "text": [
            "[Parallel(n_jobs=1)]: Using backend SequentialBackend with 1 concurrent workers.\n",
            "[Parallel(n_jobs=1)]: Done 14400 out of 14400 | elapsed: 101.5min finished\n"
          ],
          "name": "stderr"
        },
        {
          "output_type": "execute_result",
          "data": {
            "text/plain": [
              "GridSearchCV(cv=5, error_score='raise-deprecating',\n",
              "             estimator=RandomForestClassifier(bootstrap=True, class_weight=None,\n",
              "                                              criterion='gini', max_depth=None,\n",
              "                                              max_features='auto',\n",
              "                                              max_leaf_nodes=None,\n",
              "                                              min_impurity_decrease=0.0,\n",
              "                                              min_impurity_split=None,\n",
              "                                              min_samples_leaf=1,\n",
              "                                              min_samples_split=2,\n",
              "                                              min_weight_fraction_leaf=0.0,\n",
              "                                              n_estimators='warn', n_jobs=None,\n",
              "                                              oob_score=Fa...dom_state=42,\n",
              "                                              verbose=0, warm_start=False),\n",
              "             iid='warn', n_jobs=None,\n",
              "             param_grid={'max_depth': array([10, 20, 30, 40, 50, 60, 70, 80, 90]),\n",
              "                         'min_samples_leaf': [1, 3, 5, 7],\n",
              "                         'min_samples_split': [2, 5, 6, 8, 10],\n",
              "                         'n_estimators': [10, 50, 100, 150, 200, 250, 300, 350,\n",
              "                                          400, 450, 500, 600, 700, 800, 900,\n",
              "                                          1000]},\n",
              "             pre_dispatch='2*n_jobs', refit=True, return_train_score=False,\n",
              "             scoring=None, verbose=1)"
            ]
          },
          "metadata": {
            "tags": []
          },
          "execution_count": 15
        }
      ]
    },
    {
      "cell_type": "code",
      "metadata": {
        "id": "SFptwP4TQlge",
        "colab_type": "code",
        "outputId": "e6415854-bc36-4ec1-e704-b443f08988d1",
        "colab": {
          "base_uri": "https://localhost:8080/",
          "height": 89
        }
      },
      "source": [
        "grid_search.best_params_"
      ],
      "execution_count": 0,
      "outputs": [
        {
          "output_type": "execute_result",
          "data": {
            "text/plain": [
              "{'max_depth': 10,\n",
              " 'min_samples_leaf': 3,\n",
              " 'min_samples_split': 10,\n",
              " 'n_estimators': 10}"
            ]
          },
          "metadata": {
            "tags": []
          },
          "execution_count": 16
        }
      ]
    },
    {
      "cell_type": "code",
      "metadata": {
        "id": "KOwb6UjLgQW3",
        "colab_type": "code",
        "outputId": "5b79e723-2e2b-439c-d995-96df6360ad61",
        "colab": {
          "base_uri": "https://localhost:8080/",
          "height": 35
        }
      },
      "source": [
        "grid_search.best_score_"
      ],
      "execution_count": 0,
      "outputs": [
        {
          "output_type": "execute_result",
          "data": {
            "text/plain": [
              "0.8328651685393258"
            ]
          },
          "metadata": {
            "tags": []
          },
          "execution_count": 22
        }
      ]
    },
    {
      "cell_type": "code",
      "metadata": {
        "id": "DjV4rBoVQla4",
        "colab_type": "code",
        "colab": {}
      },
      "source": [
        "g_rnd_clf = grid_search.best_estimator_"
      ],
      "execution_count": 0,
      "outputs": []
    },
    {
      "cell_type": "code",
      "metadata": {
        "id": "RKvGK1ErVBVF",
        "colab_type": "code",
        "outputId": "3fade3e8-08cb-4f6c-ed19-274e51fa2571",
        "colab": {
          "base_uri": "https://localhost:8080/",
          "height": 143
        }
      },
      "source": [
        "g_rnd_clf.fit(X_train, y_train)"
      ],
      "execution_count": 0,
      "outputs": [
        {
          "output_type": "execute_result",
          "data": {
            "text/plain": [
              "RandomForestClassifier(bootstrap=True, class_weight=None, criterion='gini',\n",
              "                       max_depth=10, max_features='auto', max_leaf_nodes=None,\n",
              "                       min_impurity_decrease=0.0, min_impurity_split=None,\n",
              "                       min_samples_leaf=3, min_samples_split=10,\n",
              "                       min_weight_fraction_leaf=0.0, n_estimators=10,\n",
              "                       n_jobs=None, oob_score=False, random_state=42, verbose=0,\n",
              "                       warm_start=False)"
            ]
          },
          "metadata": {
            "tags": []
          },
          "execution_count": 18
        }
      ]
    },
    {
      "cell_type": "code",
      "metadata": {
        "id": "LDgo3HugVIfu",
        "colab_type": "code",
        "outputId": "af35450b-355f-44fd-fb0b-f1b666711746",
        "colab": {
          "base_uri": "https://localhost:8080/",
          "height": 35
        }
      },
      "source": [
        "g_rnd_clf.score(X_train, y_train)"
      ],
      "execution_count": 0,
      "outputs": [
        {
          "output_type": "execute_result",
          "data": {
            "text/plain": [
              "0.8553370786516854"
            ]
          },
          "metadata": {
            "tags": []
          },
          "execution_count": 19
        }
      ]
    },
    {
      "cell_type": "code",
      "metadata": {
        "id": "IhcTsVJgVMfh",
        "colab_type": "code",
        "outputId": "781b4582-5a5a-4505-a392-7f013d1200ad",
        "colab": {
          "base_uri": "https://localhost:8080/",
          "height": 35
        }
      },
      "source": [
        "g_rnd_clf.score(X_test, y_test)"
      ],
      "execution_count": 0,
      "outputs": [
        {
          "output_type": "execute_result",
          "data": {
            "text/plain": [
              "0.8268156424581006"
            ]
          },
          "metadata": {
            "tags": []
          },
          "execution_count": 20
        }
      ]
    },
    {
      "cell_type": "markdown",
      "metadata": {
        "id": "lVMbz1JZQFeE",
        "colab_type": "text"
      },
      "source": [
        "## Conclusion\n",
        "\n",
        "for the RandomFrorest Classifier, \n",
        "\n",
        "train set : 0.925561797752809  $\\approx $ 92.56%\n",
        "\n",
        "test set : 0.8268156424581006 $\\approx $ 82.68%\n",
        "\n",
        "\n",
        "---\n",
        "\n",
        "\n",
        "with gridsearch : \n",
        "\n",
        "Train :  0.8553370786516854  $\\approx $ 85.53%\n",
        "\n",
        "Test : 0.8268156424581006 $\\approx $ 82.68%\n",
        "\n",
        "{'max_depth': 10, 'min_samples_leaf': 3, 'min_samples_split': 10, 'n_estimators': 10}"
      ]
    },
    {
      "cell_type": "markdown",
      "metadata": {
        "id": "GXenv2B8_QM2",
        "colab_type": "text"
      },
      "source": [
        "# 4) Ensemble - Voting Classification\n",
        "\n"
      ]
    },
    {
      "cell_type": "markdown",
      "metadata": {
        "id": "0qVmD8KUk7Y6",
        "colab_type": "text"
      },
      "source": [
        "## 4-1) Hard voting for over validation accuracy 80% over on hard-voting\n",
        "* Randomforest, KNN, Naive Bayes, Logit, SVM, XGboost, adaboost "
      ]
    },
    {
      "cell_type": "code",
      "metadata": {
        "id": "nnVA0O_sgMBU",
        "colab_type": "code",
        "colab": {}
      },
      "source": [
        "rnd_clf = RandomForestClassifier(random_state=42)\n",
        "knn_clf = KNeighborsClassifier()\n",
        "brl_clf = BernoulliNB()\n",
        "log_clf = LogisticRegression(random_state=42)\n",
        "svm_clf = SVC(random_state=42, probability=True)\n",
        "ada_clf = AdaBoostClassifier(DecisionTreeClassifier(max_depth=1), random_state=42)\n",
        "xgb_clf = XGBClassifier(random_state=42)"
      ],
      "execution_count": 0,
      "outputs": []
    },
    {
      "cell_type": "markdown",
      "metadata": {
        "id": "XlBkoTBQ3lBY",
        "colab_type": "text"
      },
      "source": [
        "### 4-1H)\n",
        "Ensemble - Vote classifier with (Randomforest, KNN, Naive Bayes, Logit, SVM, Adaboost, xgboost)"
      ]
    },
    {
      "cell_type": "code",
      "metadata": {
        "id": "RW_62O4H3bT-",
        "colab_type": "code",
        "colab": {}
      },
      "source": [
        "# Ensemble - Vote classifier with (Randomforest, KNN, Naive Bayes, Logit, SVM, Adaboost, xgboost)\n",
        "\n",
        "vote_model = VotingClassifier(estimators= [('rnd', rnd_clf), ('knn', knn_clf), ('brl', brl_clf), ('log', log_clf), ('svm', svm_clf), ('ada', ada_clf), ('xgb', xgb_clf)])"
      ],
      "execution_count": 0,
      "outputs": []
    },
    {
      "cell_type": "code",
      "metadata": {
        "id": "pm_1pD0v3qU-",
        "colab_type": "code",
        "outputId": "f7f591eb-d087-4a7f-a5d6-d1fe5a93fd52",
        "colab": {
          "base_uri": "https://localhost:8080/",
          "height": 845
        }
      },
      "source": [
        "vote_model.estimators"
      ],
      "execution_count": 0,
      "outputs": [
        {
          "output_type": "execute_result",
          "data": {
            "text/plain": [
              "[('rnd',\n",
              "  RandomForestClassifier(bootstrap=True, class_weight=None, criterion='gini',\n",
              "                         max_depth=None, max_features='auto', max_leaf_nodes=None,\n",
              "                         min_impurity_decrease=0.0, min_impurity_split=None,\n",
              "                         min_samples_leaf=1, min_samples_split=2,\n",
              "                         min_weight_fraction_leaf=0.0, n_estimators='warn',\n",
              "                         n_jobs=None, oob_score=False, random_state=42, verbose=0,\n",
              "                         warm_start=False)),\n",
              " ('knn',\n",
              "  KNeighborsClassifier(algorithm='auto', leaf_size=30, metric='minkowski',\n",
              "                       metric_params=None, n_jobs=None, n_neighbors=5, p=2,\n",
              "                       weights='uniform')),\n",
              " ('brl',\n",
              "  BernoulliNB(alpha=1.0, binarize=0.0, class_prior=None, fit_prior=True)),\n",
              " ('log',\n",
              "  LogisticRegression(C=1.0, class_weight=None, dual=False, fit_intercept=True,\n",
              "                     intercept_scaling=1, l1_ratio=None, max_iter=100,\n",
              "                     multi_class='warn', n_jobs=None, penalty='l2',\n",
              "                     random_state=42, solver='warn', tol=0.0001, verbose=0,\n",
              "                     warm_start=False)),\n",
              " ('svm', SVC(C=1.0, cache_size=200, class_weight=None, coef0=0.0,\n",
              "      decision_function_shape='ovr', degree=3, gamma='auto_deprecated',\n",
              "      kernel='rbf', max_iter=-1, probability=True, random_state=42,\n",
              "      shrinking=True, tol=0.001, verbose=False)),\n",
              " ('ada', AdaBoostClassifier(algorithm='SAMME.R',\n",
              "                     base_estimator=DecisionTreeClassifier(class_weight=None,\n",
              "                                                           criterion='gini',\n",
              "                                                           max_depth=1,\n",
              "                                                           max_features=None,\n",
              "                                                           max_leaf_nodes=None,\n",
              "                                                           min_impurity_decrease=0.0,\n",
              "                                                           min_impurity_split=None,\n",
              "                                                           min_samples_leaf=1,\n",
              "                                                           min_samples_split=2,\n",
              "                                                           min_weight_fraction_leaf=0.0,\n",
              "                                                           presort=False,\n",
              "                                                           random_state=None,\n",
              "                                                           splitter='best'),\n",
              "                     learning_rate=1.0, n_estimators=50, random_state=42)),\n",
              " ('xgb', XGBClassifier(base_score=0.5, booster='gbtree', colsample_bylevel=1,\n",
              "                colsample_bynode=1, colsample_bytree=1, gamma=0,\n",
              "                learning_rate=0.1, max_delta_step=0, max_depth=3,\n",
              "                min_child_weight=1, missing=None, n_estimators=100, n_jobs=1,\n",
              "                nthread=None, objective='binary:logistic', random_state=42,\n",
              "                reg_alpha=0, reg_lambda=1, scale_pos_weight=1, seed=None,\n",
              "                silent=None, subsample=1, verbosity=1))]"
            ]
          },
          "metadata": {
            "tags": []
          },
          "execution_count": 156
        }
      ]
    },
    {
      "cell_type": "code",
      "metadata": {
        "id": "_go61PRy3uBO",
        "colab_type": "code",
        "outputId": "5b38340d-1ab6-48ed-b6a3-6038c7e51f9b",
        "colab": {
          "base_uri": "https://localhost:8080/",
          "height": 539
        }
      },
      "source": [
        "vote_model.fit(X_train, y_train)"
      ],
      "execution_count": 0,
      "outputs": [
        {
          "output_type": "execute_result",
          "data": {
            "text/plain": [
              "VotingClassifier(estimators=[('rnd',\n",
              "                              RandomForestClassifier(bootstrap=True,\n",
              "                                                     class_weight=None,\n",
              "                                                     criterion='gini',\n",
              "                                                     max_depth=None,\n",
              "                                                     max_features='auto',\n",
              "                                                     max_leaf_nodes=None,\n",
              "                                                     min_impurity_decrease=0.0,\n",
              "                                                     min_impurity_split=None,\n",
              "                                                     min_samples_leaf=1,\n",
              "                                                     min_samples_split=2,\n",
              "                                                     min_weight_fraction_leaf=0.0,\n",
              "                                                     n_estimators='warn',\n",
              "                                                     n_jobs=None,\n",
              "                                                     oob_score=False,\n",
              "                                                     random_state=42, verb...\n",
              "                                            colsample_bynode=1,\n",
              "                                            colsample_bytree=1, gamma=0,\n",
              "                                            learning_rate=0.1, max_delta_step=0,\n",
              "                                            max_depth=3, min_child_weight=1,\n",
              "                                            missing=None, n_estimators=100,\n",
              "                                            n_jobs=1, nthread=None,\n",
              "                                            objective='binary:logistic',\n",
              "                                            random_state=42, reg_alpha=0,\n",
              "                                            reg_lambda=1, scale_pos_weight=1,\n",
              "                                            seed=None, silent=None, subsample=1,\n",
              "                                            verbosity=1))],\n",
              "                 flatten_transform=True, n_jobs=None, voting='hard',\n",
              "                 weights=None)"
            ]
          },
          "metadata": {
            "tags": []
          },
          "execution_count": 157
        }
      ]
    },
    {
      "cell_type": "code",
      "metadata": {
        "id": "8BfdRIyQ3t_P",
        "colab_type": "code",
        "outputId": "7e2ae9af-c193-42ab-81de-78f7228accd1",
        "colab": {
          "base_uri": "https://localhost:8080/",
          "height": 35
        }
      },
      "source": [
        "vote_model.score(X_train, y_train)"
      ],
      "execution_count": 0,
      "outputs": [
        {
          "output_type": "execute_result",
          "data": {
            "text/plain": [
              "0.8581460674157303"
            ]
          },
          "metadata": {
            "tags": []
          },
          "execution_count": 158
        }
      ]
    },
    {
      "cell_type": "code",
      "metadata": {
        "id": "dnQU7s7f3t9Q",
        "colab_type": "code",
        "outputId": "8c43b273-10c8-4aa5-db57-50b660ab4164",
        "colab": {
          "base_uri": "https://localhost:8080/",
          "height": 35
        }
      },
      "source": [
        "vote_model.score(X_test, y_test)"
      ],
      "execution_count": 0,
      "outputs": [
        {
          "output_type": "execute_result",
          "data": {
            "text/plain": [
              "0.8100558659217877"
            ]
          },
          "metadata": {
            "tags": []
          },
          "execution_count": 159
        }
      ]
    },
    {
      "cell_type": "markdown",
      "metadata": {
        "id": "of6TLtIn33oW",
        "colab_type": "text"
      },
      "source": [
        "### 4-2H)\n",
        "Ensemble - Vote classifier with (Randomforest, KNN, Naive Bayes, Logit, SVM)"
      ]
    },
    {
      "cell_type": "code",
      "metadata": {
        "id": "r4_HjL6b_LOV",
        "colab_type": "code",
        "colab": {}
      },
      "source": [
        "# Ensemble - Vote classifier with (Randomforest, KNN, Naive Bayes, Logit, SVM)\n",
        "\n",
        "vote_model = VotingClassifier(estimators= [('rnd', rnd_clf), ('knn', knn_clf), ('brl', brl_clf), ('log', log_clf), ('svm', svm_clf)])"
      ],
      "execution_count": 0,
      "outputs": []
    },
    {
      "cell_type": "code",
      "metadata": {
        "id": "17aN1VDdjNek",
        "colab_type": "code",
        "outputId": "31249927-ef96-42eb-c674-5e93d28a4c21",
        "colab": {
          "base_uri": "https://localhost:8080/",
          "height": 449
        }
      },
      "source": [
        "vote_model.estimators"
      ],
      "execution_count": 0,
      "outputs": [
        {
          "output_type": "execute_result",
          "data": {
            "text/plain": [
              "[('rnd',\n",
              "  RandomForestClassifier(bootstrap=True, class_weight=None, criterion='gini',\n",
              "                         max_depth=None, max_features='auto', max_leaf_nodes=None,\n",
              "                         min_impurity_decrease=0.0, min_impurity_split=None,\n",
              "                         min_samples_leaf=1, min_samples_split=2,\n",
              "                         min_weight_fraction_leaf=0.0, n_estimators='warn',\n",
              "                         n_jobs=None, oob_score=False, random_state=42, verbose=0,\n",
              "                         warm_start=False)),\n",
              " ('knn',\n",
              "  KNeighborsClassifier(algorithm='auto', leaf_size=30, metric='minkowski',\n",
              "                       metric_params=None, n_jobs=None, n_neighbors=5, p=2,\n",
              "                       weights='uniform')),\n",
              " ('brl',\n",
              "  BernoulliNB(alpha=1.0, binarize=0.0, class_prior=None, fit_prior=True)),\n",
              " ('log',\n",
              "  LogisticRegression(C=1.0, class_weight=None, dual=False, fit_intercept=True,\n",
              "                     intercept_scaling=1, l1_ratio=None, max_iter=100,\n",
              "                     multi_class='warn', n_jobs=None, penalty='l2',\n",
              "                     random_state=42, solver='warn', tol=0.0001, verbose=0,\n",
              "                     warm_start=False)),\n",
              " ('svm', SVC(C=1.0, cache_size=200, class_weight=None, coef0=0.0,\n",
              "      decision_function_shape='ovr', degree=3, gamma='auto_deprecated',\n",
              "      kernel='rbf', max_iter=-1, probability=True, random_state=42,\n",
              "      shrinking=True, tol=0.001, verbose=False))]"
            ]
          },
          "metadata": {
            "tags": []
          },
          "execution_count": 74
        }
      ]
    },
    {
      "cell_type": "code",
      "metadata": {
        "id": "GTE8y9SjjYUy",
        "colab_type": "code",
        "outputId": "22d9e632-c2a4-4e48-d087-414b0b661c1a",
        "colab": {
          "base_uri": "https://localhost:8080/",
          "height": 521
        }
      },
      "source": [
        "vote_model.fit(X_train, y_train)"
      ],
      "execution_count": 0,
      "outputs": [
        {
          "output_type": "execute_result",
          "data": {
            "text/plain": [
              "VotingClassifier(estimators=[('rnd',\n",
              "                              RandomForestClassifier(bootstrap=True,\n",
              "                                                     class_weight=None,\n",
              "                                                     criterion='gini',\n",
              "                                                     max_depth=None,\n",
              "                                                     max_features='auto',\n",
              "                                                     max_leaf_nodes=None,\n",
              "                                                     min_impurity_decrease=0.0,\n",
              "                                                     min_impurity_split=None,\n",
              "                                                     min_samples_leaf=1,\n",
              "                                                     min_samples_split=2,\n",
              "                                                     min_weight_fraction_leaf=0.0,\n",
              "                                                     n_estimators='warn',\n",
              "                                                     n_jobs=None,\n",
              "                                                     oob_score=False,\n",
              "                                                     random_state=42, verb...\n",
              "                                                 random_state=42, solver='warn',\n",
              "                                                 tol=0.0001, verbose=0,\n",
              "                                                 warm_start=False)),\n",
              "                             ('svm',\n",
              "                              SVC(C=1.0, cache_size=200, class_weight=None,\n",
              "                                  coef0=0.0, decision_function_shape='ovr',\n",
              "                                  degree=3, gamma='auto_deprecated',\n",
              "                                  kernel='rbf', max_iter=-1, probability=True,\n",
              "                                  random_state=42, shrinking=True, tol=0.001,\n",
              "                                  verbose=False))],\n",
              "                 flatten_transform=True, n_jobs=None, voting='hard',\n",
              "                 weights=None)"
            ]
          },
          "metadata": {
            "tags": []
          },
          "execution_count": 48
        }
      ]
    },
    {
      "cell_type": "code",
      "metadata": {
        "id": "V9mfR19Aja3Z",
        "colab_type": "code",
        "outputId": "d36703e5-7c6b-4d0a-98fa-25f8aa544d00",
        "colab": {
          "base_uri": "https://localhost:8080/",
          "height": 35
        }
      },
      "source": [
        "vote_model.score(X_train, y_train)"
      ],
      "execution_count": 0,
      "outputs": [
        {
          "output_type": "execute_result",
          "data": {
            "text/plain": [
              "0.8469101123595506"
            ]
          },
          "metadata": {
            "tags": []
          },
          "execution_count": 50
        }
      ]
    },
    {
      "cell_type": "code",
      "metadata": {
        "id": "25P6P7lijgj-",
        "colab_type": "code",
        "outputId": "c06843aa-9943-40f1-a69f-5f68d94c472e",
        "colab": {
          "base_uri": "https://localhost:8080/",
          "height": 35
        }
      },
      "source": [
        "vote_model.score(X_test, y_test)"
      ],
      "execution_count": 0,
      "outputs": [
        {
          "output_type": "execute_result",
          "data": {
            "text/plain": [
              "0.7988826815642458"
            ]
          },
          "metadata": {
            "tags": []
          },
          "execution_count": 51
        }
      ]
    },
    {
      "cell_type": "markdown",
      "metadata": {
        "id": "kocLOdG13_rt",
        "colab_type": "text"
      },
      "source": [
        "### 4-3H)\n",
        "Ensemble - Vote classifier with (KNN, Naive Bayes, Logit, SVM)"
      ]
    },
    {
      "cell_type": "code",
      "metadata": {
        "id": "wRkfyUY1jj0J",
        "colab_type": "code",
        "colab": {}
      },
      "source": [
        "vote_model2 = VotingClassifier(estimators= [('knn', knn_clf), ('brl', brl_clf), ('log', log_clf), ('svm', svm_clf)])\n"
      ],
      "execution_count": 0,
      "outputs": []
    },
    {
      "cell_type": "code",
      "metadata": {
        "id": "1iaRbxb4jntc",
        "colab_type": "code",
        "outputId": "ee59678a-9366-4e59-997c-ae670a676c3c",
        "colab": {
          "base_uri": "https://localhost:8080/",
          "height": 485
        }
      },
      "source": [
        "vote_model2"
      ],
      "execution_count": 0,
      "outputs": [
        {
          "output_type": "execute_result",
          "data": {
            "text/plain": [
              "VotingClassifier(estimators=[('knn',\n",
              "                              KNeighborsClassifier(algorithm='auto',\n",
              "                                                   leaf_size=30,\n",
              "                                                   metric='minkowski',\n",
              "                                                   metric_params=None,\n",
              "                                                   n_jobs=None, n_neighbors=5,\n",
              "                                                   p=2, weights='uniform')),\n",
              "                             ('brl',\n",
              "                              BernoulliNB(alpha=1.0, binarize=0.0,\n",
              "                                          class_prior=None, fit_prior=True)),\n",
              "                             ('log',\n",
              "                              LogisticRegression(C=1.0, class_weight=None,\n",
              "                                                 dual=False, fit_intercept=True,\n",
              "                                                 intercept_scaling=1...\n",
              "                                                 random_state=42, solver='warn',\n",
              "                                                 tol=0.0001, verbose=0,\n",
              "                                                 warm_start=False)),\n",
              "                             ('svm',\n",
              "                              SVC(C=1.0, cache_size=200, class_weight=None,\n",
              "                                  coef0=0.0, decision_function_shape='ovr',\n",
              "                                  degree=3, gamma='auto_deprecated',\n",
              "                                  kernel='rbf', max_iter=-1, probability=True,\n",
              "                                  random_state=42, shrinking=True, tol=0.001,\n",
              "                                  verbose=False))],\n",
              "                 flatten_transform=True, n_jobs=None, voting='hard',\n",
              "                 weights=None)"
            ]
          },
          "metadata": {
            "tags": []
          },
          "execution_count": 53
        }
      ]
    },
    {
      "cell_type": "code",
      "metadata": {
        "id": "R1rPMfa1jo85",
        "colab_type": "code",
        "outputId": "24fc7a85-dc46-4940-9eab-45223dc71fe4",
        "colab": {
          "base_uri": "https://localhost:8080/",
          "height": 485
        }
      },
      "source": [
        "vote_model2.fit(X_train, y_train)"
      ],
      "execution_count": 0,
      "outputs": [
        {
          "output_type": "execute_result",
          "data": {
            "text/plain": [
              "VotingClassifier(estimators=[('knn',\n",
              "                              KNeighborsClassifier(algorithm='auto',\n",
              "                                                   leaf_size=30,\n",
              "                                                   metric='minkowski',\n",
              "                                                   metric_params=None,\n",
              "                                                   n_jobs=None, n_neighbors=5,\n",
              "                                                   p=2, weights='uniform')),\n",
              "                             ('brl',\n",
              "                              BernoulliNB(alpha=1.0, binarize=0.0,\n",
              "                                          class_prior=None, fit_prior=True)),\n",
              "                             ('log',\n",
              "                              LogisticRegression(C=1.0, class_weight=None,\n",
              "                                                 dual=False, fit_intercept=True,\n",
              "                                                 intercept_scaling=1...\n",
              "                                                 random_state=42, solver='warn',\n",
              "                                                 tol=0.0001, verbose=0,\n",
              "                                                 warm_start=False)),\n",
              "                             ('svm',\n",
              "                              SVC(C=1.0, cache_size=200, class_weight=None,\n",
              "                                  coef0=0.0, decision_function_shape='ovr',\n",
              "                                  degree=3, gamma='auto_deprecated',\n",
              "                                  kernel='rbf', max_iter=-1, probability=True,\n",
              "                                  random_state=42, shrinking=True, tol=0.001,\n",
              "                                  verbose=False))],\n",
              "                 flatten_transform=True, n_jobs=None, voting='hard',\n",
              "                 weights=None)"
            ]
          },
          "metadata": {
            "tags": []
          },
          "execution_count": 54
        }
      ]
    },
    {
      "cell_type": "code",
      "metadata": {
        "id": "TRUBdcuujsRJ",
        "colab_type": "code",
        "outputId": "9dc6ae98-2435-4229-e59e-7a1fd84dea82",
        "colab": {
          "base_uri": "https://localhost:8080/",
          "height": 35
        }
      },
      "source": [
        "vote_model2.score(X_train, y_train)"
      ],
      "execution_count": 0,
      "outputs": [
        {
          "output_type": "execute_result",
          "data": {
            "text/plain": [
              "0.8314606741573034"
            ]
          },
          "metadata": {
            "tags": []
          },
          "execution_count": 55
        }
      ]
    },
    {
      "cell_type": "code",
      "metadata": {
        "id": "Roj6YLUHjv8E",
        "colab_type": "code",
        "outputId": "21150a4c-fb70-4966-f860-ff84f7527bb1",
        "colab": {
          "base_uri": "https://localhost:8080/",
          "height": 35
        }
      },
      "source": [
        "vote_model2.score(X_test, y_test)"
      ],
      "execution_count": 0,
      "outputs": [
        {
          "output_type": "execute_result",
          "data": {
            "text/plain": [
              "0.7988826815642458"
            ]
          },
          "metadata": {
            "tags": []
          },
          "execution_count": 56
        }
      ]
    },
    {
      "cell_type": "markdown",
      "metadata": {
        "id": "YbcSJNaR4LVG",
        "colab_type": "text"
      },
      "source": [
        "### 4-4H)\n",
        "Ensemble - Vote classifier with (RandomForest, KNN, Naive Bayes, Logit)"
      ]
    },
    {
      "cell_type": "code",
      "metadata": {
        "id": "30WEvaRoj1hI",
        "colab_type": "code",
        "colab": {}
      },
      "source": [
        "# Ensemble - Vote classifier with (Randomforest, KNN, Naive Bayes, Logit)\n",
        "\n",
        "vote_model3 = VotingClassifier(estimators= [('rnd', rnd_clf), ('knn', knn_clf), ('brl', brl_clf), ('log', log_clf)])"
      ],
      "execution_count": 0,
      "outputs": []
    },
    {
      "cell_type": "code",
      "metadata": {
        "id": "SX3iJHR0j31F",
        "colab_type": "code",
        "outputId": "f30bd973-d3a1-4313-e40b-79f671286349",
        "colab": {
          "base_uri": "https://localhost:8080/",
          "height": 377
        }
      },
      "source": [
        "vote_model3.estimators"
      ],
      "execution_count": 0,
      "outputs": [
        {
          "output_type": "execute_result",
          "data": {
            "text/plain": [
              "[('rnd',\n",
              "  RandomForestClassifier(bootstrap=True, class_weight=None, criterion='gini',\n",
              "                         max_depth=None, max_features='auto', max_leaf_nodes=None,\n",
              "                         min_impurity_decrease=0.0, min_impurity_split=None,\n",
              "                         min_samples_leaf=1, min_samples_split=2,\n",
              "                         min_weight_fraction_leaf=0.0, n_estimators='warn',\n",
              "                         n_jobs=None, oob_score=False, random_state=42, verbose=0,\n",
              "                         warm_start=False)),\n",
              " ('knn',\n",
              "  KNeighborsClassifier(algorithm='auto', leaf_size=30, metric='minkowski',\n",
              "                       metric_params=None, n_jobs=None, n_neighbors=5, p=2,\n",
              "                       weights='uniform')),\n",
              " ('brl',\n",
              "  BernoulliNB(alpha=1.0, binarize=0.0, class_prior=None, fit_prior=True)),\n",
              " ('log',\n",
              "  LogisticRegression(C=1.0, class_weight=None, dual=False, fit_intercept=True,\n",
              "                     intercept_scaling=1, l1_ratio=None, max_iter=100,\n",
              "                     multi_class='warn', n_jobs=None, penalty='l2',\n",
              "                     random_state=42, solver='warn', tol=0.0001, verbose=0,\n",
              "                     warm_start=False))]"
            ]
          },
          "metadata": {
            "tags": []
          },
          "execution_count": 75
        }
      ]
    },
    {
      "cell_type": "code",
      "metadata": {
        "id": "YLnTAXdfj7Gg",
        "colab_type": "code",
        "outputId": "2f64a716-35f1-4c57-e3d1-67c072086f6b",
        "colab": {
          "base_uri": "https://localhost:8080/",
          "height": 557
        }
      },
      "source": [
        "vote_model3.fit(X_train, y_train)"
      ],
      "execution_count": 0,
      "outputs": [
        {
          "output_type": "execute_result",
          "data": {
            "text/plain": [
              "VotingClassifier(estimators=[('rnd',\n",
              "                              RandomForestClassifier(bootstrap=True,\n",
              "                                                     class_weight=None,\n",
              "                                                     criterion='gini',\n",
              "                                                     max_depth=None,\n",
              "                                                     max_features='auto',\n",
              "                                                     max_leaf_nodes=None,\n",
              "                                                     min_impurity_decrease=0.0,\n",
              "                                                     min_impurity_split=None,\n",
              "                                                     min_samples_leaf=1,\n",
              "                                                     min_samples_split=2,\n",
              "                                                     min_weight_fraction_leaf=0.0,\n",
              "                                                     n_estimators='warn',\n",
              "                                                     n_jobs=None,\n",
              "                                                     oob_score=False,\n",
              "                                                     random_state=42, verb...\n",
              "                              BernoulliNB(alpha=1.0, binarize=0.0,\n",
              "                                          class_prior=None, fit_prior=True)),\n",
              "                             ('log',\n",
              "                              LogisticRegression(C=1.0, class_weight=None,\n",
              "                                                 dual=False, fit_intercept=True,\n",
              "                                                 intercept_scaling=1,\n",
              "                                                 l1_ratio=None, max_iter=100,\n",
              "                                                 multi_class='warn',\n",
              "                                                 n_jobs=None, penalty='l2',\n",
              "                                                 random_state=42, solver='warn',\n",
              "                                                 tol=0.0001, verbose=0,\n",
              "                                                 warm_start=False))],\n",
              "                 flatten_transform=True, n_jobs=None, voting='hard',\n",
              "                 weights=None)"
            ]
          },
          "metadata": {
            "tags": []
          },
          "execution_count": 60
        }
      ]
    },
    {
      "cell_type": "code",
      "metadata": {
        "id": "yNKPfxYuj9nX",
        "colab_type": "code",
        "outputId": "e14c2d70-346b-43a6-afb0-8be798596e5c",
        "colab": {
          "base_uri": "https://localhost:8080/",
          "height": 35
        }
      },
      "source": [
        "vote_model3.score(X_train, y_train)"
      ],
      "execution_count": 0,
      "outputs": [
        {
          "output_type": "execute_result",
          "data": {
            "text/plain": [
              "0.8735955056179775"
            ]
          },
          "metadata": {
            "tags": []
          },
          "execution_count": 61
        }
      ]
    },
    {
      "cell_type": "code",
      "metadata": {
        "id": "t74laab5j_uB",
        "colab_type": "code",
        "outputId": "2b6b387d-eaa2-4790-a5f2-1d3d4968ff89",
        "colab": {
          "base_uri": "https://localhost:8080/",
          "height": 35
        }
      },
      "source": [
        "vote_model3.score(X_test, y_test)"
      ],
      "execution_count": 0,
      "outputs": [
        {
          "output_type": "execute_result",
          "data": {
            "text/plain": [
              "0.8100558659217877"
            ]
          },
          "metadata": {
            "tags": []
          },
          "execution_count": 62
        }
      ]
    },
    {
      "cell_type": "markdown",
      "metadata": {
        "id": "Uutx4zP94ULe",
        "colab_type": "text"
      },
      "source": [
        "### 4-5H)\n",
        "Ensemble - Vote classifier with (RandomForest, Logit, svm)"
      ]
    },
    {
      "cell_type": "code",
      "metadata": {
        "id": "-9_xAhIBkLxE",
        "colab_type": "code",
        "colab": {}
      },
      "source": [
        "# Ensemble - Vote classifier with (Randomforest, Logit)\n",
        "\n",
        "vote_model4 = VotingClassifier(estimators= [('rnd', rnd_clf), ('log', log_clf), ('svm', svm_clf)])"
      ],
      "execution_count": 0,
      "outputs": []
    },
    {
      "cell_type": "code",
      "metadata": {
        "id": "G--PhVR6kV-z",
        "colab_type": "code",
        "outputId": "f1128479-a753-412f-f9f3-2b88bcabf463",
        "colab": {
          "base_uri": "https://localhost:8080/",
          "height": 521
        }
      },
      "source": [
        "vote_model4.fit(X_train, y_train)"
      ],
      "execution_count": 0,
      "outputs": [
        {
          "output_type": "execute_result",
          "data": {
            "text/plain": [
              "VotingClassifier(estimators=[('rnd',\n",
              "                              RandomForestClassifier(bootstrap=True,\n",
              "                                                     class_weight=None,\n",
              "                                                     criterion='gini',\n",
              "                                                     max_depth=None,\n",
              "                                                     max_features='auto',\n",
              "                                                     max_leaf_nodes=None,\n",
              "                                                     min_impurity_decrease=0.0,\n",
              "                                                     min_impurity_split=None,\n",
              "                                                     min_samples_leaf=1,\n",
              "                                                     min_samples_split=2,\n",
              "                                                     min_weight_fraction_leaf=0.0,\n",
              "                                                     n_estimators='warn',\n",
              "                                                     n_jobs=None,\n",
              "                                                     oob_score=False,\n",
              "                                                     random_state=42, verb...\n",
              "                                                 random_state=42, solver='warn',\n",
              "                                                 tol=0.0001, verbose=0,\n",
              "                                                 warm_start=False)),\n",
              "                             ('svm',\n",
              "                              SVC(C=1.0, cache_size=200, class_weight=None,\n",
              "                                  coef0=0.0, decision_function_shape='ovr',\n",
              "                                  degree=3, gamma='auto_deprecated',\n",
              "                                  kernel='rbf', max_iter=-1, probability=True,\n",
              "                                  random_state=42, shrinking=True, tol=0.001,\n",
              "                                  verbose=False))],\n",
              "                 flatten_transform=True, n_jobs=None, voting='hard',\n",
              "                 weights=None)"
            ]
          },
          "metadata": {
            "tags": []
          },
          "execution_count": 64
        }
      ]
    },
    {
      "cell_type": "code",
      "metadata": {
        "id": "_581E8OWkow3",
        "colab_type": "code",
        "outputId": "62f19c0a-6c8f-41b9-823c-eae7e67ee602",
        "colab": {
          "base_uri": "https://localhost:8080/",
          "height": 35
        }
      },
      "source": [
        "vote_model4.score(X_train, y_train)"
      ],
      "execution_count": 0,
      "outputs": [
        {
          "output_type": "execute_result",
          "data": {
            "text/plain": [
              "0.8426966292134831"
            ]
          },
          "metadata": {
            "tags": []
          },
          "execution_count": 70
        }
      ]
    },
    {
      "cell_type": "code",
      "metadata": {
        "id": "Zm0WWVagkqcb",
        "colab_type": "code",
        "outputId": "4d79a166-b7da-4cc9-a979-7e3e5fe1a64d",
        "colab": {
          "base_uri": "https://localhost:8080/",
          "height": 35
        }
      },
      "source": [
        "vote_model4.score(X_test, y_test)"
      ],
      "execution_count": 0,
      "outputs": [
        {
          "output_type": "execute_result",
          "data": {
            "text/plain": [
              "0.7988826815642458"
            ]
          },
          "metadata": {
            "tags": []
          },
          "execution_count": 71
        }
      ]
    },
    {
      "cell_type": "markdown",
      "metadata": {
        "id": "zYgVYjX14xvF",
        "colab_type": "text"
      },
      "source": [
        "### 4-6H)\n",
        "Ensemble - Vote classifier with (RandomForest, xgboost)"
      ]
    },
    {
      "cell_type": "code",
      "metadata": {
        "id": "0oXb8Jdb45aN",
        "colab_type": "code",
        "colab": {}
      },
      "source": [
        "vote_model5 = VotingClassifier([('rnd', rnd_clf), ('xgb', xgb_clf)])"
      ],
      "execution_count": 0,
      "outputs": []
    },
    {
      "cell_type": "code",
      "metadata": {
        "id": "F-_kbVBf5GaX",
        "colab_type": "code",
        "outputId": "ba8c831f-e30b-4713-ad9a-1c4fcb0d3b1c",
        "colab": {
          "base_uri": "https://localhost:8080/",
          "height": 539
        }
      },
      "source": [
        "vote_model5.fit(X_train, y_train)"
      ],
      "execution_count": 0,
      "outputs": [
        {
          "output_type": "execute_result",
          "data": {
            "text/plain": [
              "VotingClassifier(estimators=[('rnd',\n",
              "                              RandomForestClassifier(bootstrap=True,\n",
              "                                                     class_weight=None,\n",
              "                                                     criterion='gini',\n",
              "                                                     max_depth=None,\n",
              "                                                     max_features='auto',\n",
              "                                                     max_leaf_nodes=None,\n",
              "                                                     min_impurity_decrease=0.0,\n",
              "                                                     min_impurity_split=None,\n",
              "                                                     min_samples_leaf=1,\n",
              "                                                     min_samples_split=2,\n",
              "                                                     min_weight_fraction_leaf=0.0,\n",
              "                                                     n_estimators='warn',\n",
              "                                                     n_jobs=None,\n",
              "                                                     oob_score=False,\n",
              "                                                     random_state=42, verb...\n",
              "                                            colsample_bynode=1,\n",
              "                                            colsample_bytree=1, gamma=0,\n",
              "                                            learning_rate=0.1, max_delta_step=0,\n",
              "                                            max_depth=3, min_child_weight=1,\n",
              "                                            missing=None, n_estimators=100,\n",
              "                                            n_jobs=1, nthread=None,\n",
              "                                            objective='binary:logistic',\n",
              "                                            random_state=42, reg_alpha=0,\n",
              "                                            reg_lambda=1, scale_pos_weight=1,\n",
              "                                            seed=None, silent=None, subsample=1,\n",
              "                                            verbosity=1))],\n",
              "                 flatten_transform=True, n_jobs=None, voting='hard',\n",
              "                 weights=None)"
            ]
          },
          "metadata": {
            "tags": []
          },
          "execution_count": 162
        }
      ]
    },
    {
      "cell_type": "code",
      "metadata": {
        "id": "v10u716x5IVf",
        "colab_type": "code",
        "outputId": "507ad489-a6b1-4fd2-b9ee-f4592860681e",
        "colab": {
          "base_uri": "https://localhost:8080/",
          "height": 35
        }
      },
      "source": [
        "vote_model5.score(X_train, y_train)"
      ],
      "execution_count": 0,
      "outputs": [
        {
          "output_type": "execute_result",
          "data": {
            "text/plain": [
              "0.9087078651685393"
            ]
          },
          "metadata": {
            "tags": []
          },
          "execution_count": 163
        }
      ]
    },
    {
      "cell_type": "code",
      "metadata": {
        "id": "tGNk2l9M5LQH",
        "colab_type": "code",
        "outputId": "033db5a7-73f5-47b5-88f3-953e2e6d2d54",
        "colab": {
          "base_uri": "https://localhost:8080/",
          "height": 35
        }
      },
      "source": [
        "vote_model5.score(X_test, y_test)"
      ],
      "execution_count": 0,
      "outputs": [
        {
          "output_type": "execute_result",
          "data": {
            "text/plain": [
              "0.8100558659217877"
            ]
          },
          "metadata": {
            "tags": []
          },
          "execution_count": 164
        }
      ]
    },
    {
      "cell_type": "markdown",
      "metadata": {
        "id": "3ohMt1Ll7-Au",
        "colab_type": "text"
      },
      "source": [
        "###4-7H)\n",
        "Ensemble - Vote classifier with (RandomForest, Logit, xgboost)"
      ]
    },
    {
      "cell_type": "code",
      "metadata": {
        "id": "d-NzCvqk8FZX",
        "colab_type": "code",
        "colab": {}
      },
      "source": [
        "vote_model6 = VotingClassifier([('rnd', rnd_clf), ('xgb', xgb_clf), ('logit', log_clf)])"
      ],
      "execution_count": 0,
      "outputs": []
    },
    {
      "cell_type": "code",
      "metadata": {
        "id": "LMiv9USw8Fdm",
        "colab_type": "code",
        "outputId": "8ec20cd0-f184-4580-b120-7167554da2c6",
        "colab": {
          "base_uri": "https://localhost:8080/",
          "height": 557
        }
      },
      "source": [
        "vote_model6.fit(X_train, y_train)"
      ],
      "execution_count": 0,
      "outputs": [
        {
          "output_type": "execute_result",
          "data": {
            "text/plain": [
              "VotingClassifier(estimators=[('rnd',\n",
              "                              RandomForestClassifier(bootstrap=True,\n",
              "                                                     class_weight=None,\n",
              "                                                     criterion='gini',\n",
              "                                                     max_depth=None,\n",
              "                                                     max_features='auto',\n",
              "                                                     max_leaf_nodes=None,\n",
              "                                                     min_impurity_decrease=0.0,\n",
              "                                                     min_impurity_split=None,\n",
              "                                                     min_samples_leaf=1,\n",
              "                                                     min_samples_split=2,\n",
              "                                                     min_weight_fraction_leaf=0.0,\n",
              "                                                     n_estimators='warn',\n",
              "                                                     n_jobs=None,\n",
              "                                                     oob_score=False,\n",
              "                                                     random_state=42, verb...\n",
              "                                            seed=None, silent=None, subsample=1,\n",
              "                                            verbosity=1)),\n",
              "                             ('logit',\n",
              "                              LogisticRegression(C=1.0, class_weight=None,\n",
              "                                                 dual=False, fit_intercept=True,\n",
              "                                                 intercept_scaling=1,\n",
              "                                                 l1_ratio=None, max_iter=100,\n",
              "                                                 multi_class='warn',\n",
              "                                                 n_jobs=None, penalty='l2',\n",
              "                                                 random_state=42, solver='warn',\n",
              "                                                 tol=0.0001, verbose=0,\n",
              "                                                 warm_start=False))],\n",
              "                 flatten_transform=True, n_jobs=None, voting='hard',\n",
              "                 weights=None)"
            ]
          },
          "metadata": {
            "tags": []
          },
          "execution_count": 180
        }
      ]
    },
    {
      "cell_type": "code",
      "metadata": {
        "id": "ZKZjntC38Nmf",
        "colab_type": "code",
        "outputId": "5847e5d8-8fd4-42af-8e17-cba17f0ece61",
        "colab": {
          "base_uri": "https://localhost:8080/",
          "height": 35
        }
      },
      "source": [
        "vote_model6.score(X_train,y_train)"
      ],
      "execution_count": 0,
      "outputs": [
        {
          "output_type": "execute_result",
          "data": {
            "text/plain": [
              "0.8974719101123596"
            ]
          },
          "metadata": {
            "tags": []
          },
          "execution_count": 181
        }
      ]
    },
    {
      "cell_type": "code",
      "metadata": {
        "id": "QFFYvEW_8PFH",
        "colab_type": "code",
        "outputId": "55c1ae69-2867-456c-ef3f-34a0c3b96850",
        "colab": {
          "base_uri": "https://localhost:8080/",
          "height": 35
        }
      },
      "source": [
        "vote_model6.score(X_test, y_test)"
      ],
      "execution_count": 0,
      "outputs": [
        {
          "output_type": "execute_result",
          "data": {
            "text/plain": [
              "0.8100558659217877"
            ]
          },
          "metadata": {
            "tags": []
          },
          "execution_count": 182
        }
      ]
    },
    {
      "cell_type": "code",
      "metadata": {
        "id": "QnHj2i7d8R7_",
        "colab_type": "code",
        "colab": {}
      },
      "source": [
        ""
      ],
      "execution_count": 0,
      "outputs": []
    },
    {
      "cell_type": "markdown",
      "metadata": {
        "id": "m8YdQGjB5cs5",
        "colab_type": "text"
      },
      "source": [
        "## 4-2)  Soft voting for over validation accuracy 80% over on hard-voting"
      ]
    },
    {
      "cell_type": "code",
      "metadata": {
        "id": "7Qs2Rs7753Ie",
        "colab_type": "code",
        "colab": {}
      },
      "source": [
        "rnd_clf = RandomForestClassifier(random_state=42)\n",
        "knn_clf = KNeighborsClassifier()\n",
        "brl_clf = BernoulliNB()\n",
        "log_clf = LogisticRegression(random_state=42)\n",
        "svm_clf = SVC(random_state=42, probability=True)\n",
        "ada_clf = AdaBoostClassifier(DecisionTreeClassifier(max_depth=1), random_state=42)\n",
        "xgb_clf = XGBClassifier(random_state=42)"
      ],
      "execution_count": 0,
      "outputs": []
    },
    {
      "cell_type": "code",
      "metadata": {
        "id": "oWSC_z-D5NMX",
        "colab_type": "code",
        "colab": {}
      },
      "source": [
        "vote_model = VotingClassifier(estimators= [('rnd', rnd_clf), ('knn', knn_clf), ('brl', brl_clf), ('log', log_clf), ('svm', svm_clf), ('ada', ada_clf), ('xgb', xgb_clf)], voting='soft')\n",
        "vote_model3 = VotingClassifier(estimators= [('rnd', rnd_clf), ('knn', knn_clf), ('brl', brl_clf), ('log', log_clf)], voting='soft')\n",
        "vote_model5 = VotingClassifier([('rnd', rnd_clf), ('xgb', xgb_clf)], voting='soft')"
      ],
      "execution_count": 0,
      "outputs": []
    },
    {
      "cell_type": "markdown",
      "metadata": {
        "id": "0YZeVwpj6O5H",
        "colab_type": "text"
      },
      "source": [
        "### 4.2S)\n",
        "Ensemble - Vote classifier with (Randomforest, KNN, Naive Bayes, Logit, SVM, Adaboost, xgboost)"
      ]
    },
    {
      "cell_type": "code",
      "metadata": {
        "id": "EPVsZuUU59E2",
        "colab_type": "code",
        "outputId": "ce18e400-49dc-4a64-94bf-faae6dcb0a6d",
        "colab": {
          "base_uri": "https://localhost:8080/",
          "height": 539
        }
      },
      "source": [
        "vote_model.fit(X_train,y_train)"
      ],
      "execution_count": 0,
      "outputs": [
        {
          "output_type": "execute_result",
          "data": {
            "text/plain": [
              "VotingClassifier(estimators=[('rnd',\n",
              "                              RandomForestClassifier(bootstrap=True,\n",
              "                                                     class_weight=None,\n",
              "                                                     criterion='gini',\n",
              "                                                     max_depth=None,\n",
              "                                                     max_features='auto',\n",
              "                                                     max_leaf_nodes=None,\n",
              "                                                     min_impurity_decrease=0.0,\n",
              "                                                     min_impurity_split=None,\n",
              "                                                     min_samples_leaf=1,\n",
              "                                                     min_samples_split=2,\n",
              "                                                     min_weight_fraction_leaf=0.0,\n",
              "                                                     n_estimators='warn',\n",
              "                                                     n_jobs=None,\n",
              "                                                     oob_score=False,\n",
              "                                                     random_state=42, verb...\n",
              "                                            colsample_bynode=1,\n",
              "                                            colsample_bytree=1, gamma=0,\n",
              "                                            learning_rate=0.1, max_delta_step=0,\n",
              "                                            max_depth=3, min_child_weight=1,\n",
              "                                            missing=None, n_estimators=100,\n",
              "                                            n_jobs=1, nthread=None,\n",
              "                                            objective='binary:logistic',\n",
              "                                            random_state=42, reg_alpha=0,\n",
              "                                            reg_lambda=1, scale_pos_weight=1,\n",
              "                                            seed=None, silent=None, subsample=1,\n",
              "                                            verbosity=1))],\n",
              "                 flatten_transform=True, n_jobs=None, voting='soft',\n",
              "                 weights=None)"
            ]
          },
          "metadata": {
            "tags": []
          },
          "execution_count": 169
        }
      ]
    },
    {
      "cell_type": "code",
      "metadata": {
        "id": "A9Bb-4bs6Jgf",
        "colab_type": "code",
        "outputId": "3fc9e174-841d-45b9-9b0d-5655c504fc77",
        "colab": {
          "base_uri": "https://localhost:8080/",
          "height": 35
        }
      },
      "source": [
        "vote_model.score(X_train, y_train)"
      ],
      "execution_count": 0,
      "outputs": [
        {
          "output_type": "execute_result",
          "data": {
            "text/plain": [
              "0.8679775280898876"
            ]
          },
          "metadata": {
            "tags": []
          },
          "execution_count": 170
        }
      ]
    },
    {
      "cell_type": "code",
      "metadata": {
        "id": "cDKK6zNo6Ltv",
        "colab_type": "code",
        "outputId": "cc7db945-e1b6-4286-ac92-fafc07b72ff1",
        "colab": {
          "base_uri": "https://localhost:8080/",
          "height": 35
        }
      },
      "source": [
        "vote_model.score(X_test, y_test)"
      ],
      "execution_count": 0,
      "outputs": [
        {
          "output_type": "execute_result",
          "data": {
            "text/plain": [
              "0.8100558659217877"
            ]
          },
          "metadata": {
            "tags": []
          },
          "execution_count": 171
        }
      ]
    },
    {
      "cell_type": "markdown",
      "metadata": {
        "id": "5OzNjP2z6XW3",
        "colab_type": "text"
      },
      "source": [
        "### 4.2S)\n",
        "Ensemble - Vote classifier with (Randomforest, KNN, Naive Bayes, Logit)"
      ]
    },
    {
      "cell_type": "code",
      "metadata": {
        "id": "3CJ7SGfJ6NdP",
        "colab_type": "code",
        "outputId": "c6f4a013-4175-4ec2-b31a-26a7d618c3ff",
        "colab": {
          "base_uri": "https://localhost:8080/",
          "height": 557
        }
      },
      "source": [
        "vote_model3.fit(X_train,y_train)"
      ],
      "execution_count": 0,
      "outputs": [
        {
          "output_type": "execute_result",
          "data": {
            "text/plain": [
              "VotingClassifier(estimators=[('rnd',\n",
              "                              RandomForestClassifier(bootstrap=True,\n",
              "                                                     class_weight=None,\n",
              "                                                     criterion='gini',\n",
              "                                                     max_depth=None,\n",
              "                                                     max_features='auto',\n",
              "                                                     max_leaf_nodes=None,\n",
              "                                                     min_impurity_decrease=0.0,\n",
              "                                                     min_impurity_split=None,\n",
              "                                                     min_samples_leaf=1,\n",
              "                                                     min_samples_split=2,\n",
              "                                                     min_weight_fraction_leaf=0.0,\n",
              "                                                     n_estimators='warn',\n",
              "                                                     n_jobs=None,\n",
              "                                                     oob_score=False,\n",
              "                                                     random_state=42, verb...\n",
              "                              BernoulliNB(alpha=1.0, binarize=0.0,\n",
              "                                          class_prior=None, fit_prior=True)),\n",
              "                             ('log',\n",
              "                              LogisticRegression(C=1.0, class_weight=None,\n",
              "                                                 dual=False, fit_intercept=True,\n",
              "                                                 intercept_scaling=1,\n",
              "                                                 l1_ratio=None, max_iter=100,\n",
              "                                                 multi_class='warn',\n",
              "                                                 n_jobs=None, penalty='l2',\n",
              "                                                 random_state=42, solver='warn',\n",
              "                                                 tol=0.0001, verbose=0,\n",
              "                                                 warm_start=False))],\n",
              "                 flatten_transform=True, n_jobs=None, voting='soft',\n",
              "                 weights=None)"
            ]
          },
          "metadata": {
            "tags": []
          },
          "execution_count": 172
        }
      ]
    },
    {
      "cell_type": "code",
      "metadata": {
        "id": "-wMxbQCg6d6v",
        "colab_type": "code",
        "outputId": "bcd31b3a-b52d-4ca6-e32c-ec2b9dc29ad8",
        "colab": {
          "base_uri": "https://localhost:8080/",
          "height": 35
        }
      },
      "source": [
        "vote_model3.score(X_train, y_train)"
      ],
      "execution_count": 0,
      "outputs": [
        {
          "output_type": "execute_result",
          "data": {
            "text/plain": [
              "0.8778089887640449"
            ]
          },
          "metadata": {
            "tags": []
          },
          "execution_count": 173
        }
      ]
    },
    {
      "cell_type": "code",
      "metadata": {
        "id": "v-Lc7GMJ6gBX",
        "colab_type": "code",
        "outputId": "0ce155ca-095e-447a-c78b-91358634979b",
        "colab": {
          "base_uri": "https://localhost:8080/",
          "height": 35
        }
      },
      "source": [
        "vote_model3.score(X_test, y_test)"
      ],
      "execution_count": 0,
      "outputs": [
        {
          "output_type": "execute_result",
          "data": {
            "text/plain": [
              "0.8100558659217877"
            ]
          },
          "metadata": {
            "tags": []
          },
          "execution_count": 174
        }
      ]
    },
    {
      "cell_type": "markdown",
      "metadata": {
        "id": "aLs7B1U96sI2",
        "colab_type": "text"
      },
      "source": [
        "### 4.2S)\n",
        "Ensemble - Vote classifier with (Randomforest,  xgboost)"
      ]
    },
    {
      "cell_type": "code",
      "metadata": {
        "id": "aM3zKg-K6iEH",
        "colab_type": "code",
        "outputId": "df7b8856-b91f-4365-9718-1a150023b55f",
        "colab": {
          "base_uri": "https://localhost:8080/",
          "height": 539
        }
      },
      "source": [
        "vote_model5.fit(X_train, y_train)"
      ],
      "execution_count": 0,
      "outputs": [
        {
          "output_type": "execute_result",
          "data": {
            "text/plain": [
              "VotingClassifier(estimators=[('rnd',\n",
              "                              RandomForestClassifier(bootstrap=True,\n",
              "                                                     class_weight=None,\n",
              "                                                     criterion='gini',\n",
              "                                                     max_depth=None,\n",
              "                                                     max_features='auto',\n",
              "                                                     max_leaf_nodes=None,\n",
              "                                                     min_impurity_decrease=0.0,\n",
              "                                                     min_impurity_split=None,\n",
              "                                                     min_samples_leaf=1,\n",
              "                                                     min_samples_split=2,\n",
              "                                                     min_weight_fraction_leaf=0.0,\n",
              "                                                     n_estimators='warn',\n",
              "                                                     n_jobs=None,\n",
              "                                                     oob_score=False,\n",
              "                                                     random_state=42, verb...\n",
              "                                            colsample_bynode=1,\n",
              "                                            colsample_bytree=1, gamma=0,\n",
              "                                            learning_rate=0.1, max_delta_step=0,\n",
              "                                            max_depth=3, min_child_weight=1,\n",
              "                                            missing=None, n_estimators=100,\n",
              "                                            n_jobs=1, nthread=None,\n",
              "                                            objective='binary:logistic',\n",
              "                                            random_state=42, reg_alpha=0,\n",
              "                                            reg_lambda=1, scale_pos_weight=1,\n",
              "                                            seed=None, silent=None, subsample=1,\n",
              "                                            verbosity=1))],\n",
              "                 flatten_transform=True, n_jobs=None, voting='soft',\n",
              "                 weights=None)"
            ]
          },
          "metadata": {
            "tags": []
          },
          "execution_count": 175
        }
      ]
    },
    {
      "cell_type": "code",
      "metadata": {
        "id": "W2zqKiLm6x5S",
        "colab_type": "code",
        "outputId": "74893a18-e55a-4d36-ed9e-f0515b4b37ab",
        "colab": {
          "base_uri": "https://localhost:8080/",
          "height": 35
        }
      },
      "source": [
        "vote_model5.score(X_train, y_train)"
      ],
      "execution_count": 0,
      "outputs": [
        {
          "output_type": "execute_result",
          "data": {
            "text/plain": [
              "0.9269662921348315"
            ]
          },
          "metadata": {
            "tags": []
          },
          "execution_count": 176
        }
      ]
    },
    {
      "cell_type": "code",
      "metadata": {
        "id": "TUsLb2sY60AX",
        "colab_type": "code",
        "outputId": "c6d3e243-91aa-47ab-b5f5-d250e6586c85",
        "colab": {
          "base_uri": "https://localhost:8080/",
          "height": 35
        }
      },
      "source": [
        "vote_model5.score(X_test, y_test)"
      ],
      "execution_count": 0,
      "outputs": [
        {
          "output_type": "execute_result",
          "data": {
            "text/plain": [
              "0.8212290502793296"
            ]
          },
          "metadata": {
            "tags": []
          },
          "execution_count": 177
        }
      ]
    },
    {
      "cell_type": "markdown",
      "metadata": {
        "id": "CSgbv5Vv659u",
        "colab_type": "text"
      },
      "source": [
        "## Conclusion - non-tunned model ensemble\n",
        "\n",
        "for the hard-voting,  its highest performance is \n",
        "ensemble \n",
        "\n",
        "Train : \n",
        "between  0.8974719101123596 ~ 0.9087078651685393\n",
        "$ \\approx $ 89.19 ~ 90.87 %\n",
        "\n",
        "\n",
        "Test : 0.8100558659217877 $\\approx $ 81.00%\n",
        "\n",
        "\n",
        "\n",
        "---\n",
        "\n",
        "for the soft-voting (probability based)\n",
        "vote ensembel (RandomForest, XGBoost) has heighest score as ,\n",
        "\n",
        "Train : 0.9269662921348315  $\\approx $ 92.70%\n",
        "\n",
        "Test : 0.8212290502793296 $\\approx $ 82.12%\n",
        "\n"
      ]
    },
    {
      "cell_type": "markdown",
      "metadata": {
        "id": "p-4TQeYxk5UI",
        "colab_type": "text"
      },
      "source": [
        "## 4-3) Voting Classifier with tunned models\n",
        "\n",
        "For this section, will use the tunned models of\n",
        "* RandomForest\n",
        "* XGBoost\n",
        "\n",
        "Keras Document contains ensemble model with Keras, RandomForest, XGBoost"
      ]
    },
    {
      "cell_type": "markdown",
      "metadata": {
        "id": "PbZ8mEc5CAHm",
        "colab_type": "text"
      },
      "source": [
        "### 4-3-1) Hard Voting"
      ]
    },
    {
      "cell_type": "code",
      "metadata": {
        "id": "74GnntB7lTUS",
        "colab_type": "code",
        "outputId": "39f8ef6c-0809-4552-b592-445f780e8379",
        "colab": {
          "base_uri": "https://localhost:8080/",
          "height": 143
        }
      },
      "source": [
        "xgb_mod = xg_grid.best_estimator_\n",
        "xgb_mod"
      ],
      "execution_count": 0,
      "outputs": [
        {
          "output_type": "execute_result",
          "data": {
            "text/plain": [
              "XGBClassifier(base_score=0.5, booster='gbtree', colsample_bylevel=1,\n",
              "              colsample_bynode=1, colsample_bytree=1, gamma=0,\n",
              "              learning_rate=0.1, max_delta_step=0, max_depth=3,\n",
              "              min_child_weight=7, missing=None, n_estimators=350, n_jobs=1,\n",
              "              nthread=None, objective='binary:logistic', random_state=42,\n",
              "              reg_alpha=0, reg_lambda=1, scale_pos_weight=1, seed=None,\n",
              "              silent=None, subsample=1, verbosity=1)"
            ]
          },
          "metadata": {
            "tags": []
          },
          "execution_count": 196
        }
      ]
    },
    {
      "cell_type": "code",
      "metadata": {
        "id": "UMWhvz55_rWi",
        "colab_type": "code",
        "outputId": "d7cb4fe5-3a0c-4c05-f8cf-d97fbf42f590",
        "colab": {
          "base_uri": "https://localhost:8080/",
          "height": 143
        }
      },
      "source": [
        "rnd_mod = RandomForestClassifier(max_depth=10, min_samples_leaf=3, min_samples_split=10, n_estimators=10, random_state=42)\n",
        "rnd_mod"
      ],
      "execution_count": 0,
      "outputs": [
        {
          "output_type": "execute_result",
          "data": {
            "text/plain": [
              "RandomForestClassifier(bootstrap=True, class_weight=None, criterion='gini',\n",
              "                       max_depth=10, max_features='auto', max_leaf_nodes=None,\n",
              "                       min_impurity_decrease=0.0, min_impurity_split=None,\n",
              "                       min_samples_leaf=3, min_samples_split=10,\n",
              "                       min_weight_fraction_leaf=0.0, n_estimators=10,\n",
              "                       n_jobs=None, oob_score=False, random_state=42, verbose=0,\n",
              "                       warm_start=False)"
            ]
          },
          "metadata": {
            "tags": []
          },
          "execution_count": 197
        }
      ]
    },
    {
      "cell_type": "code",
      "metadata": {
        "id": "lgvsxbXKBZsp",
        "colab_type": "code",
        "colab": {}
      },
      "source": [
        "tunned_vote = VotingClassifier(estimators=[('xgb', xgb_mod), ('rnd',rnd_mod)])"
      ],
      "execution_count": 0,
      "outputs": []
    },
    {
      "cell_type": "code",
      "metadata": {
        "id": "EXBltkI9Bofw",
        "colab_type": "code",
        "outputId": "38e24667-1ab9-4f57-cb45-39f9883d3c4c",
        "colab": {
          "base_uri": "https://localhost:8080/",
          "height": 539
        }
      },
      "source": [
        "tunned_vote.fit(X_train, y_train)"
      ],
      "execution_count": 0,
      "outputs": [
        {
          "output_type": "execute_result",
          "data": {
            "text/plain": [
              "VotingClassifier(estimators=[('xgb',\n",
              "                              XGBClassifier(base_score=0.5, booster='gbtree',\n",
              "                                            colsample_bylevel=1,\n",
              "                                            colsample_bynode=1,\n",
              "                                            colsample_bytree=1, gamma=0,\n",
              "                                            learning_rate=0.1, max_delta_step=0,\n",
              "                                            max_depth=3, min_child_weight=7,\n",
              "                                            missing=None, n_estimators=350,\n",
              "                                            n_jobs=1, nthread=None,\n",
              "                                            objective='binary:logistic',\n",
              "                                            random_state=42, reg_alpha=0,\n",
              "                                            reg_lambda=1, scale_pos_weigh...\n",
              "                                                     class_weight=None,\n",
              "                                                     criterion='gini',\n",
              "                                                     max_depth=10,\n",
              "                                                     max_features='auto',\n",
              "                                                     max_leaf_nodes=None,\n",
              "                                                     min_impurity_decrease=0.0,\n",
              "                                                     min_impurity_split=None,\n",
              "                                                     min_samples_leaf=3,\n",
              "                                                     min_samples_split=10,\n",
              "                                                     min_weight_fraction_leaf=0.0,\n",
              "                                                     n_estimators=10,\n",
              "                                                     n_jobs=None,\n",
              "                                                     oob_score=False,\n",
              "                                                     random_state=42, verbose=0,\n",
              "                                                     warm_start=False))],\n",
              "                 flatten_transform=True, n_jobs=None, voting='hard',\n",
              "                 weights=None)"
            ]
          },
          "metadata": {
            "tags": []
          },
          "execution_count": 193
        }
      ]
    },
    {
      "cell_type": "code",
      "metadata": {
        "id": "N7YtUvBnBqZ3",
        "colab_type": "code",
        "outputId": "75830ba0-f3af-45b3-d3ba-98b83ee6fa18",
        "colab": {
          "base_uri": "https://localhost:8080/",
          "height": 35
        }
      },
      "source": [
        "tunned_vote.score(X_train, y_train)"
      ],
      "execution_count": 0,
      "outputs": [
        {
          "output_type": "execute_result",
          "data": {
            "text/plain": [
              "0.8721910112359551"
            ]
          },
          "metadata": {
            "tags": []
          },
          "execution_count": 194
        }
      ]
    },
    {
      "cell_type": "code",
      "metadata": {
        "id": "_sB42HzHBsa4",
        "colab_type": "code",
        "outputId": "8540feb5-9d8b-4a49-eac5-d61f17aa019a",
        "colab": {
          "base_uri": "https://localhost:8080/",
          "height": 35
        }
      },
      "source": [
        "tunned_vote.score(X_test, y_test)"
      ],
      "execution_count": 0,
      "outputs": [
        {
          "output_type": "execute_result",
          "data": {
            "text/plain": [
              "0.8156424581005587"
            ]
          },
          "metadata": {
            "tags": []
          },
          "execution_count": 195
        }
      ]
    },
    {
      "cell_type": "markdown",
      "metadata": {
        "id": "f10HIZiLCHaH",
        "colab_type": "text"
      },
      "source": [
        "### 4-3-2) Soft Voting"
      ]
    },
    {
      "cell_type": "code",
      "metadata": {
        "id": "nHzIQlrNB-mH",
        "colab_type": "code",
        "colab": {}
      },
      "source": [
        "tunned_vote_soft = VotingClassifier(estimators=[('xgb', xgb_mod), ('rnd',rnd_mod)], voting='soft')"
      ],
      "execution_count": 0,
      "outputs": []
    },
    {
      "cell_type": "code",
      "metadata": {
        "id": "mG4BpppbCNbI",
        "colab_type": "code",
        "outputId": "39a939be-0887-4396-ec3a-cbac4f2da251",
        "colab": {
          "base_uri": "https://localhost:8080/",
          "height": 539
        }
      },
      "source": [
        "tunned_vote_soft.fit(X_train, y_train)"
      ],
      "execution_count": 0,
      "outputs": [
        {
          "output_type": "execute_result",
          "data": {
            "text/plain": [
              "VotingClassifier(estimators=[('xgb',\n",
              "                              XGBClassifier(base_score=0.5, booster='gbtree',\n",
              "                                            colsample_bylevel=1,\n",
              "                                            colsample_bynode=1,\n",
              "                                            colsample_bytree=1, gamma=0,\n",
              "                                            learning_rate=0.1, max_delta_step=0,\n",
              "                                            max_depth=3, min_child_weight=7,\n",
              "                                            missing=None, n_estimators=350,\n",
              "                                            n_jobs=1, nthread=None,\n",
              "                                            objective='binary:logistic',\n",
              "                                            random_state=42, reg_alpha=0,\n",
              "                                            reg_lambda=1, scale_pos_weigh...\n",
              "                                                     class_weight=None,\n",
              "                                                     criterion='gini',\n",
              "                                                     max_depth=10,\n",
              "                                                     max_features='auto',\n",
              "                                                     max_leaf_nodes=None,\n",
              "                                                     min_impurity_decrease=0.0,\n",
              "                                                     min_impurity_split=None,\n",
              "                                                     min_samples_leaf=3,\n",
              "                                                     min_samples_split=10,\n",
              "                                                     min_weight_fraction_leaf=0.0,\n",
              "                                                     n_estimators=10,\n",
              "                                                     n_jobs=None,\n",
              "                                                     oob_score=False,\n",
              "                                                     random_state=42, verbose=0,\n",
              "                                                     warm_start=False))],\n",
              "                 flatten_transform=True, n_jobs=None, voting='soft',\n",
              "                 weights=None)"
            ]
          },
          "metadata": {
            "tags": []
          },
          "execution_count": 200
        }
      ]
    },
    {
      "cell_type": "code",
      "metadata": {
        "id": "CMCQKJMLCRUg",
        "colab_type": "code",
        "outputId": "72e7f252-ce67-439d-ef2a-c49bc96d4499",
        "colab": {
          "base_uri": "https://localhost:8080/",
          "height": 35
        }
      },
      "source": [
        "tunned_vote_soft.score(X_train, y_train)"
      ],
      "execution_count": 0,
      "outputs": [
        {
          "output_type": "execute_result",
          "data": {
            "text/plain": [
              "0.8778089887640449"
            ]
          },
          "metadata": {
            "tags": []
          },
          "execution_count": 201
        }
      ]
    },
    {
      "cell_type": "code",
      "metadata": {
        "id": "QxdNmroiCUIY",
        "colab_type": "code",
        "outputId": "c751e143-bca5-4b79-d491-6ce1f123ebbd",
        "colab": {
          "base_uri": "https://localhost:8080/",
          "height": 35
        }
      },
      "source": [
        "tunned_vote_soft.score(X_test, y_test)"
      ],
      "execution_count": 0,
      "outputs": [
        {
          "output_type": "execute_result",
          "data": {
            "text/plain": [
              "0.7932960893854749"
            ]
          },
          "metadata": {
            "tags": []
          },
          "execution_count": 202
        }
      ]
    },
    {
      "cell_type": "markdown",
      "metadata": {
        "id": "FoeSU-FfB6q8",
        "colab_type": "text"
      },
      "source": [
        "## Conclusion - tunned model ensemble\n",
        "\n",
        "for the hard-voting,  its highest performance is \n",
        "ensemble \n",
        "\n",
        "Train : 0.8721910112359551 $\\approx $ 87.22 %\n",
        "\n",
        "\n",
        "Test : 0.8156424581005587 $\\approx $ 81.56%\n",
        "\n",
        "\n",
        "\n",
        "---\n",
        "\n",
        "for the soft-voting (probability based)\n",
        "vote ensembel (RandomForest, XGBoost) has heighest score as ,\n",
        "\n",
        "Train : 0.8778089887640449  $\\approx $ 87.78%\n",
        "\n",
        "Test : 0.7932960893854749 $\\approx $ 79.33%"
      ]
    }
  ]
}